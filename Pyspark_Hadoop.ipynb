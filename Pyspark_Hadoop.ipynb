{
  "nbformat": 4,
  "nbformat_minor": 0,
  "metadata": {
    "colab": {
      "provenance": [],
      "authorship_tag": "ABX9TyPnxmWHAc1Yt3OrPqoDMRIS",
      "include_colab_link": true
    },
    "kernelspec": {
      "name": "python3",
      "display_name": "Python 3"
    },
    "language_info": {
      "name": "python"
    }
  },
  "cells": [
    {
      "cell_type": "markdown",
      "metadata": {
        "id": "view-in-github",
        "colab_type": "text"
      },
      "source": [
        "<a href=\"https://colab.research.google.com/github/Vasugi2003/Big-Data-Analytics/blob/main/Pyspark_Hadoop.ipynb\" target=\"_parent\"><img src=\"https://colab.research.google.com/assets/colab-badge.svg\" alt=\"Open In Colab\"/></a>"
      ]
    },
    {
      "cell_type": "code",
      "execution_count": null,
      "metadata": {
        "id": "j8jkMXsoW0Lm",
        "colab": {
          "base_uri": "https://localhost:8080/"
        },
        "outputId": "f9261cd0-3cf6-4919-e991-601d1731ae91"
      },
      "outputs": [
        {
          "output_type": "stream",
          "name": "stdout",
          "text": [
            "\r0% [Working]\r            \rGet:1 https://cloud.r-project.org/bin/linux/ubuntu jammy-cran40/ InRelease [3,626 B]\n",
            "Hit:2 https://developer.download.nvidia.com/compute/cuda/repos/ubuntu2204/x86_64  InRelease\n",
            "Get:3 http://security.ubuntu.com/ubuntu jammy-security InRelease [110 kB]\n",
            "Hit:4 http://archive.ubuntu.com/ubuntu jammy InRelease\n",
            "Get:5 http://archive.ubuntu.com/ubuntu jammy-updates InRelease [119 kB]\n",
            "Hit:6 https://ppa.launchpadcontent.net/c2d4u.team/c2d4u4.0+/ubuntu jammy InRelease\n",
            "Get:7 http://security.ubuntu.com/ubuntu jammy-security/restricted amd64 Packages [849 kB]\n",
            "Get:8 http://archive.ubuntu.com/ubuntu jammy-backports InRelease [109 kB]\n",
            "Get:9 http://security.ubuntu.com/ubuntu jammy-security/main amd64 Packages [834 kB]\n",
            "Get:10 http://archive.ubuntu.com/ubuntu jammy-updates/multiverse amd64 Packages [49.9 kB]\n",
            "Hit:11 https://ppa.launchpadcontent.net/deadsnakes/ppa/ubuntu jammy InRelease\n",
            "Get:12 http://archive.ubuntu.com/ubuntu jammy-updates/universe amd64 Packages [1,235 kB]\n",
            "Hit:13 https://ppa.launchpadcontent.net/graphics-drivers/ppa/ubuntu jammy InRelease\n",
            "Get:14 http://archive.ubuntu.com/ubuntu jammy-updates/main amd64 Packages [1,103 kB]\n",
            "Hit:15 https://ppa.launchpadcontent.net/ubuntugis/ppa/ubuntu jammy InRelease\n",
            "Fetched 4,412 kB in 3s (1,694 kB/s)\n",
            "Reading package lists... Done\n"
          ]
        }
      ],
      "source": [
        "!apt-get update"
      ]
    },
    {
      "cell_type": "code",
      "source": [
        "!apt-get install openjdk-8-jdk-headless -qq> /dev/null"
      ],
      "metadata": {
        "id": "yAU_X33jXs3H"
      },
      "execution_count": null,
      "outputs": []
    },
    {
      "cell_type": "code",
      "source": [
        "!wget -q https://archive.apache.org/dist/spark/spark-3.0.0/spark-3.0.0-bin-hadoop3.2.tgz\n"
      ],
      "metadata": {
        "id": "Po9nrk91bhPV"
      },
      "execution_count": null,
      "outputs": []
    },
    {
      "cell_type": "code",
      "source": [
        "!tar xf spark-3.0.0-bin-hadoop3.2.tgz"
      ],
      "metadata": {
        "id": "qM1rEQuNXs_R"
      },
      "execution_count": null,
      "outputs": []
    },
    {
      "cell_type": "code",
      "source": [
        "!pip install pyspark\n"
      ],
      "metadata": {
        "colab": {
          "base_uri": "https://localhost:8080/"
        },
        "id": "icB5ggEkXtDS",
        "outputId": "50b45eb9-4cdb-42b6-f568-06c769cd81f8"
      },
      "execution_count": null,
      "outputs": [
        {
          "output_type": "stream",
          "name": "stdout",
          "text": [
            "Collecting pyspark\n",
            "  Downloading pyspark-3.4.1.tar.gz (310.8 MB)\n",
            "\u001b[2K     \u001b[90m━━━━━━━━━━━━━━━━━━━━━━━━━━━━━━━━━━━━━━━\u001b[0m \u001b[32m310.8/310.8 MB\u001b[0m \u001b[31m2.9 MB/s\u001b[0m eta \u001b[36m0:00:00\u001b[0m\n",
            "\u001b[?25h  Preparing metadata (setup.py) ... \u001b[?25l\u001b[?25hdone\n",
            "Requirement already satisfied: py4j==0.10.9.7 in /usr/local/lib/python3.10/dist-packages (from pyspark) (0.10.9.7)\n",
            "Building wheels for collected packages: pyspark\n",
            "  Building wheel for pyspark (setup.py) ... \u001b[?25l\u001b[?25hdone\n",
            "  Created wheel for pyspark: filename=pyspark-3.4.1-py2.py3-none-any.whl size=311285397 sha256=a7ba2047d361bffde2f540e9986a7424aa787ffabd486efa36ea93f478eea110\n",
            "  Stored in directory: /root/.cache/pip/wheels/0d/77/a3/ff2f74cc9ab41f8f594dabf0579c2a7c6de920d584206e0834\n",
            "Successfully built pyspark\n",
            "Installing collected packages: pyspark\n",
            "Successfully installed pyspark-3.4.1\n"
          ]
        }
      ]
    },
    {
      "cell_type": "code",
      "source": [
        "!ls"
      ],
      "metadata": {
        "colab": {
          "base_uri": "https://localhost:8080/"
        },
        "id": "hrhdxt2SXtHW",
        "outputId": "362c5536-6432-423a-a5a2-22084668f2ae"
      },
      "execution_count": null,
      "outputs": [
        {
          "output_type": "stream",
          "name": "stdout",
          "text": [
            "sample_data  spark-3.0.0-bin-hadoop3.2\tspark-3.0.0-bin-hadoop3.2.tgz\n"
          ]
        }
      ]
    },
    {
      "cell_type": "code",
      "source": [
        "from pyspark.sql import SparkSession\n",
        "sc = SparkSession.builder.master(\"local[1]\").appName(\"SparkByExample.com\").getOrCreate()"
      ],
      "metadata": {
        "id": "zEkluE7KaYug"
      },
      "execution_count": null,
      "outputs": []
    },
    {
      "cell_type": "code",
      "source": [
        "s = sc.sparkContext\n",
        "data = [1,2,3,4,5,6,7,8,9,10,11,12]\n",
        "rdd = s.parallelize(data)\n",
        "print(rdd.count())"
      ],
      "metadata": {
        "colab": {
          "base_uri": "https://localhost:8080/"
        },
        "id": "PrLaBUCaXtKP",
        "outputId": "0f02ebb5-6411-48da-b02f-b5f21b846dc9"
      },
      "execution_count": null,
      "outputs": [
        {
          "output_type": "stream",
          "name": "stdout",
          "text": [
            "12\n"
          ]
        }
      ]
    },
    {
      "cell_type": "code",
      "source": [
        "print(rdd.collect())"
      ],
      "metadata": {
        "colab": {
          "base_uri": "https://localhost:8080/"
        },
        "id": "LsgxmmBUXtOD",
        "outputId": "3a68c605-7248-4955-e798-d165a7797d6b"
      },
      "execution_count": null,
      "outputs": [
        {
          "output_type": "stream",
          "name": "stdout",
          "text": [
            "[1, 2, 3, 4, 5, 6, 7, 8, 9, 10, 11, 12]\n"
          ]
        }
      ]
    },
    {
      "cell_type": "code",
      "source": [
        "#action\n",
        "rdd.first()"
      ],
      "metadata": {
        "colab": {
          "base_uri": "https://localhost:8080/"
        },
        "id": "GQTuEkR4XtRa",
        "outputId": "3a499db5-d00e-4ad2-c65e-2e82c40793e6"
      },
      "execution_count": null,
      "outputs": [
        {
          "output_type": "execute_result",
          "data": {
            "text/plain": [
              "1"
            ]
          },
          "metadata": {},
          "execution_count": 10
        }
      ]
    },
    {
      "cell_type": "code",
      "source": [
        "#action\n",
        "print(rdd.take(10))"
      ],
      "metadata": {
        "id": "Lg8nWqLaXtXi",
        "colab": {
          "base_uri": "https://localhost:8080/"
        },
        "outputId": "09371bbe-4395-4e4c-eda6-d41975ab3e3a"
      },
      "execution_count": null,
      "outputs": [
        {
          "output_type": "stream",
          "name": "stdout",
          "text": [
            "[1, 2, 3, 4, 5, 6, 7, 8, 9, 10]\n"
          ]
        }
      ]
    },
    {
      "cell_type": "code",
      "source": [
        "s = sc.sparkContext\n",
        "data = [1,2,3,4,5,1000]\n",
        "rdd = s.parallelize(data)\n",
        "print(rdd.reduce(lambda x,y : x+y))\n",
        "print(rdd.reduce(lambda x,y : x-y))\n",
        "print(rdd.reduce(lambda x,y : x*y))\n",
        "print(rdd.reduce(lambda x,y : x/y))"
      ],
      "metadata": {
        "colab": {
          "base_uri": "https://localhost:8080/"
        },
        "id": "LeWNgvFpfdzk",
        "outputId": "ff7457ed-aaf2-4dcc-f915-599b5784eb3d"
      },
      "execution_count": null,
      "outputs": [
        {
          "output_type": "stream",
          "name": "stdout",
          "text": [
            "1015\n",
            "-1013\n",
            "120000\n",
            "8.333333333333334e-06\n"
          ]
        }
      ]
    },
    {
      "cell_type": "code",
      "source": [
        "#SAVE AS TEXT FILE\n",
        "s = sc.sparkContext\n",
        "save_rdd = s.parallelize([1,2,3,4,5])\n",
        "save_rdd.saveAsTextFile('file3.txt')"
      ],
      "metadata": {
        "id": "wg33qdw6fd4D"
      },
      "execution_count": null,
      "outputs": []
    },
    {
      "cell_type": "code",
      "source": [
        "#MAP\n",
        "my_rdd = s.parallelize([1,2,3,4])\n",
        "print(my_rdd.map(lambda x:x +10))\n",
        "print(my_rdd.map(lambda x:x +10).collect())"
      ],
      "metadata": {
        "colab": {
          "base_uri": "https://localhost:8080/"
        },
        "id": "XDr9lHc0fd8L",
        "outputId": "898dc485-98a0-4d9a-b5a3-04a8312d7557"
      },
      "execution_count": null,
      "outputs": [
        {
          "output_type": "stream",
          "name": "stdout",
          "text": [
            "PythonRDD[14] at RDD at PythonRDD.scala:53\n",
            "[11, 12, 13, 14]\n"
          ]
        }
      ]
    },
    {
      "cell_type": "code",
      "source": [
        "#filter\n",
        "\n",
        "filter_rdd = s.parallelize([10,12,14,16,45,7])\n",
        "print(filter_rdd.filter(lambda x : x%2 ==0).collect())"
      ],
      "metadata": {
        "id": "9TF2RBFvfeAE",
        "colab": {
          "base_uri": "https://localhost:8080/"
        },
        "outputId": "3798a043-9e6c-43f0-ac79-17a5298159fd"
      },
      "execution_count": null,
      "outputs": [
        {
          "output_type": "stream",
          "name": "stdout",
          "text": [
            "[10, 12, 14, 16]\n"
          ]
        }
      ]
    },
    {
      "cell_type": "code",
      "source": [
        "filter_rdd2 = s.parallelize(['abi','subha','anu','krithi','sam'])\n",
        "print(filter_rdd2.filter(lambda x : x.startswith('a')).collect())"
      ],
      "metadata": {
        "id": "GSnlXXK_kmOT",
        "colab": {
          "base_uri": "https://localhost:8080/"
        },
        "outputId": "0713fdfa-cb12-4ea4-f400-eeb9b4e65cb6"
      },
      "execution_count": null,
      "outputs": [
        {
          "output_type": "stream",
          "name": "stdout",
          "text": [
            "['abi', 'anu']\n"
          ]
        }
      ]
    },
    {
      "cell_type": "code",
      "source": [
        "#union\n",
        "union_inp = s.parallelize([1,2,3,4,55,68])\n",
        "union_rdd_1 = union_inp.filter(lambda x : x%2==0)\n",
        "union_rdd_2 = union_inp.filter(lambda x: x%3==0)\n",
        "print(union_rdd_1.union(union_rdd_2).collect())"
      ],
      "metadata": {
        "id": "7V_6PZV1kmYT",
        "colab": {
          "base_uri": "https://localhost:8080/"
        },
        "outputId": "f77e9aeb-c6af-4aed-bf30-7498434c7051"
      },
      "execution_count": null,
      "outputs": [
        {
          "output_type": "stream",
          "name": "stdout",
          "text": [
            "[2, 4, 68, 3]\n"
          ]
        }
      ]
    },
    {
      "cell_type": "code",
      "source": [
        "#intersection\n",
        "union_inp = s.parallelize([1,2,3,4,6,55,68])\n",
        "rdd_1 = union_inp.filter(lambda x : x%2==0)\n",
        "rdd_2 = union_inp.filter(lambda x: x%3==0)\n",
        "print(rdd_1.subtract(rdd_2).collect())"
      ],
      "metadata": {
        "colab": {
          "base_uri": "https://localhost:8080/"
        },
        "id": "YXspCqbWqglk",
        "outputId": "189c5ad6-89a2-4b57-9211-dc80034c058a"
      },
      "execution_count": null,
      "outputs": [
        {
          "output_type": "stream",
          "name": "stdout",
          "text": [
            "[2, 4, 68]\n"
          ]
        }
      ]
    },
    {
      "cell_type": "code",
      "source": [
        "#FILTER MAP\n",
        "flatmap_rdd = s.parallelize([\"hey there\", \"welcome to pyspark RDD and spark learning\"])\n",
        "(flatmap_rdd.flatMap(lambda x:x.split(\" \")).collect())"
      ],
      "metadata": {
        "colab": {
          "base_uri": "https://localhost:8080/"
        },
        "id": "s2WPKy2oqgq6",
        "outputId": "04377ef7-23c4-4108-ee89-d40b4d012f5e"
      },
      "execution_count": null,
      "outputs": [
        {
          "output_type": "execute_result",
          "data": {
            "text/plain": [
              "['hey', 'there', 'welcome', 'to', 'pyspark', 'RDD', 'and', 'spark', 'learning']"
            ]
          },
          "metadata": {},
          "execution_count": 19
        }
      ]
    },
    {
      "cell_type": "code",
      "source": [
        "#mapValues : applies function to values in each key pair\n",
        "\n",
        "pair_rdd = s.parallelize([(1,'apple'),(2,'banana'),(3,'mango'),(4,'grapes')])\n",
        "\n",
        "def append_fruit(value):\n",
        "  return value + ' fruit'\n",
        "\n",
        "modified_rdd = pair_rdd.mapValues(append_fruit)\n",
        "result = modified_rdd.collect()\n",
        "print(result)"
      ],
      "metadata": {
        "colab": {
          "base_uri": "https://localhost:8080/"
        },
        "id": "Wg7TfhWiqgwr",
        "outputId": "7b86b099-4207-495d-db89-f6b580ce87c5"
      },
      "execution_count": null,
      "outputs": [
        {
          "output_type": "stream",
          "name": "stdout",
          "text": [
            "[(1, 'apple fruit'), (2, 'banana fruit'), (3, 'mango fruit'), (4, 'grapes fruit')]\n"
          ]
        }
      ]
    },
    {
      "cell_type": "code",
      "source": [
        "#PYSPARK PAIR RDD OPERATIONS\n",
        "\n",
        "\n",
        "m = [('abi',99),(\"banu\",89),(\"geeth\",90)]\n",
        "s.parallelize(m).collect()"
      ],
      "metadata": {
        "colab": {
          "base_uri": "https://localhost:8080/"
        },
        "id": "W3esPPUyvMBq",
        "outputId": "e7ea2dea-7525-45bf-fa6e-aad028e53e83"
      },
      "execution_count": null,
      "outputs": [
        {
          "output_type": "execute_result",
          "data": {
            "text/plain": [
              "[('abi', 99), ('banu', 89), ('geeth', 90)]"
            ]
          },
          "metadata": {},
          "execution_count": 21
        }
      ]
    },
    {
      "cell_type": "code",
      "source": [
        "m_rdd = s.parallelize([('abi',99),(\"banu\",89),(\"geeth\",90),('abi',77),('geeth',80)])\n",
        "print(m_rdd.reduceByKey(lambda x,y:x+y).collect())"
      ],
      "metadata": {
        "colab": {
          "base_uri": "https://localhost:8080/"
        },
        "id": "YBCFmPJxxKCq",
        "outputId": "5af15109-0da5-4a9b-90fd-8f30a049f1cd"
      },
      "execution_count": null,
      "outputs": [
        {
          "output_type": "stream",
          "name": "stdout",
          "text": [
            "[('abi', 176), ('banu', 89), ('geeth', 170)]\n"
          ]
        }
      ]
    },
    {
      "cell_type": "code",
      "source": [
        "m_rdd = s.parallelize([('abi',99),(\"banu\",89),(\"geeth\",90),('abi',77),('geeth',80)])\n",
        "print(m_rdd.sortByKey(ascending=True).collect())"
      ],
      "metadata": {
        "colab": {
          "base_uri": "https://localhost:8080/"
        },
        "id": "MTHTCz8UxKGh",
        "outputId": "c94da858-d896-495e-ddce-dca2b24c7fd3"
      },
      "execution_count": null,
      "outputs": [
        {
          "output_type": "stream",
          "name": "stdout",
          "text": [
            "[('abi', 99), ('abi', 77), ('banu', 89), ('geeth', 90), ('geeth', 80)]\n"
          ]
        }
      ]
    },
    {
      "cell_type": "code",
      "source": [
        "#gropu by\n",
        "m_rdd = s.parallelize([('abi',99),(\"banu\",89),(\"geeth\",90),('abi',77),('geeth',80)])\n",
        "d_rdd = m_rdd.groupByKey().collect()\n",
        "print(d_rdd)\n",
        "for key, value in d_rdd:\n",
        "  print(key, list(value))"
      ],
      "metadata": {
        "colab": {
          "base_uri": "https://localhost:8080/"
        },
        "id": "ZRa6HBOBxKJ0",
        "outputId": "4a9211c2-5d7d-4f50-82c3-33282a1e6dbb"
      },
      "execution_count": null,
      "outputs": [
        {
          "output_type": "stream",
          "name": "stdout",
          "text": [
            "[('abi', <pyspark.resultiterable.ResultIterable object at 0x7f702c19a7a0>), ('banu', <pyspark.resultiterable.ResultIterable object at 0x7f6ffa6606d0>), ('geeth', <pyspark.resultiterable.ResultIterable object at 0x7f6ffa6606a0>)]\n",
            "abi [99, 77]\n",
            "banu [89]\n",
            "geeth [90, 80]\n"
          ]
        }
      ]
    },
    {
      "cell_type": "code",
      "source": [
        "#count by key\n",
        "maq_rdd = s.parallelize([('abi',99),(\"banu\",89),(\"geeth\",90),('abi',77),('geeth',80)])\n",
        "d_rdd = maq_rdd.countByKey().items()\n",
        "print(d_rdd)\n",
        "for key, value in d_rdd:\n",
        "  print(key, value)"
      ],
      "metadata": {
        "id": "mZLrLCuHxKM6",
        "colab": {
          "base_uri": "https://localhost:8080/"
        },
        "outputId": "b81f4420-23ae-42e7-afde-8ee177f861ad"
      },
      "execution_count": null,
      "outputs": [
        {
          "output_type": "stream",
          "name": "stdout",
          "text": [
            "dict_items([('abi', 2), ('banu', 1), ('geeth', 2)])\n",
            "abi 2\n",
            "banu 1\n",
            "geeth 2\n"
          ]
        }
      ]
    },
    {
      "cell_type": "code",
      "source": [],
      "metadata": {
        "id": "t9BH2EKsxKPq"
      },
      "execution_count": null,
      "outputs": []
    }
  ]
}