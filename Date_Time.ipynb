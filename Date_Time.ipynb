{
  "nbformat": 4,
  "nbformat_minor": 0,
  "metadata": {
    "colab": {
      "provenance": [],
      "include_colab_link": true
    },
    "kernelspec": {
      "name": "python3",
      "display_name": "Python 3"
    },
    "language_info": {
      "name": "python"
    }
  },
  "cells": [
    {
      "cell_type": "markdown",
      "metadata": {
        "id": "view-in-github",
        "colab_type": "text"
      },
      "source": [
        "<a href=\"https://colab.research.google.com/github/Vasugi2003/Big-Data-Analytics/blob/main/Date_Time.ipynb\" target=\"_parent\"><img src=\"https://colab.research.google.com/assets/colab-badge.svg\" alt=\"Open In Colab\"/></a>"
      ]
    },
    {
      "cell_type": "code",
      "execution_count": null,
      "metadata": {
        "colab": {
          "base_uri": "https://localhost:8080/"
        },
        "id": "mU6EmiS8OlcR",
        "outputId": "7178ea8c-e766-4ae3-8c22-2bd55d819fd3"
      },
      "outputs": [
        {
          "output_type": "stream",
          "name": "stdout",
          "text": [
            "Collecting pyspark\n",
            "  Downloading pyspark-3.5.0.tar.gz (316.9 MB)\n",
            "\u001b[2K     \u001b[90m━━━━━━━━━━━━━━━━━━━━━━━━━━━━━━━━━━━━━━━\u001b[0m \u001b[32m316.9/316.9 MB\u001b[0m \u001b[31m4.7 MB/s\u001b[0m eta \u001b[36m0:00:00\u001b[0m\n",
            "\u001b[?25h  Preparing metadata (setup.py) ... \u001b[?25l\u001b[?25hdone\n",
            "Requirement already satisfied: py4j==0.10.9.7 in /usr/local/lib/python3.10/dist-packages (from pyspark) (0.10.9.7)\n",
            "Building wheels for collected packages: pyspark\n",
            "  Building wheel for pyspark (setup.py) ... \u001b[?25l\u001b[?25hdone\n",
            "  Created wheel for pyspark: filename=pyspark-3.5.0-py2.py3-none-any.whl size=317425344 sha256=b8c532a68794a6bc544ccd6a72d5013a4f2d8d49ebc715d598aae78a178d65c7\n",
            "  Stored in directory: /root/.cache/pip/wheels/41/4e/10/c2cf2467f71c678cfc8a6b9ac9241e5e44a01940da8fbb17fc\n",
            "Successfully built pyspark\n",
            "Installing collected packages: pyspark\n",
            "Successfully installed pyspark-3.5.0\n"
          ]
        }
      ],
      "source": [
        "!pip install pyspark"
      ]
    },
    {
      "cell_type": "code",
      "source": [
        "from pyspark.sql import SparkSession\n",
        "\n",
        "# Step 2: Create a Spark session\n",
        "spark = SparkSession.builder.appName(\"PySpark_Date_Tim_Example\").getOrCreate()\n"
      ],
      "metadata": {
        "id": "RAr6kerwO4yG"
      },
      "execution_count": null,
      "outputs": []
    },
    {
      "cell_type": "code",
      "source": [
        "from pyspark.sql.functions import *"
      ],
      "metadata": {
        "id": "udT_ea3zRReS"
      },
      "execution_count": null,
      "outputs": []
    },
    {
      "cell_type": "code",
      "source": [
        "data=[[\"1\",\"2020-02-01\"],[\"2\",\"2019-03-01\"],[\"3\",\"2021-03-01\"]]\n",
        "df=spark.createDataFrame(data,[\"id\",\"input\"])\n",
        "df.show()"
      ],
      "metadata": {
        "id": "gjqGYqZeRYR1",
        "colab": {
          "base_uri": "https://localhost:8080/"
        },
        "outputId": "5ec11af8-4013-452b-84da-8fca3c869c33"
      },
      "execution_count": null,
      "outputs": [
        {
          "output_type": "stream",
          "name": "stdout",
          "text": [
            "+---+----------+\n",
            "| id|     input|\n",
            "+---+----------+\n",
            "|  1|2020-02-01|\n",
            "|  2|2019-03-01|\n",
            "|  3|2021-03-01|\n",
            "+---+----------+\n",
            "\n"
          ]
        }
      ]
    },
    {
      "cell_type": "code",
      "source": [
        "#current_date()\n",
        "df.select(current_date().alias(\"current_date\")).show(1)"
      ],
      "metadata": {
        "colab": {
          "base_uri": "https://localhost:8080/"
        },
        "id": "crvn4M0sRlx3",
        "outputId": "7fa0bd7b-4148-4620-976c-b36bfe3e2e3d"
      },
      "execution_count": null,
      "outputs": [
        {
          "output_type": "stream",
          "name": "stdout",
          "text": [
            "+------------+\n",
            "|current_date|\n",
            "+------------+\n",
            "|  2023-10-02|\n",
            "+------------+\n",
            "only showing top 1 row\n",
            "\n"
          ]
        }
      ]
    },
    {
      "cell_type": "code",
      "source": [
        "#date_format()\n",
        "df.select(col(\"input\"),date_format(col(\"input\"), \"MM-dd-yyyy\")\\\n",
        "          .alias(\"date_format\")).show()"
      ],
      "metadata": {
        "colab": {
          "base_uri": "https://localhost:8080/"
        },
        "id": "F4vkB1eHRu2r",
        "outputId": "2ddbda8d-12c2-4cef-db7e-0ea48d6cd61f"
      },
      "execution_count": null,
      "outputs": [
        {
          "output_type": "stream",
          "name": "stdout",
          "text": [
            "+----------+-----------+\n",
            "|     input|date_format|\n",
            "+----------+-----------+\n",
            "|2020-02-01| 02-01-2020|\n",
            "|2019-03-01| 03-01-2019|\n",
            "|2021-03-01| 03-01-2021|\n",
            "+----------+-----------+\n",
            "\n"
          ]
        }
      ]
    },
    {
      "cell_type": "code",
      "source": [
        "\n",
        "#Converts the column into `DateType` by casting rules to `DateType`.\n",
        "#to_date()\n",
        "df.select(col(\"input\"),to_date(col(\"input\"), \"yyyy-MM-dd\")\\\n",
        "          .alias(\"to_date\")).show()\n"
      ],
      "metadata": {
        "colab": {
          "base_uri": "https://localhost:8080/"
        },
        "id": "COhggkjYSES5",
        "outputId": "626c8229-3ce6-4c3d-efdb-986f0c2d42cb"
      },
      "execution_count": null,
      "outputs": [
        {
          "output_type": "stream",
          "name": "stdout",
          "text": [
            "+----------+----------+\n",
            "|     input|   to_date|\n",
            "+----------+----------+\n",
            "|2020-02-01|2020-02-01|\n",
            "|2019-03-01|2019-03-01|\n",
            "|2021-03-01|2021-03-01|\n",
            "+----------+----------+\n",
            "\n"
          ]
        }
      ]
    },
    {
      "cell_type": "code",
      "source": [
        "\t#Returns the number of days from `start` to `end`.\n",
        "\n",
        "#datediff()\n",
        "df.select(col(\"input\"), datediff(current_date(),col(\"input\"))\\\n",
        "          .alias(\"datediff\")).show()"
      ],
      "metadata": {
        "colab": {
          "base_uri": "https://localhost:8080/"
        },
        "id": "uqcXZ4gLSPE2",
        "outputId": "24bb4b70-291e-4341-b4e8-694fd0803094"
      },
      "execution_count": null,
      "outputs": [
        {
          "output_type": "stream",
          "name": "stdout",
          "text": [
            "+----------+--------+\n",
            "|     input|datediff|\n",
            "+----------+--------+\n",
            "|2020-02-01|    1339|\n",
            "|2019-03-01|    1676|\n",
            "|2021-03-01|     945|\n",
            "+----------+--------+\n",
            "\n"
          ]
        }
      ]
    },
    {
      "cell_type": "code",
      "source": [
        "#Returns number of months between dates `end` and `start`. If `roundOff` is set to true, the result is rounded off to 8 digits; it is not rounded otherwise\n",
        "\n",
        "#months_between()\n",
        "df.select(col(\"input\"),months_between(current_date(),col(\"input\"))\\\n",
        "          .alias(\"months_between\")).show()"
      ],
      "metadata": {
        "colab": {
          "base_uri": "https://localhost:8080/"
        },
        "id": "_uhRymPiSUdi",
        "outputId": "72e0be8b-7be0-4ad5-9965-fc5581ce5737"
      },
      "execution_count": null,
      "outputs": [
        {
          "output_type": "stream",
          "name": "stdout",
          "text": [
            "+----------+--------------+\n",
            "|     input|months_between|\n",
            "+----------+--------------+\n",
            "|2020-02-01|   44.03225806|\n",
            "|2019-03-01|   55.03225806|\n",
            "|2021-03-01|   31.03225806|\n",
            "+----------+--------------+\n",
            "\n"
          ]
        }
      ]
    },
    {
      "cell_type": "code",
      "source": [
        "#trunc()\n",
        "df.select(col(\"input\"),\\\n",
        "          trunc(col(\"input\"),\"Month\").alias(\"Month_Trunc\"),\\\n",
        "          trunc(col(\"input\"),\"Year\").alias(\"Month_Year\"),\\\n",
        "          trunc(col(\"input\"),\"Month\").alias(\"Month_Trunc\")).show()"
      ],
      "metadata": {
        "colab": {
          "base_uri": "https://localhost:8080/"
        },
        "id": "L1iNvD0WSZHR",
        "outputId": "c756b886-02e6-4355-e5e9-9726ae3b4669"
      },
      "execution_count": null,
      "outputs": [
        {
          "output_type": "stream",
          "name": "stdout",
          "text": [
            "+----------+-----------+----------+-----------+\n",
            "|     input|Month_Trunc|Month_Year|Month_Trunc|\n",
            "+----------+-----------+----------+-----------+\n",
            "|2020-02-01| 2020-02-01|2020-01-01| 2020-02-01|\n",
            "|2019-03-01| 2019-03-01|2019-01-01| 2019-03-01|\n",
            "|2021-03-01| 2021-03-01|2021-01-01| 2021-03-01|\n",
            "+----------+-----------+----------+-----------+\n",
            "\n"
          ]
        }
      ]
    },
    {
      "cell_type": "code",
      "source": [
        "from pyspark.sql.functions import col, trunc\n",
        "from pyspark.sql.types import StringType, StructType, StructField\n",
        "# Sample data with explicit schema\n",
        "data = [(\"2023-07-15\",), (\"2023-08-20\",), (\"2023-10-03\",)]\n",
        "schema = StructType([StructField(\"input\", StringType(), True)])\n",
        "# Create a DataFrame with the defined schema\n",
        "df = spark.createDataFrame(data, schema)\n",
        "\n",
        "# Select columns and truncate the \"input\" column to month and year\n",
        "result_df = df.select(\n",
        "    col(\"input\"),\n",
        "    trunc(col(\"input\"), \"Month\").alias(\"Month_Trunc\"),\n",
        "    trunc(col(\"input\"), \"Year\").alias(\"Month_Year\")\n",
        ")\n",
        "# Show the result\n",
        "result_df.show()"
      ],
      "metadata": {
        "colab": {
          "base_uri": "https://localhost:8080/"
        },
        "id": "cW2ewru7W2CY",
        "outputId": "bd534c73-272c-4997-a468-208933608635"
      },
      "execution_count": null,
      "outputs": [
        {
          "output_type": "stream",
          "name": "stdout",
          "text": [
            "+----------+-----------+----------+-------------+\n",
            "|     input|Month_Trunc|Month_Year|Month_Trunc_2|\n",
            "+----------+-----------+----------+-------------+\n",
            "|2023-07-15| 2023-07-01|2023-01-01|   2023-07-01|\n",
            "|2023-08-20| 2023-08-01|2023-01-01|   2023-08-01|\n",
            "|2023-10-03| 2023-10-01|2023-01-01|   2023-10-01|\n",
            "+----------+-----------+----------+-------------+\n",
            "\n"
          ]
        }
      ]
    },
    {
      "cell_type": "code",
      "source": [
        "#add_months() , date_add(), date_sub()\n",
        "df.select(col(\"input\"), \\\n",
        "          add_months(col(\"input\"),3).alias(\"add_months\"), \\\n",
        "          add_months(col(\"input\"),-3).alias(\"sub_months\"), \\\n",
        "          date_add(col(\"input\"),4).alias(\"date_add\"), \\\n",
        "          date_sub(col(\"input\"),4).alias(\"date_sub\")).show()\n"
      ],
      "metadata": {
        "colab": {
          "base_uri": "https://localhost:8080/"
        },
        "id": "UvY_aUqmXWKm",
        "outputId": "8bb41516-d383-4fc4-b3d2-6b2fb39435cc"
      },
      "execution_count": null,
      "outputs": [
        {
          "output_type": "stream",
          "name": "stdout",
          "text": [
            "+----------+----------+----------+----------+----------+\n",
            "|     input|add_months|sub_months|  date_add|  date_sub|\n",
            "+----------+----------+----------+----------+----------+\n",
            "|2023-07-15|2023-10-15|2023-04-15|2023-07-19|2023-07-11|\n",
            "|2023-08-20|2023-11-20|2023-05-20|2023-08-24|2023-08-16|\n",
            "|2023-10-03|2024-01-03|2023-07-03|2023-10-07|2023-09-29|\n",
            "+----------+----------+----------+----------+----------+\n",
            "\n"
          ]
        }
      ]
    },
    {
      "cell_type": "code",
      "source": [
        "df.select(col(\"input\"),\\\n",
        "          year(col(\"input\")).alias(\"year\"),\\\n",
        "          month(col(\"input\")).alias(\"month\"), \\\n",
        "          next_day(col(\"input\"),\"Sunday\").alias(\"next_day\"), \\\n",
        "          weekofyear(col(\"input\")).alias(\"weekofyear\") ).show()"
      ],
      "metadata": {
        "colab": {
          "base_uri": "https://localhost:8080/"
        },
        "id": "Mlls0R8cXqKf",
        "outputId": "fd84da23-cfd4-47d1-e1e9-c0c80235cc78"
      },
      "execution_count": null,
      "outputs": [
        {
          "output_type": "stream",
          "name": "stdout",
          "text": [
            "+----------+----+-----+----------+----------+\n",
            "|     input|year|month|  next_day|weekofyear|\n",
            "+----------+----+-----+----------+----------+\n",
            "|2023-07-15|2023|    7|2023-07-16|        28|\n",
            "|2023-08-20|2023|    8|2023-08-27|        33|\n",
            "|2023-10-03|2023|   10|2023-10-08|        40|\n",
            "+----------+----+-----+----------+----------+\n",
            "\n"
          ]
        }
      ]
    },
    {
      "cell_type": "code",
      "source": [
        "df.select(col(\"input\"),\n",
        "     dayofweek(col(\"input\")).alias(\"dayofweek\"),\n",
        "     dayofmonth(col(\"input\")).alias(\"dayofmonth\"),\n",
        "     dayofyear(col(\"input\")).alias(\"dayofyear\"),\n",
        "  ).show()"
      ],
      "metadata": {
        "colab": {
          "base_uri": "https://localhost:8080/"
        },
        "id": "Pl98wZGyX7BR",
        "outputId": "20448b28-e406-40ea-8081-a2579a641ef8"
      },
      "execution_count": null,
      "outputs": [
        {
          "output_type": "stream",
          "name": "stdout",
          "text": [
            "+----------+---------+----------+---------+\n",
            "|     input|dayofweek|dayofmonth|dayofyear|\n",
            "+----------+---------+----------+---------+\n",
            "|2023-07-15|        7|        15|      196|\n",
            "|2023-08-20|        1|        20|      232|\n",
            "|2023-10-03|        3|         3|      276|\n",
            "+----------+---------+----------+---------+\n",
            "\n"
          ]
        }
      ]
    },
    {
      "cell_type": "markdown",
      "source": [
        "# current_timestamp()\n",
        "Following are the Timestamp Functions that you can use on SQL and on DataFrame. Let’s learn these with examples."
      ],
      "metadata": {
        "id": "imV51qhVYBx9"
      }
    },
    {
      "cell_type": "code",
      "source": [
        "\n",
        " #default format of the Spark Timestamp is\n",
        " # yyyy-MM-dd HH:mm:ss.SSSS\n",
        "\n",
        "\n",
        "data=[[\"1\",\"02-01-2020 11 01 19 06\"],\n",
        "      [\"2\",\"03-01-2019 12 01 19 406\"],\n",
        "      [\"3\",\"03-01-2021 12 01 19 406\"]]\n",
        "df2=spark.createDataFrame(data,[\"id\",\"input\"])\n",
        "df2.show(truncate=False)"
      ],
      "metadata": {
        "colab": {
          "base_uri": "https://localhost:8080/"
        },
        "id": "kGy72jZCYA7V",
        "outputId": "45bdf25c-146e-4787-ba3a-d4812269f482"
      },
      "execution_count": null,
      "outputs": [
        {
          "output_type": "stream",
          "name": "stdout",
          "text": [
            "+---+-----------------------+\n",
            "|id |input                  |\n",
            "+---+-----------------------+\n",
            "|1  |02-01-2020 11 01 19 06 |\n",
            "|2  |03-01-2019 12 01 19 406|\n",
            "|3  |03-01-2021 12 01 19 406|\n",
            "+---+-----------------------+\n",
            "\n"
          ]
        }
      ]
    },
    {
      "cell_type": "code",
      "source": [
        "\n",
        "#current_timestamp()\n",
        "df2.select(current_timestamp().alias(\"current_timestamp\")\n",
        "  ).show(1,truncate=False)"
      ],
      "metadata": {
        "colab": {
          "base_uri": "https://localhost:8080/"
        },
        "id": "VCYGfTD7YO2H",
        "outputId": "534955c6-b777-43ff-92c5-b546928603fd"
      },
      "execution_count": null,
      "outputs": [
        {
          "output_type": "stream",
          "name": "stdout",
          "text": [
            "+--------------------------+\n",
            "|current_timestamp         |\n",
            "+--------------------------+\n",
            "|2023-10-02 17:00:43.657529|\n",
            "+--------------------------+\n",
            "only showing top 1 row\n",
            "\n"
          ]
        }
      ]
    },
    {
      "cell_type": "code",
      "source": [
        "\n",
        "\t#Converts to a timestamp by casting rules to `TimestampType`.\n",
        "#to_timestamp()\n",
        "df2.select(col(\"input\"),\n",
        "    to_timestamp(col(\"input\"), \"MM-dd-yyyy HH mm ss SSS\")\\\n",
        "           .alias(\"to_timestamp\")\n",
        "  ).show(truncate=False)"
      ],
      "metadata": {
        "colab": {
          "base_uri": "https://localhost:8080/"
        },
        "id": "wSKcbNeMYSmj",
        "outputId": "a64183a2-b9bf-4c6f-82af-340c17df5cf4"
      },
      "execution_count": null,
      "outputs": [
        {
          "output_type": "stream",
          "name": "stdout",
          "text": [
            "+-----------------------+-----------------------+\n",
            "|input                  |to_timestamp           |\n",
            "+-----------------------+-----------------------+\n",
            "|02-01-2020 11 01 19 06 |2020-02-01 11:01:19.06 |\n",
            "|03-01-2019 12 01 19 406|2019-03-01 12:01:19.406|\n",
            "|03-01-2021 12 01 19 406|2021-03-01 12:01:19.406|\n",
            "+-----------------------+-----------------------+\n",
            "\n"
          ]
        }
      ]
    },
    {
      "cell_type": "code",
      "source": [
        "#hour, minute,second\n",
        "data=[[\"1\",\"2020-02-01 11:01:19.06\"],\n",
        "      [\"2\",\"2019-03-01 12:01:19.406\"],\n",
        "      [\"3\",\"2021-03-01 12:01:19.406\"]]\n",
        "df3=spark.createDataFrame(data,[\"id\",\"input\"])\n",
        "\n",
        "df3.select(col(\"input\"),\n",
        "    hour(col(\"input\")).alias(\"hour\"),\n",
        "    minute(col(\"input\")).alias(\"minute\"),\n",
        "    second(col(\"input\")).alias(\"second\")\n",
        "  ).show(truncate=False)\n"
      ],
      "metadata": {
        "id": "eZ_PkfbvYXRL",
        "outputId": "a9223e50-62e1-43a0-b40a-0f2690f24ab6",
        "colab": {
          "base_uri": "https://localhost:8080/"
        }
      },
      "execution_count": null,
      "outputs": [
        {
          "output_type": "stream",
          "name": "stdout",
          "text": [
            "+-----------------------+----+------+------+\n",
            "|input                  |hour|minute|second|\n",
            "+-----------------------+----+------+------+\n",
            "|2020-02-01 11:01:19.06 |11  |1     |19    |\n",
            "|2019-03-01 12:01:19.406|12  |1     |19    |\n",
            "|2021-03-01 12:01:19.406|12  |1     |19    |\n",
            "+-----------------------+----+------+------+\n",
            "\n"
          ]
        }
      ]
    }
  ]
}