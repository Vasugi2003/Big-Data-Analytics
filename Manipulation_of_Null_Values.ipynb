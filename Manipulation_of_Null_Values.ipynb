{
  "nbformat": 4,
  "nbformat_minor": 0,
  "metadata": {
    "colab": {
      "provenance": [],
      "include_colab_link": true
    },
    "kernelspec": {
      "name": "python3",
      "display_name": "Python 3"
    },
    "language_info": {
      "name": "python"
    }
  },
  "cells": [
    {
      "cell_type": "markdown",
      "metadata": {
        "id": "view-in-github",
        "colab_type": "text"
      },
      "source": [
        "<a href=\"https://colab.research.google.com/github/Vasugi2003/Big-Data-Analytics/blob/main/Manipulation_of_Null_Values.ipynb\" target=\"_parent\"><img src=\"https://colab.research.google.com/assets/colab-badge.svg\" alt=\"Open In Colab\"/></a>"
      ]
    },
    {
      "cell_type": "code",
      "execution_count": null,
      "metadata": {
        "colab": {
          "base_uri": "https://localhost:8080/"
        },
        "id": "nnzfgFhme9Te",
        "outputId": "0e902392-c6db-4d60-b866-660ec2ea6f4b"
      },
      "outputs": [
        {
          "output_type": "stream",
          "name": "stdout",
          "text": [
            "Collecting pyspark\n",
            "  Downloading pyspark-3.5.0.tar.gz (316.9 MB)\n",
            "\u001b[2K     \u001b[90m━━━━━━━━━━━━━━━━━━━━━━━━━━━━━━━━━━━━━━━\u001b[0m \u001b[32m316.9/316.9 MB\u001b[0m \u001b[31m4.0 MB/s\u001b[0m eta \u001b[36m0:00:00\u001b[0m\n",
            "\u001b[?25h  Preparing metadata (setup.py) ... \u001b[?25l\u001b[?25hdone\n",
            "Requirement already satisfied: py4j==0.10.9.7 in /usr/local/lib/python3.10/dist-packages (from pyspark) (0.10.9.7)\n",
            "Building wheels for collected packages: pyspark\n",
            "  Building wheel for pyspark (setup.py) ... \u001b[?25l\u001b[?25hdone\n",
            "  Created wheel for pyspark: filename=pyspark-3.5.0-py2.py3-none-any.whl size=317425344 sha256=9e7d351920254ad599c9dfedf32cd913902326759a52f3539514806eb41bd5cd\n",
            "  Stored in directory: /root/.cache/pip/wheels/41/4e/10/c2cf2467f71c678cfc8a6b9ac9241e5e44a01940da8fbb17fc\n",
            "Successfully built pyspark\n",
            "Installing collected packages: pyspark\n",
            "Successfully installed pyspark-3.5.0\n"
          ]
        }
      ],
      "source": [
        "!pip install pyspark"
      ]
    },
    {
      "cell_type": "code",
      "source": [
        "from pyspark.sql import SparkSession\n",
        "# Step 2: Create a Spark session\n",
        "spark = SparkSession.builder.appName(\"PySpark_NullValue_Manipulation_Example\").getOrCreate()"
      ],
      "metadata": {
        "id": "eGH6pF_GfGg-"
      },
      "execution_count": null,
      "outputs": []
    },
    {
      "cell_type": "code",
      "source": [
        "data = [\n",
        "    (\"PlantA\", 100, None, \"Healthy\", \"Tall\"),\n",
        "    (\"PlantB\", None, \"Moderate\", \"Healthy\", None),\n",
        "    (\"PlantC\", 50, \"Low\", None, \"Short\"),\n",
        "    (\"PlantD\", None, None, \"Unhealthy\", None),\n",
        "    (\"PlantE\", 80, \"Moderate\", \"Healthy\", \"Medium\")\n",
        "]\n",
        "columns = [\"PlantName\", \"Temperature\", \"Moisture\",\\\n",
        "           \"HealthStatus\", \"Size\"]\n",
        "# Create a DataFrame\n",
        "df = spark.createDataFrame(data, columns)\n",
        "df.show()"
      ],
      "metadata": {
        "id": "oSmUqC97fOh0",
        "colab": {
          "base_uri": "https://localhost:8080/"
        },
        "outputId": "3a8d1df2-3939-4904-8998-c7ff67f1959d"
      },
      "execution_count": null,
      "outputs": [
        {
          "output_type": "stream",
          "name": "stdout",
          "text": [
            "+---------+-----------+--------+------------+------+\n",
            "|PlantName|Temperature|Moisture|HealthStatus|  Size|\n",
            "+---------+-----------+--------+------------+------+\n",
            "|   PlantA|        100|    NULL|     Healthy|  Tall|\n",
            "|   PlantB|       NULL|Moderate|     Healthy|  NULL|\n",
            "|   PlantC|         50|     Low|        NULL| Short|\n",
            "|   PlantD|       NULL|    NULL|   Unhealthy|  NULL|\n",
            "|   PlantE|         80|Moderate|     Healthy|Medium|\n",
            "+---------+-----------+--------+------------+------+\n",
            "\n"
          ]
        }
      ]
    },
    {
      "cell_type": "code",
      "source": [
        "#PySpark SQL functions lit() and typedLit() are used to add a new column to DataFrame by assigning a literal or constant value\n",
        "\n",
        "# 1. lit\n",
        "from pyspark.sql.functions import col, when, coalesce, lit\n",
        "\n",
        "# Add a \"Temperature_default\" column with default values\n",
        "default_temperature = 25  # Specify your default value here\n",
        "df = df.withColumn(\"Temperature_default\",\n",
        "                   lit(default_temperature))\n",
        "df.show()"
      ],
      "metadata": {
        "colab": {
          "base_uri": "https://localhost:8080/"
        },
        "id": "IAnp29wPzf3K",
        "outputId": "0d1b2f9e-4345-4870-cd35-2fde77d3a4c1"
      },
      "execution_count": null,
      "outputs": [
        {
          "output_type": "stream",
          "name": "stdout",
          "text": [
            "+---------+-----------+--------+------------+------+-------------------+\n",
            "|PlantName|Temperature|Moisture|HealthStatus|  Size|Temperature_default|\n",
            "+---------+-----------+--------+------------+------+-------------------+\n",
            "|   PlantA|        100|    NULL|     Healthy|  Tall|                 25|\n",
            "|   PlantB|       NULL|Moderate|     Healthy|  NULL|                 25|\n",
            "|   PlantC|         50|     Low|        NULL| Short|                 25|\n",
            "|   PlantD|       NULL|    NULL|   Unhealthy|  NULL|                 25|\n",
            "|   PlantE|         80|Moderate|     Healthy|Medium|                 25|\n",
            "+---------+-----------+--------+------------+------+-------------------+\n",
            "\n"
          ]
        }
      ]
    },
    {
      "cell_type": "code",
      "source": [
        "#Returns the first column that is not null\n",
        "\n",
        "df_coalesce = df.withColumn(\"Temperature_filled\",\n",
        "      coalesce(df[\"Temperature\"], col(\"Temperature_default\")))\n",
        "# Show the results\n",
        "df_coalesce.show()"
      ],
      "metadata": {
        "colab": {
          "base_uri": "https://localhost:8080/"
        },
        "id": "zooSVjZbgIco",
        "outputId": "31a9b28a-8bc5-47fe-a83a-6bc49e6f9f2d"
      },
      "execution_count": null,
      "outputs": [
        {
          "output_type": "stream",
          "name": "stdout",
          "text": [
            "+---------+-----------+--------+------------+------+-------------------+------------------+\n",
            "|PlantName|Temperature|Moisture|HealthStatus|  Size|Temperature_default|Temperature_filled|\n",
            "+---------+-----------+--------+------------+------+-------------------+------------------+\n",
            "|   PlantA|        100|    NULL|     Healthy|  Tall|                 25|               100|\n",
            "|   PlantB|       NULL|Moderate|     Healthy|  NULL|                 25|                25|\n",
            "|   PlantC|         50|     Low|        NULL| Short|                 25|                50|\n",
            "|   PlantD|       NULL|    NULL|   Unhealthy|  NULL|                 25|                25|\n",
            "|   PlantE|         80|Moderate|     Healthy|Medium|                 25|                80|\n",
            "+---------+-----------+--------+------------+------+-------------------+------------------+\n",
            "\n"
          ]
        }
      ]
    },
    {
      "cell_type": "code",
      "source": [
        "# 2. when\n",
        "\n",
        "df_when = df.withColumn(\"Moisture_modified\",\n",
        "when(col(\"Moisture\").isNotNull(), col(\"Moisture\")).otherwise(\"Unknown\"))\n",
        "df_when.show()"
      ],
      "metadata": {
        "colab": {
          "base_uri": "https://localhost:8080/"
        },
        "id": "KpRzt88gzk4o",
        "outputId": "1f436bb0-3085-4028-d0ec-7ae0dac75c4b"
      },
      "execution_count": null,
      "outputs": [
        {
          "output_type": "stream",
          "name": "stdout",
          "text": [
            "+---------+-----------+--------+------------+------+-------------------+-----------------+\n",
            "|PlantName|Temperature|Moisture|HealthStatus|  Size|Temperature_default|Moisture_modified|\n",
            "+---------+-----------+--------+------------+------+-------------------+-----------------+\n",
            "|   PlantA|        100|    NULL|     Healthy|  Tall|                 25|          Unknown|\n",
            "|   PlantB|       NULL|Moderate|     Healthy|  NULL|                 25|         Moderate|\n",
            "|   PlantC|         50|     Low|        NULL| Short|                 25|              Low|\n",
            "|   PlantD|       NULL|    NULL|   Unhealthy|  NULL|                 25|          Unknown|\n",
            "|   PlantE|         80|Moderate|     Healthy|Medium|                 25|         Moderate|\n",
            "+---------+-----------+--------+------------+------+-------------------+-----------------+\n",
            "\n"
          ]
        }
      ]
    },
    {
      "cell_type": "code",
      "source": [
        "# 3. isNull\n",
        "df_isnull = df.filter(df[\"Size\"].isNull())\n",
        "df_isnull.show()"
      ],
      "metadata": {
        "colab": {
          "base_uri": "https://localhost:8080/"
        },
        "id": "GspZWcdIzmuo",
        "outputId": "0a197ada-570a-415b-b92f-7df36b11fdfa"
      },
      "execution_count": null,
      "outputs": [
        {
          "output_type": "stream",
          "name": "stdout",
          "text": [
            "+---------+-----------+--------+------------+----+-------------------+\n",
            "|PlantName|Temperature|Moisture|HealthStatus|Size|Temperature_default|\n",
            "+---------+-----------+--------+------------+----+-------------------+\n",
            "|   PlantB|       NULL|Moderate|     Healthy|NULL|                 25|\n",
            "|   PlantD|       NULL|    NULL|   Unhealthy|NULL|                 25|\n",
            "+---------+-----------+--------+------------+----+-------------------+\n",
            "\n"
          ]
        }
      ]
    },
    {
      "cell_type": "code",
      "source": [
        "# 4. isNotNull\n",
        "df.show()\n",
        "df_isnotnull = df.filter(df[\"HealthStatus\"].isNotNull())\n",
        "df_isnotnull.show()"
      ],
      "metadata": {
        "colab": {
          "base_uri": "https://localhost:8080/"
        },
        "id": "FuTDz69FztDI",
        "outputId": "8da71ef0-acb0-418c-fe97-23c39db098b0"
      },
      "execution_count": null,
      "outputs": [
        {
          "output_type": "stream",
          "name": "stdout",
          "text": [
            "+---------+-----------+--------+------------+------+-------------------+\n",
            "|PlantName|Temperature|Moisture|HealthStatus|  Size|Temperature_default|\n",
            "+---------+-----------+--------+------------+------+-------------------+\n",
            "|   PlantA|        100|    NULL|     Healthy|  Tall|                 25|\n",
            "|   PlantB|       NULL|Moderate|     Healthy|  NULL|                 25|\n",
            "|   PlantC|         50|     Low|        NULL| Short|                 25|\n",
            "|   PlantD|       NULL|    NULL|   Unhealthy|  NULL|                 25|\n",
            "|   PlantE|         80|Moderate|     Healthy|Medium|                 25|\n",
            "+---------+-----------+--------+------------+------+-------------------+\n",
            "\n",
            "+---------+-----------+--------+------------+------+-------------------+\n",
            "|PlantName|Temperature|Moisture|HealthStatus|  Size|Temperature_default|\n",
            "+---------+-----------+--------+------------+------+-------------------+\n",
            "|   PlantA|        100|    NULL|     Healthy|  Tall|                 25|\n",
            "|   PlantB|       NULL|Moderate|     Healthy|  NULL|                 25|\n",
            "|   PlantD|       NULL|    NULL|   Unhealthy|  NULL|                 25|\n",
            "|   PlantE|         80|Moderate|     Healthy|Medium|                 25|\n",
            "+---------+-----------+--------+------------+------+-------------------+\n",
            "\n"
          ]
        }
      ]
    },
    {
      "cell_type": "code",
      "source": [
        "#fillna(value, subset=None)\n",
        "#fill(value, subset=None)\n",
        "\n",
        "#value – Value should be the data type of int, long, float, string, or dict.\n",
        "##Value specified here will be replaced for NULL/None values.\n",
        "\n",
        "#subset – This is optional, when used it should be the subset of the column names\n",
        "#where you wanted to replace NULL/None values.\n",
        "\n",
        "# 5. fillna\n",
        "df_nvl = df.fillna(\"Not Specified\", subset=[\"Size\"])\n",
        "df_nvl.show()"
      ],
      "metadata": {
        "colab": {
          "base_uri": "https://localhost:8080/"
        },
        "id": "xsWMrJ3szumw",
        "outputId": "044607fc-d60e-4a3e-b36f-71c95bfd86e9"
      },
      "execution_count": null,
      "outputs": [
        {
          "output_type": "stream",
          "name": "stdout",
          "text": [
            "+---------+-----------+--------+------------+-------------+-------------------+\n",
            "|PlantName|Temperature|Moisture|HealthStatus|         Size|Temperature_default|\n",
            "+---------+-----------+--------+------------+-------------+-------------------+\n",
            "|   PlantA|        100|    NULL|     Healthy|         Tall|                 25|\n",
            "|   PlantB|       NULL|Moderate|     Healthy|Not Specified|                 25|\n",
            "|   PlantC|         50|     Low|        NULL|        Short|                 25|\n",
            "|   PlantD|       NULL|    NULL|   Unhealthy|Not Specified|                 25|\n",
            "|   PlantE|         80|Moderate|     Healthy|       Medium|                 25|\n",
            "+---------+-----------+--------+------------+-------------+-------------------+\n",
            "\n"
          ]
        }
      ]
    },
    {
      "cell_type": "code",
      "source": [
        "# 6. ifnull\n",
        "df_ifnull = df.withColumn(\"Size_filled\",\n",
        "when(df[\"Size\"].isNull(), \"Not Specified\").otherwise(df[\"Size\"]))\n",
        "df_ifnull.show()"
      ],
      "metadata": {
        "colab": {
          "base_uri": "https://localhost:8080/"
        },
        "id": "nxxf-xWFzv54",
        "outputId": "e49cdb63-049a-44f5-96b0-a3fea082b84a"
      },
      "execution_count": null,
      "outputs": [
        {
          "output_type": "stream",
          "name": "stdout",
          "text": [
            "+---------+-----------+--------+------------+------+-------------------+-------------+\n",
            "|PlantName|Temperature|Moisture|HealthStatus|  Size|Temperature_default|  Size_filled|\n",
            "+---------+-----------+--------+------------+------+-------------------+-------------+\n",
            "|   PlantA|        100|    NULL|     Healthy|  Tall|                 25|         Tall|\n",
            "|   PlantB|       NULL|Moderate|     Healthy|  NULL|                 25|Not Specified|\n",
            "|   PlantC|         50|     Low|        NULL| Short|                 25|        Short|\n",
            "|   PlantD|       NULL|    NULL|   Unhealthy|  NULL|                 25|Not Specified|\n",
            "|   PlantE|         80|Moderate|     Healthy|Medium|                 25|       Medium|\n",
            "+---------+-----------+--------+------------+------+-------------------+-------------+\n",
            "\n"
          ]
        }
      ]
    },
    {
      "cell_type": "code",
      "source": [
        "# 7. nullif\n",
        "df_nullif = df.withColumn(\"HealthStatus_differs_from_Size\",\n",
        "when(df[\"HealthStatus\"] == df[\"Size\"], None)\\\n",
        "                          .otherwise(df[\"HealthStatus\"]))\n",
        "df_nullif.show()"
      ],
      "metadata": {
        "colab": {
          "base_uri": "https://localhost:8080/"
        },
        "id": "Oauzz4oMz0jY",
        "outputId": "b9a0f9e5-ab38-4912-d755-e3ba3c3ff998"
      },
      "execution_count": null,
      "outputs": [
        {
          "output_type": "stream",
          "name": "stdout",
          "text": [
            "+---------+-----------+--------+------------+------+-------------------+------------------------------+\n",
            "|PlantName|Temperature|Moisture|HealthStatus|  Size|Temperature_default|HealthStatus_differs_from_Size|\n",
            "+---------+-----------+--------+------------+------+-------------------+------------------------------+\n",
            "|   PlantA|        100|    NULL|     Healthy|  Tall|                 25|                       Healthy|\n",
            "|   PlantB|       NULL|Moderate|     Healthy|  NULL|                 25|                       Healthy|\n",
            "|   PlantC|         50|     Low|        NULL| Short|                 25|                          NULL|\n",
            "|   PlantD|       NULL|    NULL|   Unhealthy|  NULL|                 25|                     Unhealthy|\n",
            "|   PlantE|         80|Moderate|     Healthy|Medium|                 25|                       Healthy|\n",
            "+---------+-----------+--------+------------+------+-------------------+------------------------------+\n",
            "\n"
          ]
        }
      ]
    },
    {
      "cell_type": "code",
      "source": [
        "# 8. nanvl\n",
        "df_filled = df.fillna(0, subset=[\"Temperature\"])\n",
        "df_filled.show()"
      ],
      "metadata": {
        "colab": {
          "base_uri": "https://localhost:8080/"
        },
        "id": "VyYz5Ng3zv_g",
        "outputId": "bcce5a66-2d8b-4abf-e734-77ed7c08c2ed"
      },
      "execution_count": null,
      "outputs": [
        {
          "output_type": "stream",
          "name": "stdout",
          "text": [
            "+---------+-----------+--------+------------+------+-------------------+\n",
            "|PlantName|Temperature|Moisture|HealthStatus|  Size|Temperature_default|\n",
            "+---------+-----------+--------+------------+------+-------------------+\n",
            "|   PlantA|        100|    NULL|     Healthy|  Tall|                 25|\n",
            "|   PlantB|          0|Moderate|     Healthy|  NULL|                 25|\n",
            "|   PlantC|         50|     Low|        NULL| Short|                 25|\n",
            "|   PlantD|          0|    NULL|   Unhealthy|  NULL|                 25|\n",
            "|   PlantE|         80|Moderate|     Healthy|Medium|                 25|\n",
            "+---------+-----------+--------+------------+------+-------------------+\n",
            "\n"
          ]
        }
      ]
    },
    {
      "cell_type": "code",
      "source": [
        "# 9. ifnan\n",
        "df_ifnan = df.withColumn(\"Temperature_filled_nan\",\n",
        "when(col(\"Temperature\").isNull(), 0.0)\\\n",
        "                         .otherwise(col(\"Temperature\")))\n",
        "df_ifnan.show()"
      ],
      "metadata": {
        "colab": {
          "base_uri": "https://localhost:8080/"
        },
        "id": "vTKzfnq00IdX",
        "outputId": "b7d50e63-7ba8-40bd-b197-b477521a6a9d"
      },
      "execution_count": null,
      "outputs": [
        {
          "output_type": "stream",
          "name": "stdout",
          "text": [
            "+---------+-----------+--------+------------+------+-------------------+----------------------+\n",
            "|PlantName|Temperature|Moisture|HealthStatus|  Size|Temperature_default|Temperature_filled_nan|\n",
            "+---------+-----------+--------+------------+------+-------------------+----------------------+\n",
            "|   PlantA|        100|    NULL|     Healthy|  Tall|                 25|                 100.0|\n",
            "|   PlantB|       NULL|Moderate|     Healthy|  NULL|                 25|                   0.0|\n",
            "|   PlantC|         50|     Low|        NULL| Short|                 25|                  50.0|\n",
            "|   PlantD|       NULL|    NULL|   Unhealthy|  NULL|                 25|                   0.0|\n",
            "|   PlantE|         80|Moderate|     Healthy|Medium|                 25|                  80.0|\n",
            "+---------+-----------+--------+------------+------+-------------------+----------------------+\n",
            "\n"
          ]
        }
      ]
    }
  ]
}