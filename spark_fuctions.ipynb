{
  "nbformat": 4,
  "nbformat_minor": 0,
  "metadata": {
    "colab": {
      "provenance": [],
      "include_colab_link": true
    },
    "kernelspec": {
      "name": "python3",
      "display_name": "Python 3"
    },
    "language_info": {
      "name": "python"
    }
  },
  "cells": [
    {
      "cell_type": "markdown",
      "metadata": {
        "id": "view-in-github",
        "colab_type": "text"
      },
      "source": [
        "<a href=\"https://colab.research.google.com/github/Vasugi2003/Big-Data-Analytics/blob/main/spark_fuctions.ipynb\" target=\"_parent\"><img src=\"https://colab.research.google.com/assets/colab-badge.svg\" alt=\"Open In Colab\"/></a>"
      ]
    },
    {
      "cell_type": "code",
      "execution_count": null,
      "metadata": {
        "colab": {
          "base_uri": "https://localhost:8080/"
        },
        "id": "m1TEDvO3lvE3",
        "outputId": "090622d8-758e-4b34-86f6-1cd2f7630fa4"
      },
      "outputs": [
        {
          "output_type": "stream",
          "name": "stdout",
          "text": [
            "Collecting pyspark\n",
            "  Downloading pyspark-3.5.0.tar.gz (316.9 MB)\n",
            "\u001b[2K     \u001b[90m━━━━━━━━━━━━━━━━━━━━━━━━━━━━━━━━━━━━━━━━\u001b[0m \u001b[32m316.9/316.9 MB\u001b[0m \u001b[31m4.4 MB/s\u001b[0m eta \u001b[36m0:00:00\u001b[0m\n",
            "\u001b[?25h  Preparing metadata (setup.py) ... \u001b[?25l\u001b[?25hdone\n",
            "Requirement already satisfied: py4j==0.10.9.7 in /usr/local/lib/python3.10/dist-packages (from pyspark) (0.10.9.7)\n",
            "Building wheels for collected packages: pyspark\n",
            "  Building wheel for pyspark (setup.py) ... \u001b[?25l\u001b[?25hdone\n",
            "  Created wheel for pyspark: filename=pyspark-3.5.0-py2.py3-none-any.whl size=317425344 sha256=ad7474d54d27070eb91bc156666bbbd63f12987fd992133de43f218d7dac8df8\n",
            "  Stored in directory: /root/.cache/pip/wheels/41/4e/10/c2cf2467f71c678cfc8a6b9ac9241e5e44a01940da8fbb17fc\n",
            "Successfully built pyspark\n",
            "Installing collected packages: pyspark\n",
            "Successfully installed pyspark-3.5.0\n"
          ]
        }
      ],
      "source": [
        "!pip install pyspark\n",
        "from pyspark.sql import SparkSession\n",
        "spark = SparkSession.builder.master(\"local[1]\").appName(\"SparkByExamples.com\").getOrCreate()"
      ]
    },
    {
      "cell_type": "code",
      "source": [
        "sc = spark.sparkContext\n",
        "data = [1,2,3,4,5,6,7,8,9,10,11,12]\n",
        "rdd=sc.parallelize(data)\n",
        "print(rdd.count())\n",
        "\n"
      ],
      "metadata": {
        "colab": {
          "base_uri": "https://localhost:8080/"
        },
        "id": "1Hw0p6Vdl4R2",
        "outputId": "aa4c6380-133d-4efd-9faa-653099045502"
      },
      "execution_count": null,
      "outputs": [
        {
          "output_type": "stream",
          "name": "stdout",
          "text": [
            "12\n"
          ]
        }
      ]
    },
    {
      "cell_type": "code",
      "source": [
        "sc = spark.sparkContext\n",
        "data = [1,2,3,4,5,6,7,8,9,10,11,12]\n",
        "rdd=sc.parallelize(data)\n",
        "print(rdd.collect())"
      ],
      "metadata": {
        "colab": {
          "base_uri": "https://localhost:8080/"
        },
        "id": "Xr92vBBrl-Yh",
        "outputId": "b515745d-e743-45ed-89e9-6c45af9c1bea"
      },
      "execution_count": null,
      "outputs": [
        {
          "output_type": "stream",
          "name": "stdout",
          "text": [
            "[1, 2, 3, 4, 5, 6, 7, 8, 9, 10, 11, 12]\n"
          ]
        }
      ]
    },
    {
      "cell_type": "code",
      "source": [
        "print(rdd.first())"
      ],
      "metadata": {
        "colab": {
          "base_uri": "https://localhost:8080/"
        },
        "id": "GUBCcAtumEtQ",
        "outputId": "78a702c2-6752-47e1-b5f4-281e251c7e8a"
      },
      "execution_count": null,
      "outputs": [
        {
          "output_type": "stream",
          "name": "stdout",
          "text": [
            "1\n"
          ]
        }
      ]
    },
    {
      "cell_type": "code",
      "source": [
        "from pyspark import SparkContext\n",
        "spark =SparkContext.getOrCreate()\n",
        "data = [1,2,3,4,5,6,7,8,9,10,11,12]\n",
        "rdd=spark.parallelize(data)\n",
        "print(rdd.take(5))"
      ],
      "metadata": {
        "colab": {
          "base_uri": "https://localhost:8080/"
        },
        "id": "MGEUXSdPmLs8",
        "outputId": "b7bd4178-09e8-4e57-a653-ff3bede7143d"
      },
      "execution_count": null,
      "outputs": [
        {
          "output_type": "stream",
          "name": "stdout",
          "text": [
            "[1, 2, 3, 4, 5]\n"
          ]
        }
      ]
    },
    {
      "cell_type": "code",
      "source": [
        "from pyspark import SparkContext\n",
        "spark =SparkContext.getOrCreate()\n",
        "data = [1,2,3,4,5,]\n",
        "rdd=spark.parallelize(data)\n",
        "print(rdd.reduce(lambda x, y : x + y))"
      ],
      "metadata": {
        "colab": {
          "base_uri": "https://localhost:8080/"
        },
        "id": "Wjbsv18omRCu",
        "outputId": "c3f7c017-2271-4b63-dca4-0dbe03dbb186"
      },
      "execution_count": null,
      "outputs": [
        {
          "output_type": "stream",
          "name": "stdout",
          "text": [
            "15\n"
          ]
        }
      ]
    },
    {
      "cell_type": "code",
      "source": [
        "from pyspark import SparkContext\n",
        "sc = SparkContext.getOrCreate()\n",
        "\n",
        "reduce_rdd = sc.parallelize([1,3,4,6])\n",
        "print(reduce_rdd.reduce(lambda x, y : x + y))"
      ],
      "metadata": {
        "colab": {
          "base_uri": "https://localhost:8080/"
        },
        "id": "CuV_5ademWck",
        "outputId": "29938c48-df29-4761-e9a4-216fbe7ee16f"
      },
      "execution_count": null,
      "outputs": [
        {
          "output_type": "stream",
          "name": "stdout",
          "text": [
            "14\n"
          ]
        }
      ]
    },
    {
      "cell_type": "code",
      "source": [
        "from pyspark import SparkContext\n",
        "sc = SparkContext.getOrCreate()\n",
        "save_rdd = sc.parallelize([1,2,3,4,5,6])\n",
        "save_rdd.saveAsTextFile('file.txt')"
      ],
      "metadata": {
        "id": "M5GmqObFmbkQ"
      },
      "execution_count": null,
      "outputs": []
    },
    {
      "cell_type": "code",
      "source": [
        "from pyspark import SparkContext\n",
        "sc = SparkContext.getOrCreate()\n",
        "my_rdd = sc.parallelize([1,2,3,4])\n",
        "print(my_rdd.map(lambda x: x+ 10).collect())"
      ],
      "metadata": {
        "colab": {
          "base_uri": "https://localhost:8080/"
        },
        "id": "buUCm189mrSU",
        "outputId": "0d9f0bdc-6201-42cb-a8a5-ba351ca69f7f"
      },
      "execution_count": null,
      "outputs": [
        {
          "output_type": "stream",
          "name": "stdout",
          "text": [
            "[11, 12, 13, 14]\n"
          ]
        }
      ]
    },
    {
      "cell_type": "code",
      "source": [
        "from pyspark import SparkContext\n",
        "sc = SparkContext.getOrCreate()\n",
        "filter_rdd = sc.parallelize([2, 3, 4, 5, 6, 7])\n",
        "print(filter_rdd.filter(lambda x: x%2 == 0).collect())"
      ],
      "metadata": {
        "colab": {
          "base_uri": "https://localhost:8080/"
        },
        "id": "fnQGSi9QmwlC",
        "outputId": "bf364cd6-0171-430b-80d0-4606dc75119e"
      },
      "execution_count": null,
      "outputs": [
        {
          "output_type": "stream",
          "name": "stdout",
          "text": [
            "[2, 4, 6]\n"
          ]
        }
      ]
    },
    {
      "cell_type": "code",
      "source": [
        "filter_rdd_2 = sc.parallelize(['swetha', 'gokul', 'vicky', 'vidhya'])\n",
        "print(filter_rdd_2.filter(lambda x: x.startswith('g')).collect())"
      ],
      "metadata": {
        "colab": {
          "base_uri": "https://localhost:8080/"
        },
        "id": "Q8WwISl1m0oA",
        "outputId": "efd6dae4-500e-4ca0-d7e4-8c01e7a83e2d"
      },
      "execution_count": null,
      "outputs": [
        {
          "output_type": "stream",
          "name": "stdout",
          "text": [
            "['gokul']\n"
          ]
        }
      ]
    },
    {
      "cell_type": "code",
      "source": [
        "union_inp = sc.parallelize([2,4,5,6,7,8,9])\n",
        "rdd_1 = union_inp.filter(lambda x: x % 2 == 0)\n",
        "rdd_2 = union_inp.filter(lambda x: x % 3 == 0)\n",
        "print(rdd_1.union(rdd_2).collect())"
      ],
      "metadata": {
        "colab": {
          "base_uri": "https://localhost:8080/"
        },
        "id": "6XE2kODNm6rD",
        "outputId": "97da4a71-fd69-4bc3-d09e-57bdd9725d30"
      },
      "execution_count": null,
      "outputs": [
        {
          "output_type": "stream",
          "name": "stdout",
          "text": [
            "[2, 4, 6, 8, 6, 9]\n"
          ]
        }
      ]
    },
    {
      "cell_type": "code",
      "source": [
        "inp = sc.parallelize([1,2,4,5,6,7,8,9,10,11,12,13,14,15,16,18,19,20])\n",
        "rdd_1 = inp.filter(lambda x: x % 2 == 0)\n",
        "rdd_2 = inp.filter(lambda x: x % 3 == 0)\n",
        "print(rdd_1.intersection(rdd_2).collect())"
      ],
      "metadata": {
        "colab": {
          "base_uri": "https://localhost:8080/"
        },
        "id": "dGh4ZzfZm_i0",
        "outputId": "926c828e-f102-4cad-d338-f9e6478da0fd"
      },
      "execution_count": null,
      "outputs": [
        {
          "output_type": "stream",
          "name": "stdout",
          "text": [
            "[6, 12, 18]\n"
          ]
        }
      ]
    },
    {
      "cell_type": "code",
      "source": [
        "inp = sc.parallelize([1,2,4,5,6,7,8,9,10])\n",
        "rdd_1 = inp.filter(lambda x: x % 2 == 0)\n",
        "rdd_2 = inp.filter(lambda x: x % 3 == 0)\n",
        "print(rdd_1.subtract(rdd_2).collect())\n",
        "\n",
        "\n"
      ],
      "metadata": {
        "colab": {
          "base_uri": "https://localhost:8080/"
        },
        "id": "aT0DtOPmnDi1",
        "outputId": "4c47fd4a-b34d-45fd-f1b9-ef9c416feaba"
      },
      "execution_count": null,
      "outputs": [
        {
          "output_type": "stream",
          "name": "stdout",
          "text": [
            "[2, 4, 8, 10]\n"
          ]
        }
      ]
    },
    {
      "cell_type": "code",
      "source": [
        "flatmap_rdd = sc.parallelize([\"Hey there\", \"This is PySpark RDD Transformations\"])\n",
        "(flatmap_rdd.flatMap(lambda x: x.split(\" \")).collect())"
      ],
      "metadata": {
        "colab": {
          "base_uri": "https://localhost:8080/"
        },
        "id": "w2z40C9enJM9",
        "outputId": "cb20c9ff-db09-4241-e66d-d16bed8480fd"
      },
      "execution_count": null,
      "outputs": [
        {
          "output_type": "execute_result",
          "data": {
            "text/plain": [
              "['Hey', 'there', 'This', 'is', 'PySpark', 'RDD', 'Transformations']"
            ]
          },
          "metadata": {},
          "execution_count": 15
        }
      ]
    },
    {
      "cell_type": "code",
      "source": [
        "from pyspark import SparkContext, SparkConf\n",
        "pair_rdd = sc.parallelize([(1, 'apple'), (2, 'banana'), (1, 'orange'), (2, 'grape')])\n",
        "\n",
        "\n",
        "def append_fruit(value):\n",
        "    return value + \" fruit\"\n",
        "\n",
        "modified_rdd = pair_rdd.mapValues(append_fruit)\n",
        "result = modified_rdd.collect()\n",
        "print(result)\n"
      ],
      "metadata": {
        "colab": {
          "base_uri": "https://localhost:8080/"
        },
        "id": "1tPyUYyTnOM3",
        "outputId": "8ee454ba-fa8a-4cda-8cb0-a67988435999"
      },
      "execution_count": null,
      "outputs": [
        {
          "output_type": "stream",
          "name": "stdout",
          "text": [
            "[(1, 'apple fruit'), (2, 'banana fruit'), (1, 'orange fruit'), (2, 'grape fruit')]\n"
          ]
        }
      ]
    },
    {
      "cell_type": "code",
      "source": [
        "marks = [('swetha', 88), ('vivin', 92), ('gokul', 83), ('vicky', 93), ('vidhya', 78)]\n",
        "sc.parallelize(marks).collect()"
      ],
      "metadata": {
        "colab": {
          "base_uri": "https://localhost:8080/"
        },
        "id": "aUZ2OaxRnmIH",
        "outputId": "73f1f3c6-7d35-4d80-d1b6-703522410d39"
      },
      "execution_count": null,
      "outputs": [
        {
          "output_type": "execute_result",
          "data": {
            "text/plain": [
              "[('swetha', 88), ('vivin', 92), ('gokul', 83), ('vicky', 93), ('vidhya', 78)]"
            ]
          },
          "metadata": {},
          "execution_count": 17
        }
      ]
    },
    {
      "cell_type": "code",
      "source": [
        "marks_rdd = sc.parallelize([('swetha', 25), ('vivin', 26), ('gokul', 22), ('vicky', 29), ('vidhya', 22), ('swetha', 23), ('vivin', 19), ('gokul', 28), ('vicky', 26), ('vidhya', 22)])\n",
        "print(marks_rdd.reduceByKey(lambda x, y: x + y).collect())"
      ],
      "metadata": {
        "colab": {
          "base_uri": "https://localhost:8080/"
        },
        "id": "0TH6zHSnnm8d",
        "outputId": "9ecba0b5-2a06-4962-d541-03ea0b793c47"
      },
      "execution_count": null,
      "outputs": [
        {
          "output_type": "stream",
          "name": "stdout",
          "text": [
            "[('swetha', 48), ('vivin', 45), ('gokul', 50), ('vicky', 55), ('vidhya', 44)]\n"
          ]
        }
      ]
    },
    {
      "cell_type": "code",
      "source": [
        "marks_rdd = sc.parallelize([('swetha', 25), ('vivin', 26), ('gokul', 22), ('vicky', 29), ('vidhya', 22), ('swetha', 23), ('vivin', 19), ('gokul', 28), ('vicky', 26), ('vidhya', 22)])\n",
        "print(marks_rdd.sortByKey(ascending=True).collect())"
      ],
      "metadata": {
        "colab": {
          "base_uri": "https://localhost:8080/"
        },
        "id": "0neegS7AnqeC",
        "outputId": "c61fbbea-ef9a-4bb6-a44a-eb05f6ee7f4e"
      },
      "execution_count": null,
      "outputs": [
        {
          "output_type": "stream",
          "name": "stdout",
          "text": [
            "[('gokul', 22), ('gokul', 28), ('swetha', 25), ('swetha', 23), ('vicky', 29), ('vicky', 26), ('vidhya', 22), ('vidhya', 22), ('vivin', 26), ('vivin', 19)]\n"
          ]
        }
      ]
    },
    {
      "cell_type": "code",
      "source": [
        "marks_rdd = sc.parallelize([('swetha', 25), ('vivin', 26), ('gokul', 22), ('vicky', 29), ('vidhya', 22), ('swetha', 23), ('vivin', 19), ('gokul', 28), ('vicky', 26), ('vidhya', 22)])\n",
        "dict_rdd = marks_rdd.groupByKey().collect()\n",
        "for key, value in dict_rdd:\n",
        "    print(key, list(value))"
      ],
      "metadata": {
        "colab": {
          "base_uri": "https://localhost:8080/"
        },
        "id": "tH9kCljsnt7h",
        "outputId": "290b1ca3-e39a-4e32-c3cb-6a681eba75f9"
      },
      "execution_count": null,
      "outputs": [
        {
          "output_type": "stream",
          "name": "stdout",
          "text": [
            "swetha [25, 23]\n",
            "vivin [26, 19]\n",
            "gokul [22, 28]\n",
            "vicky [29, 26]\n",
            "vidhya [22, 22]\n"
          ]
        }
      ]
    },
    {
      "cell_type": "code",
      "source": [
        "marks_rdd = sc.parallelize([('swetha', 25), ('vivin', 26), ('gokul', 22), ('vicky', 29), ('vidhya', 22), ('kabi', 23), ('vinoth', 19), ('anu', 28), ('renu', 26), ('gokul', 22)])\n",
        "dict_rdd = marks_rdd.countByKey().items()\n",
        "for key, value in dict_rdd:\n",
        "    print(key, value)"
      ],
      "metadata": {
        "colab": {
          "base_uri": "https://localhost:8080/"
        },
        "id": "1fK0uixknytd",
        "outputId": "a739dfc1-cd85-4358-cace-0bf7c19807f5"
      },
      "execution_count": null,
      "outputs": [
        {
          "output_type": "stream",
          "name": "stdout",
          "text": [
            "swetha 1\n",
            "vivin 1\n",
            "gokul 2\n",
            "vicky 1\n",
            "vidhya 1\n",
            "kabi 1\n",
            "vinoth 1\n",
            "anu 1\n",
            "renu 1\n"
          ]
        }
      ]
    },
    {
      "cell_type": "code",
      "source": [],
      "metadata": {
        "id": "efg2Me3Pn3iB"
      },
      "execution_count": null,
      "outputs": []
    }
  ]
}