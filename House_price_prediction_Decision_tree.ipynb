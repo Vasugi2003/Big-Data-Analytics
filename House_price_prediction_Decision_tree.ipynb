{
  "nbformat": 4,
  "nbformat_minor": 0,
  "metadata": {
    "colab": {
      "provenance": [],
      "include_colab_link": true
    },
    "kernelspec": {
      "name": "python3",
      "display_name": "Python 3"
    },
    "language_info": {
      "name": "python"
    }
  },
  "cells": [
    {
      "cell_type": "markdown",
      "metadata": {
        "id": "view-in-github",
        "colab_type": "text"
      },
      "source": [
        "<a href=\"https://colab.research.google.com/github/Vasugi2003/Big-Data-Analytics/blob/main/House_price_prediction_Decision_tree.ipynb\" target=\"_parent\"><img src=\"https://colab.research.google.com/assets/colab-badge.svg\" alt=\"Open In Colab\"/></a>"
      ]
    },
    {
      "cell_type": "code",
      "execution_count": null,
      "metadata": {
        "colab": {
          "base_uri": "https://localhost:8080/"
        },
        "id": "kyREa8VzIB13",
        "outputId": "bc7293e6-c18d-486b-9ddb-5cbc8589a4b5"
      },
      "outputs": [
        {
          "output_type": "stream",
          "name": "stdout",
          "text": [
            "Collecting pyspark\n",
            "  Downloading pyspark-3.5.0.tar.gz (316.9 MB)\n",
            "\u001b[2K     \u001b[90m━━━━━━━━━━━━━━━━━━━━━━━━━━━━━━━━━━━━━━━━\u001b[0m \u001b[32m316.9/316.9 MB\u001b[0m \u001b[31m2.8 MB/s\u001b[0m eta \u001b[36m0:00:00\u001b[0m\n",
            "\u001b[?25h  Preparing metadata (setup.py) ... \u001b[?25l\u001b[?25hdone\n",
            "Requirement already satisfied: py4j==0.10.9.7 in /usr/local/lib/python3.10/dist-packages (from pyspark) (0.10.9.7)\n",
            "Building wheels for collected packages: pyspark\n",
            "  Building wheel for pyspark (setup.py) ... \u001b[?25l\u001b[?25hdone\n",
            "  Created wheel for pyspark: filename=pyspark-3.5.0-py2.py3-none-any.whl size=317425344 sha256=ff5447dfe763032face2c557e2eeef3e02776c3cd894164a448554c537450c6d\n",
            "  Stored in directory: /root/.cache/pip/wheels/41/4e/10/c2cf2467f71c678cfc8a6b9ac9241e5e44a01940da8fbb17fc\n",
            "Successfully built pyspark\n",
            "Installing collected packages: pyspark\n",
            "Successfully installed pyspark-3.5.0\n"
          ]
        }
      ],
      "source": [
        "!pip install pyspark"
      ]
    },
    {
      "cell_type": "code",
      "source": [
        "from pyspark.ml import Pipeline\n",
        "from pyspark.ml.feature import StringIndexer, VectorAssembler\n",
        "from pyspark.ml.classification import DecisionTreeClassifier\n",
        "from pyspark.sql import SparkSession\n",
        "from pyspark.sql.types import IntegerType\n",
        "import pyspark.sql.functions as F\n",
        "from pyspark.ml.evaluation import MulticlassClassificationEvaluator\n",
        "\n",
        "# Initialize SparkSession\n",
        "spark = SparkSession.builder.appName(\"HousePriceClassification\").getOrCreate()"
      ],
      "metadata": {
        "id": "2uST33VOIGrk"
      },
      "execution_count": null,
      "outputs": []
    },
    {
      "cell_type": "code",
      "source": [
        "filepath = \"/content/houseprice.csv\"\n",
        "df1 = spark.read.csv(filepath, header=True, inferSchema=True)\n",
        "df1.show()\n"
      ],
      "metadata": {
        "colab": {
          "base_uri": "https://localhost:8080/"
        },
        "id": "2B_51qRIIZ4D",
        "outputId": "276bfeb5-63ef-46bc-a307-f6daf91e5330"
      },
      "execution_count": null,
      "outputs": [
        {
          "output_type": "stream",
          "name": "stdout",
          "text": [
            "+-------------------+---------+--------+---------+-----------+--------+------+----------+----+---------+----------+-------------+--------+------------+--------------------+----------------+--------+-------+\n",
            "|               date|    price|bedrooms|bathrooms|sqft_living|sqft_lot|floors|waterfront|view|condition|sqft_above|sqft_basement|yr_built|yr_renovated|              street|            city|statezip|country|\n",
            "+-------------------+---------+--------+---------+-----------+--------+------+----------+----+---------+----------+-------------+--------+------------+--------------------+----------------+--------+-------+\n",
            "|2014-05-02 00:00:00| 313000.0|     3.0|      1.5|       1340|    7912|   1.5|         0|   0|        3|      1340|            0|    1955|        2005|18810 Densmore Ave N|       Shoreline|WA 98133|    USA|\n",
            "|2014-05-02 00:00:00|2384000.0|     5.0|      2.5|       3650|    9050|   2.0|         0|   4|        5|      3370|          280|    1921|           0|     709 W Blaine St|         Seattle|WA 98119|    USA|\n",
            "|2014-05-02 00:00:00| 342000.0|     3.0|      2.0|       1930|   11947|   1.0|         0|   0|        4|      1930|            0|    1966|           0|26206-26214 143rd...|            Kent|WA 98042|    USA|\n",
            "|2014-05-02 00:00:00| 420000.0|     3.0|     2.25|       2000|    8030|   1.0|         0|   0|        4|      1000|         1000|    1963|           0|     857 170th Pl NE|        Bellevue|WA 98008|    USA|\n",
            "|2014-05-02 00:00:00| 550000.0|     4.0|      2.5|       1940|   10500|   1.0|         0|   0|        4|      1140|          800|    1976|        1992|   9105 170th Ave NE|         Redmond|WA 98052|    USA|\n",
            "|2014-05-02 00:00:00| 490000.0|     2.0|      1.0|        880|    6380|   1.0|         0|   0|        3|       880|            0|    1938|        1994|      522 NE 88th St|         Seattle|WA 98115|    USA|\n",
            "|2014-05-02 00:00:00| 335000.0|     2.0|      2.0|       1350|    2560|   1.0|         0|   0|        3|      1350|            0|    1976|           0|   2616 174th Ave NE|         Redmond|WA 98052|    USA|\n",
            "|2014-05-02 00:00:00| 482000.0|     4.0|      2.5|       2710|   35868|   2.0|         0|   0|        3|      2710|            0|    1989|           0|   23762 SE 253rd Pl|    Maple Valley|WA 98038|    USA|\n",
            "|2014-05-02 00:00:00| 452500.0|     3.0|      2.5|       2430|   88426|   1.0|         0|   0|        4|      1570|          860|    1985|           0|46611-46625 SE 12...|      North Bend|WA 98045|    USA|\n",
            "|2014-05-02 00:00:00| 640000.0|     4.0|      2.0|       1520|    6200|   1.5|         0|   0|        3|      1520|            0|    1945|        2010|    6811 55th Ave NE|         Seattle|WA 98115|    USA|\n",
            "|2014-05-02 00:00:00| 463000.0|     3.0|     1.75|       1710|    7320|   1.0|         0|   0|        3|      1710|            0|    1948|        1994|  Burke-Gilman Trail|Lake Forest Park|WA 98155|    USA|\n",
            "|2014-05-02 00:00:00|1400000.0|     4.0|      2.5|       2920|    4000|   1.5|         0|   0|        5|      1910|         1010|    1909|        1988|3838-4098 44th Av...|         Seattle|WA 98105|    USA|\n",
            "|2014-05-02 00:00:00| 588500.0|     3.0|     1.75|       2330|   14892|   1.0|         0|   0|        3|      1970|          360|    1980|           0|    1833 220th Pl NE|       Sammamish|WA 98074|    USA|\n",
            "|2014-05-02 00:00:00| 365000.0|     3.0|      1.0|       1090|    6435|   1.0|         0|   0|        4|      1090|            0|    1955|        2009| 2504 SW Portland Ct|         Seattle|WA 98106|    USA|\n",
            "|2014-05-02 00:00:00|1200000.0|     5.0|     2.75|       2910|    9480|   1.5|         0|   0|        3|      2910|            0|    1939|        1969|    3534 46th Ave NE|         Seattle|WA 98105|    USA|\n",
            "|2014-05-02 00:00:00| 242500.0|     3.0|      1.5|       1200|    9720|   1.0|         0|   0|        4|      1200|            0|    1965|           0|   14034 SE 201st St|            Kent|WA 98042|    USA|\n",
            "|2014-05-02 00:00:00| 419000.0|     3.0|      1.5|       1570|    6700|   1.0|         0|   0|        4|      1570|            0|    1956|           0|     15424 SE 9th St|        Bellevue|WA 98007|    USA|\n",
            "|2014-05-02 00:00:00| 367500.0|     4.0|      3.0|       3110|    7231|   2.0|         0|   0|        3|      3110|            0|    1997|           0|   11224 SE 306th Pl|          Auburn|WA 98092|    USA|\n",
            "|2014-05-02 00:00:00| 257950.0|     3.0|     1.75|       1370|    5858|   1.0|         0|   0|        3|      1370|            0|    1987|        2000|     1605 S 245th Pl|      Des Moines|WA 98198|    USA|\n",
            "|2014-05-02 00:00:00| 275000.0|     3.0|      1.5|       1180|   10277|   1.0|         0|   0|        3|      1180|            0|    1983|        2009|  12425 415th Ave SE|      North Bend|WA 98045|    USA|\n",
            "+-------------------+---------+--------+---------+-----------+--------+------+----------+----+---------+----------+-------------+--------+------------+--------------------+----------------+--------+-------+\n",
            "only showing top 20 rows\n",
            "\n"
          ]
        }
      ]
    },
    {
      "cell_type": "code",
      "source": [
        "df1.printSchema()"
      ],
      "metadata": {
        "colab": {
          "base_uri": "https://localhost:8080/"
        },
        "id": "xijw_lnkIZ7K",
        "outputId": "2f7702a5-4540-4b19-8e66-d79b34b10cf3"
      },
      "execution_count": null,
      "outputs": [
        {
          "output_type": "stream",
          "name": "stdout",
          "text": [
            "root\n",
            " |-- date: timestamp (nullable = true)\n",
            " |-- price: double (nullable = true)\n",
            " |-- bedrooms: double (nullable = true)\n",
            " |-- bathrooms: double (nullable = true)\n",
            " |-- sqft_living: integer (nullable = true)\n",
            " |-- sqft_lot: integer (nullable = true)\n",
            " |-- floors: double (nullable = true)\n",
            " |-- waterfront: integer (nullable = true)\n",
            " |-- view: integer (nullable = true)\n",
            " |-- condition: integer (nullable = true)\n",
            " |-- sqft_above: integer (nullable = true)\n",
            " |-- sqft_basement: integer (nullable = true)\n",
            " |-- yr_built: integer (nullable = true)\n",
            " |-- yr_renovated: integer (nullable = true)\n",
            " |-- street: string (nullable = true)\n",
            " |-- city: string (nullable = true)\n",
            " |-- statezip: string (nullable = true)\n",
            " |-- country: string (nullable = true)\n",
            "\n"
          ]
        }
      ]
    },
    {
      "cell_type": "code",
      "source": [
        "\n",
        "df1 = df1.withColumn(\"price\", when(col(\"price\") > 600000, 1).otherwise(0).cast(IntegerType()))\n",
        "\n",
        "# Show the resulting DataFrame\n",
        "df1.show()\n"
      ],
      "metadata": {
        "id": "jOI5JVItMLqY",
        "colab": {
          "base_uri": "https://localhost:8080/"
        },
        "outputId": "ec758bc2-2577-4c0e-f9d6-8da7d51b2f4c"
      },
      "execution_count": null,
      "outputs": [
        {
          "output_type": "stream",
          "name": "stdout",
          "text": [
            "+-------------------+-----+--------+---------+-----------+--------+------+----------+----+---------+----------+-------------+--------+------------+--------------------+----------------+--------+-------+\n",
            "|               date|price|bedrooms|bathrooms|sqft_living|sqft_lot|floors|waterfront|view|condition|sqft_above|sqft_basement|yr_built|yr_renovated|              street|            city|statezip|country|\n",
            "+-------------------+-----+--------+---------+-----------+--------+------+----------+----+---------+----------+-------------+--------+------------+--------------------+----------------+--------+-------+\n",
            "|2014-05-02 00:00:00|    0|     3.0|      1.5|       1340|    7912|   1.5|         0|   0|        3|      1340|            0|    1955|        2005|18810 Densmore Ave N|       Shoreline|WA 98133|    USA|\n",
            "|2014-05-02 00:00:00|    1|     5.0|      2.5|       3650|    9050|   2.0|         0|   4|        5|      3370|          280|    1921|           0|     709 W Blaine St|         Seattle|WA 98119|    USA|\n",
            "|2014-05-02 00:00:00|    0|     3.0|      2.0|       1930|   11947|   1.0|         0|   0|        4|      1930|            0|    1966|           0|26206-26214 143rd...|            Kent|WA 98042|    USA|\n",
            "|2014-05-02 00:00:00|    0|     3.0|     2.25|       2000|    8030|   1.0|         0|   0|        4|      1000|         1000|    1963|           0|     857 170th Pl NE|        Bellevue|WA 98008|    USA|\n",
            "|2014-05-02 00:00:00|    0|     4.0|      2.5|       1940|   10500|   1.0|         0|   0|        4|      1140|          800|    1976|        1992|   9105 170th Ave NE|         Redmond|WA 98052|    USA|\n",
            "|2014-05-02 00:00:00|    0|     2.0|      1.0|        880|    6380|   1.0|         0|   0|        3|       880|            0|    1938|        1994|      522 NE 88th St|         Seattle|WA 98115|    USA|\n",
            "|2014-05-02 00:00:00|    0|     2.0|      2.0|       1350|    2560|   1.0|         0|   0|        3|      1350|            0|    1976|           0|   2616 174th Ave NE|         Redmond|WA 98052|    USA|\n",
            "|2014-05-02 00:00:00|    0|     4.0|      2.5|       2710|   35868|   2.0|         0|   0|        3|      2710|            0|    1989|           0|   23762 SE 253rd Pl|    Maple Valley|WA 98038|    USA|\n",
            "|2014-05-02 00:00:00|    0|     3.0|      2.5|       2430|   88426|   1.0|         0|   0|        4|      1570|          860|    1985|           0|46611-46625 SE 12...|      North Bend|WA 98045|    USA|\n",
            "|2014-05-02 00:00:00|    1|     4.0|      2.0|       1520|    6200|   1.5|         0|   0|        3|      1520|            0|    1945|        2010|    6811 55th Ave NE|         Seattle|WA 98115|    USA|\n",
            "|2014-05-02 00:00:00|    0|     3.0|     1.75|       1710|    7320|   1.0|         0|   0|        3|      1710|            0|    1948|        1994|  Burke-Gilman Trail|Lake Forest Park|WA 98155|    USA|\n",
            "|2014-05-02 00:00:00|    1|     4.0|      2.5|       2920|    4000|   1.5|         0|   0|        5|      1910|         1010|    1909|        1988|3838-4098 44th Av...|         Seattle|WA 98105|    USA|\n",
            "|2014-05-02 00:00:00|    0|     3.0|     1.75|       2330|   14892|   1.0|         0|   0|        3|      1970|          360|    1980|           0|    1833 220th Pl NE|       Sammamish|WA 98074|    USA|\n",
            "|2014-05-02 00:00:00|    0|     3.0|      1.0|       1090|    6435|   1.0|         0|   0|        4|      1090|            0|    1955|        2009| 2504 SW Portland Ct|         Seattle|WA 98106|    USA|\n",
            "|2014-05-02 00:00:00|    1|     5.0|     2.75|       2910|    9480|   1.5|         0|   0|        3|      2910|            0|    1939|        1969|    3534 46th Ave NE|         Seattle|WA 98105|    USA|\n",
            "|2014-05-02 00:00:00|    0|     3.0|      1.5|       1200|    9720|   1.0|         0|   0|        4|      1200|            0|    1965|           0|   14034 SE 201st St|            Kent|WA 98042|    USA|\n",
            "|2014-05-02 00:00:00|    0|     3.0|      1.5|       1570|    6700|   1.0|         0|   0|        4|      1570|            0|    1956|           0|     15424 SE 9th St|        Bellevue|WA 98007|    USA|\n",
            "|2014-05-02 00:00:00|    0|     4.0|      3.0|       3110|    7231|   2.0|         0|   0|        3|      3110|            0|    1997|           0|   11224 SE 306th Pl|          Auburn|WA 98092|    USA|\n",
            "|2014-05-02 00:00:00|    0|     3.0|     1.75|       1370|    5858|   1.0|         0|   0|        3|      1370|            0|    1987|        2000|     1605 S 245th Pl|      Des Moines|WA 98198|    USA|\n",
            "|2014-05-02 00:00:00|    0|     3.0|      1.5|       1180|   10277|   1.0|         0|   0|        3|      1180|            0|    1983|        2009|  12425 415th Ave SE|      North Bend|WA 98045|    USA|\n",
            "+-------------------+-----+--------+---------+-----------+--------+------+----------+----+---------+----------+-------------+--------+------------+--------------------+----------------+--------+-------+\n",
            "only showing top 20 rows\n",
            "\n"
          ]
        }
      ]
    },
    {
      "cell_type": "code",
      "source": [
        "inputColumns = ['bedrooms', 'bathrooms', 'sqft_living', 'sqft_lot', 'floors', 'sqft_basement']\n",
        "outputColumn = \"features\""
      ],
      "metadata": {
        "id": "nO0yXaWHMLxJ"
      },
      "execution_count": null,
      "outputs": []
    },
    {
      "cell_type": "code",
      "source": [
        "for col_name in inputColumns:\n",
        "    df1 = df1.withColumn(col_name, df1[col_name].cast(IntegerType()))"
      ],
      "metadata": {
        "id": "3BeUHzbLML0o"
      },
      "execution_count": null,
      "outputs": []
    },
    {
      "cell_type": "code",
      "source": [
        "price_indexer = StringIndexer(inputCol=\"price\", outputCol=\"priceIndex\")\n",
        "\n",
        "vector_assembler = VectorAssembler(inputCols=inputColumns, outputCol=outputColumn)\n",
        "\n",
        "dt_model = DecisionTreeClassifier(labelCol=\"price\", featuresCol=outputColumn)"
      ],
      "metadata": {
        "id": "twC2Oh4WML3w"
      },
      "execution_count": null,
      "outputs": []
    },
    {
      "cell_type": "code",
      "source": [
        "stages = [price_indexer, vector_assembler, dt_model]\n",
        "\n",
        "pipeline = Pipeline(stages=stages)\n",
        "\n",
        "(train_df2, test_df2) = df1.randomSplit([0.8, 0.2], seed=11)"
      ],
      "metadata": {
        "id": "uWyRiXabML7B"
      },
      "execution_count": null,
      "outputs": []
    },
    {
      "cell_type": "code",
      "source": [
        "final_pipeline = pipeline.fit(train_df2)\n",
        "\n",
        "test_predictions_from_pipeline = final_pipeline.transform(test_df2)"
      ],
      "metadata": {
        "id": "W3Y78zbuML-K"
      },
      "execution_count": null,
      "outputs": []
    },
    {
      "cell_type": "code",
      "source": [
        "test_predictions_from_pipeline.select(\"price\", \"prediction\").show(5)"
      ],
      "metadata": {
        "colab": {
          "base_uri": "https://localhost:8080/"
        },
        "id": "2E_uW3Q3MMBC",
        "outputId": "95992697-bb1e-478d-ddcc-2725acd32651"
      },
      "execution_count": null,
      "outputs": [
        {
          "output_type": "stream",
          "name": "stdout",
          "text": [
            "+-----+----------+\n",
            "|price|prediction|\n",
            "+-----+----------+\n",
            "|    0|       0.0|\n",
            "|    0|       0.0|\n",
            "|    0|       0.0|\n",
            "|    0|       0.0|\n",
            "|    0|       0.0|\n",
            "+-----+----------+\n",
            "only showing top 5 rows\n",
            "\n"
          ]
        }
      ]
    },
    {
      "cell_type": "code",
      "source": [
        "from pyspark.ml.evaluation import MulticlassClassificationEvaluator\n",
        "\n",
        "\n",
        "\n",
        "evaluator = MulticlassClassificationEvaluator(labelCol=\"price\", predictionCol=\"prediction\", metricName=\"accuracy\")\n",
        "\n",
        "accuracy = evaluator.evaluate(test_predictions_from_pipeline)\n",
        "print(f\"Accuracy: {accuracy}\")"
      ],
      "metadata": {
        "colab": {
          "base_uri": "https://localhost:8080/"
        },
        "id": "AtHnxhdIMhqH",
        "outputId": "ff133a69-94d6-46ff-bc66-b66ab008f3dc"
      },
      "execution_count": null,
      "outputs": [
        {
          "output_type": "stream",
          "name": "stdout",
          "text": [
            "Accuracy: 0.7871396895787139\n"
          ]
        }
      ]
    },
    {
      "cell_type": "code",
      "source": [],
      "metadata": {
        "id": "0OPZaQGTMkVn"
      },
      "execution_count": null,
      "outputs": []
    }
  ]
}