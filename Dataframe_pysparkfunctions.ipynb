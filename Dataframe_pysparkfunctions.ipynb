{
  "nbformat": 4,
  "nbformat_minor": 0,
  "metadata": {
    "colab": {
      "provenance": [],
      "include_colab_link": true
    },
    "kernelspec": {
      "name": "python3",
      "display_name": "Python 3"
    },
    "language_info": {
      "name": "python"
    }
  },
  "cells": [
    {
      "cell_type": "markdown",
      "metadata": {
        "id": "view-in-github",
        "colab_type": "text"
      },
      "source": [
        "<a href=\"https://colab.research.google.com/github/Vasugi2003/Big-Data-Analytics/blob/main/Dataframe_pysparkfunctions.ipynb\" target=\"_parent\"><img src=\"https://colab.research.google.com/assets/colab-badge.svg\" alt=\"Open In Colab\"/></a>"
      ]
    },
    {
      "cell_type": "code",
      "execution_count": null,
      "metadata": {
        "colab": {
          "base_uri": "https://localhost:8080/"
        },
        "id": "-kqUOyrLVy1a",
        "outputId": "24be786c-ed63-499a-c97d-74956f90731e"
      },
      "outputs": [
        {
          "output_type": "stream",
          "name": "stdout",
          "text": [
            "Collecting pyspark\n",
            "  Downloading pyspark-3.4.1.tar.gz (310.8 MB)\n",
            "\u001b[2K     \u001b[90m━━━━━━━━━━━━━━━━━━━━━━━━━━━━━━━━━━━━━━━\u001b[0m \u001b[32m310.8/310.8 MB\u001b[0m \u001b[31m4.7 MB/s\u001b[0m eta \u001b[36m0:00:00\u001b[0m\n",
            "\u001b[?25h  Preparing metadata (setup.py) ... \u001b[?25l\u001b[?25hdone\n",
            "Requirement already satisfied: py4j==0.10.9.7 in /usr/local/lib/python3.10/dist-packages (from pyspark) (0.10.9.7)\n",
            "Building wheels for collected packages: pyspark\n",
            "  Building wheel for pyspark (setup.py) ... \u001b[?25l\u001b[?25hdone\n",
            "  Created wheel for pyspark: filename=pyspark-3.4.1-py2.py3-none-any.whl size=311285387 sha256=648789664567b6dd6b2584db330d8175a9d81daf4ba1c97e39d595a7764c635f\n",
            "  Stored in directory: /root/.cache/pip/wheels/0d/77/a3/ff2f74cc9ab41f8f594dabf0579c2a7c6de920d584206e0834\n",
            "Successfully built pyspark\n",
            "Installing collected packages: pyspark\n",
            "Successfully installed pyspark-3.4.1\n"
          ]
        }
      ],
      "source": [
        "!pip install pyspark"
      ]
    },
    {
      "cell_type": "code",
      "source": [
        "# importing module\n",
        "import pyspark\n",
        "\n",
        "# importing sparksession from pyspark.sql\n",
        "# module\n",
        "from pyspark.sql import SparkSession\n",
        "\n",
        "# creating sparksession and giving an app\n",
        "# name\n",
        "spark = SparkSession.builder.appName('sparkdf').getOrCreate()\n",
        "\n",
        "# list  of students  data\n",
        "data = [\n",
        "        [\"21ADR001\", \"aarthi\", \"KEC\",\"AI\" ,67, 89],\n",
        "        [\"21ADR002\", \"cibi\", \"PSG\",\"AI\", 78, 89],\n",
        "        [\"21ADR004\", \"chandru\", \"KEC\",\"AI\", 78, 89],\n",
        "        [\"21CSR51\", \"raj\", \"KEC\", \"CSE\" ,100, 80],\n",
        "        [\"21CSR55\", \"rohith\", \"KEC\", \"CSE\", 100, 80],\n",
        "        [\"21CSR76\", \"vetri\", \"PSG\", \"CSE\", 57, 80],\n",
        "        [\"21CSR51\", \"zubair\", \"KEC\", \"CSE\" ,85, 80],\n",
        "        [\"21ADR072\", \"saran\", \"PSG\",\"AI\", 78, 89],\n",
        "        [\"21ADR073\", \"siva\", \"PSG\",\"AI\", 78, 58],\n",
        "        [\"21ITR004\", \"arun\", \"PSG\",\"IT\", 58, 78],\n",
        "        [\"21ITR005\", \"cibi\", \"PSG\",\"IT\" ,68, 56],\n",
        "        [\"21ITR002\", \"adhi\", \"PSG\",\"IT\", 78, 90],\n",
        "        [\"21MTR002\", \"adhi\", \"PSG\",\"MTS\", 78, 90],\n",
        "       ]\n",
        "\n",
        "# specify column names\n",
        "columns = ['studentID', 'studentname',\n",
        "           'collegename', 'dept','subject 1', 'subject 2']\n",
        "\n",
        "# creating a dataframe from the lists of data\n",
        "df = spark.createDataFrame(data, columns)\n",
        "# display dataframe\n",
        "df.show()\n"
      ],
      "metadata": {
        "colab": {
          "base_uri": "https://localhost:8080/"
        },
        "id": "6WNLmwWLV66E",
        "outputId": "ab8d3e3e-9e9b-469f-de38-9b0381269d4c"
      },
      "execution_count": null,
      "outputs": [
        {
          "output_type": "stream",
          "name": "stdout",
          "text": [
            "+---------+-----------+-----------+----+---------+---------+\n",
            "|studentID|studentname|collegename|dept|subject 1|subject 2|\n",
            "+---------+-----------+-----------+----+---------+---------+\n",
            "| 21ADR001|     aarthi|        KEC|  AI|       67|       89|\n",
            "| 21ADR002|       cibi|        PSG|  AI|       78|       89|\n",
            "| 21ADR004|    chandru|        KEC|  AI|       78|       89|\n",
            "|  21CSR51|        raj|        KEC| CSE|      100|       80|\n",
            "|  21CSR55|     rohith|        KEC| CSE|      100|       80|\n",
            "|  21CSR76|      vetri|        PSG| CSE|       57|       80|\n",
            "|  21CSR51|     zubair|        KEC| CSE|       85|       80|\n",
            "| 21ADR072|      saran|        PSG|  AI|       78|       89|\n",
            "| 21ADR073|       siva|        PSG|  AI|       78|       58|\n",
            "| 21ITR004|       arun|        PSG|  IT|       58|       78|\n",
            "| 21ITR005|       cibi|        PSG|  IT|       68|       56|\n",
            "| 21ITR002|       adhi|        PSG|  IT|       78|       90|\n",
            "| 21MTR002|       adhi|        PSG| MTS|       78|       90|\n",
            "+---------+-----------+-----------+----+---------+---------+\n",
            "\n"
          ]
        }
      ]
    },
    {
      "cell_type": "code",
      "source": [
        "df.printSchema()"
      ],
      "metadata": {
        "colab": {
          "base_uri": "https://localhost:8080/"
        },
        "id": "BqkniIM8i1jY",
        "outputId": "7c33c4a5-0b28-4486-ba5a-c2db79174f84"
      },
      "execution_count": null,
      "outputs": [
        {
          "output_type": "stream",
          "name": "stdout",
          "text": [
            "root\n",
            " |-- studentID: string (nullable = true)\n",
            " |-- studentname: string (nullable = true)\n",
            " |-- collegename: string (nullable = true)\n",
            " |-- dept: string (nullable = true)\n",
            " |-- subject 1: long (nullable = true)\n",
            " |-- subject 2: long (nullable = true)\n",
            "\n"
          ]
        }
      ]
    },
    {
      "cell_type": "code",
      "source": [
        "df.show(n=2,truncate=25)\n",
        "'''The show method is used to display rows from the DataFrame in a human-readable\n",
        " tabular format.\n",
        " The first argument 2 specifies that you want to display the first 2 rows of the DataFrame.\n",
        " The optional argument truncate=25 specifies that if any column's content exceeds\n",
        " 25 characters, it will be truncated (abbreviated) to fit within that length.\n",
        " '''\n"
      ],
      "metadata": {
        "colab": {
          "base_uri": "https://localhost:8080/",
          "height": 192
        },
        "id": "syxHp0Ugglp5",
        "outputId": "5db3fbb4-2155-4b5f-eefc-3f2bb68e49f3"
      },
      "execution_count": null,
      "outputs": [
        {
          "output_type": "stream",
          "name": "stdout",
          "text": [
            "+---------+-----------+-----------+----+---------+---------+\n",
            "|studentID|studentname|collegename|dept|subject 1|subject 2|\n",
            "+---------+-----------+-----------+----+---------+---------+\n",
            "| 21ADR001|     aarthi|        KEC|  AI|       67|       89|\n",
            "| 21ADR002|       cibi|        PSG|  AI|       78|       89|\n",
            "+---------+-----------+-----------+----+---------+---------+\n",
            "only showing top 2 rows\n",
            "\n"
          ]
        },
        {
          "output_type": "execute_result",
          "data": {
            "text/plain": [
              "\"The show method is used to display rows from the DataFrame in a human-readable\\n tabular format.\\n The first argument 2 specifies that you want to display the first 2 rows of the DataFrame.\\n The optional argument truncate=25 specifies that if any column's content exceeds\\n 25 characters, it will be truncated (abbreviated) to fit within that length.\\n \""
            ],
            "application/vnd.google.colaboratory.intrinsic+json": {
              "type": "string"
            }
          },
          "metadata": {},
          "execution_count": 5
        }
      ]
    },
    {
      "cell_type": "code",
      "source": [
        "# Display DataFrame rows & columns vertically\n",
        "df.show(n=3,truncate=25)"
      ],
      "metadata": {
        "colab": {
          "base_uri": "https://localhost:8080/"
        },
        "id": "4GNymDvvg1pa",
        "outputId": "031e72d8-bc83-4d34-9e7c-9ceb34cc6267"
      },
      "execution_count": null,
      "outputs": [
        {
          "output_type": "stream",
          "name": "stdout",
          "text": [
            "+---------+-----------+-----------+----+---------+---------+\n",
            "|studentID|studentname|collegename|dept|subject 1|subject 2|\n",
            "+---------+-----------+-----------+----+---------+---------+\n",
            "| 21ADR001|     aarthi|        KEC|  AI|       67|       89|\n",
            "| 21ADR002|       cibi|        PSG|  AI|       78|       89|\n",
            "| 21ADR004|    chandru|        KEC|  AI|       78|       89|\n",
            "+---------+-----------+-----------+----+---------+---------+\n",
            "only showing top 3 rows\n",
            "\n"
          ]
        }
      ]
    },
    {
      "cell_type": "code",
      "source": [
        "df.select(\"*\").show()"
      ],
      "metadata": {
        "colab": {
          "base_uri": "https://localhost:8080/"
        },
        "id": "kNCsDZVQh5rZ",
        "outputId": "eb088311-631e-4763-f901-1f1abb97d5dc"
      },
      "execution_count": null,
      "outputs": [
        {
          "output_type": "stream",
          "name": "stdout",
          "text": [
            "+---------+-----------+-----------+----+---------+---------+\n",
            "|studentID|studentname|collegename|dept|subject 1|subject 2|\n",
            "+---------+-----------+-----------+----+---------+---------+\n",
            "| 21ADR001|     aarthi|        KEC|  AI|       67|       89|\n",
            "| 21ADR002|       cibi|        PSG|  AI|       78|       89|\n",
            "| 21ADR004|    chandru|        KEC|  AI|       78|       89|\n",
            "|  21CSR51|        raj|        KEC| CSE|      100|       80|\n",
            "|  21CSR55|     rohith|        KEC| CSE|      100|       80|\n",
            "|  21CSR76|      vetri|        PSG| CSE|       57|       80|\n",
            "|  21CSR51|     zubair|        KEC| CSE|       85|       80|\n",
            "| 21ADR072|      saran|        PSG|  AI|       78|       89|\n",
            "| 21ADR073|       siva|        PSG|  AI|       78|       58|\n",
            "| 21ITR004|       arun|        PSG|  IT|       58|       78|\n",
            "| 21ITR005|       cibi|        PSG|  IT|       68|       56|\n",
            "| 21ITR002|       adhi|        PSG|  IT|       78|       90|\n",
            "| 21MTR002|       adhi|        PSG| MTS|       78|       90|\n",
            "+---------+-----------+-----------+----+---------+---------+\n",
            "\n"
          ]
        }
      ]
    },
    {
      "cell_type": "code",
      "source": [
        "df.select(df.columns[1:4]).show(3)"
      ],
      "metadata": {
        "colab": {
          "base_uri": "https://localhost:8080/"
        },
        "id": "A7VCj088h8lH",
        "outputId": "95474fd0-6676-4b33-e05c-150baa949802"
      },
      "execution_count": null,
      "outputs": [
        {
          "output_type": "stream",
          "name": "stdout",
          "text": [
            "+-----------+-----------+----+\n",
            "|studentname|collegename|dept|\n",
            "+-----------+-----------+----+\n",
            "|     aarthi|        KEC|  AI|\n",
            "|       cibi|        PSG|  AI|\n",
            "|    chandru|        KEC|  AI|\n",
            "+-----------+-----------+----+\n",
            "only showing top 3 rows\n",
            "\n"
          ]
        }
      ]
    },
    {
      "cell_type": "code",
      "source": [],
      "metadata": {
        "id": "QeiuO0V6jq_2"
      },
      "execution_count": null,
      "outputs": []
    },
    {
      "cell_type": "markdown",
      "source": [
        "collect () vs select ()\n",
        "select() is a transformation that returns a new DataFrame and holds the columns that are selected whereas collect() is an action that returns the entire data set in an Array to the driver."
      ],
      "metadata": {
        "id": "U8k14PO2jtVx"
      }
    },
    {
      "cell_type": "code",
      "source": [
        "df.select(\"*\").show()"
      ],
      "metadata": {
        "colab": {
          "base_uri": "https://localhost:8080/"
        },
        "id": "tfGZOLRrjlwP",
        "outputId": "86b4ef78-582d-4f76-98fc-3438488832e9"
      },
      "execution_count": null,
      "outputs": [
        {
          "output_type": "stream",
          "name": "stdout",
          "text": [
            "+---------+-----------+-----------+----+---------+---------+\n",
            "|studentID|studentname|collegename|dept|subject 1|subject 2|\n",
            "+---------+-----------+-----------+----+---------+---------+\n",
            "| 21ADR001|     aarthi|        KEC|  AI|       67|       89|\n",
            "| 21ADR002|       cibi|        PSG|  AI|       78|       89|\n",
            "| 21ADR004|    chandru|        KEC|  AI|       78|       89|\n",
            "|  21CSR51|        raj|        KEC| CSE|      100|       80|\n",
            "|  21CSR55|     rohith|        KEC| CSE|      100|       80|\n",
            "|  21CSR76|      vetri|        PSG| CSE|       57|       80|\n",
            "|  21CSR51|     zubair|        KEC| CSE|       85|       80|\n",
            "| 21ADR072|      saran|        PSG|  AI|       78|       89|\n",
            "| 21ADR073|       siva|        PSG|  AI|       78|       58|\n",
            "| 21ITR004|       arun|        PSG|  IT|       58|       78|\n",
            "| 21ITR005|       cibi|        PSG|  IT|       68|       56|\n",
            "| 21ITR002|       adhi|        PSG|  IT|       78|       90|\n",
            "| 21MTR002|       adhi|        PSG| MTS|       78|       90|\n",
            "+---------+-----------+-----------+----+---------+---------+\n",
            "\n"
          ]
        }
      ]
    },
    {
      "cell_type": "code",
      "source": [
        "dataCollect = df.collect()\n",
        "print(dataCollect)"
      ],
      "metadata": {
        "colab": {
          "base_uri": "https://localhost:8080/"
        },
        "id": "97sCQWz6jR6v",
        "outputId": "a0b62dc4-3961-4d10-c14f-cdcffa752cc8"
      },
      "execution_count": null,
      "outputs": [
        {
          "output_type": "stream",
          "name": "stdout",
          "text": [
            "[Row(studentID='21ADR001', studentname='aarthi', collegename='KEC', dept='AI', subject 1=67, subject 2=89), Row(studentID='21ADR002', studentname='cibi', collegename='PSG', dept='AI', subject 1=78, subject 2=89), Row(studentID='21ADR004', studentname='chandru', collegename='KEC', dept='AI', subject 1=78, subject 2=89), Row(studentID='21CSR51', studentname='raj', collegename='KEC', dept='CSE', subject 1=100, subject 2=80), Row(studentID='21CSR55', studentname='rohith', collegename='KEC', dept='CSE', subject 1=100, subject 2=80), Row(studentID='21CSR76', studentname='vetri', collegename='PSG', dept='CSE', subject 1=57, subject 2=80), Row(studentID='21CSR51', studentname='zubair', collegename='KEC', dept='CSE', subject 1=85, subject 2=80), Row(studentID='21ADR072', studentname='saran', collegename='PSG', dept='AI', subject 1=78, subject 2=89), Row(studentID='21ADR073', studentname='siva', collegename='PSG', dept='AI', subject 1=78, subject 2=58), Row(studentID='21ITR004', studentname='arun', collegename='PSG', dept='IT', subject 1=58, subject 2=78), Row(studentID='21ITR005', studentname='cibi', collegename='PSG', dept='IT', subject 1=68, subject 2=56), Row(studentID='21ITR002', studentname='adhi', collegename='PSG', dept='IT', subject 1=78, subject 2=90), Row(studentID='21MTR002', studentname='adhi', collegename='PSG', dept='MTS', subject 1=78, subject 2=90)]\n"
          ]
        }
      ]
    },
    {
      "cell_type": "code",
      "source": [
        "df.collect()"
      ],
      "metadata": {
        "colab": {
          "base_uri": "https://localhost:8080/"
        },
        "id": "SJWqBDdUi0B_",
        "outputId": "47bbafce-6587-4368-dcc0-c01930b52713"
      },
      "execution_count": null,
      "outputs": [
        {
          "output_type": "execute_result",
          "data": {
            "text/plain": [
              "[Row(studentID='21ADR001', studentname='aarthi', collegename='KEC', dept='AI', subject 1=67, subject 2=89),\n",
              " Row(studentID='21ADR002', studentname='cibi', collegename='PSG', dept='AI', subject 1=78, subject 2=89),\n",
              " Row(studentID='21ADR004', studentname='chandru', collegename='KEC', dept='AI', subject 1=78, subject 2=89),\n",
              " Row(studentID='21CSR51', studentname='raj', collegename='KEC', dept='CSE', subject 1=100, subject 2=80),\n",
              " Row(studentID='21CSR55', studentname='rohith', collegename='KEC', dept='CSE', subject 1=100, subject 2=80),\n",
              " Row(studentID='21CSR76', studentname='vetri', collegename='PSG', dept='CSE', subject 1=57, subject 2=80),\n",
              " Row(studentID='21CSR51', studentname='zubair', collegename='KEC', dept='CSE', subject 1=85, subject 2=80),\n",
              " Row(studentID='21ADR072', studentname='saran', collegename='PSG', dept='AI', subject 1=78, subject 2=89),\n",
              " Row(studentID='21ADR073', studentname='siva', collegename='PSG', dept='AI', subject 1=78, subject 2=58),\n",
              " Row(studentID='21ITR004', studentname='arun', collegename='PSG', dept='IT', subject 1=58, subject 2=78),\n",
              " Row(studentID='21ITR005', studentname='cibi', collegename='PSG', dept='IT', subject 1=68, subject 2=56),\n",
              " Row(studentID='21ITR002', studentname='adhi', collegename='PSG', dept='IT', subject 1=78, subject 2=90),\n",
              " Row(studentID='21MTR002', studentname='adhi', collegename='PSG', dept='MTS', subject 1=78, subject 2=90)]"
            ]
          },
          "metadata": {},
          "execution_count": 11
        }
      ]
    },
    {
      "cell_type": "code",
      "source": [],
      "metadata": {
        "id": "XXE6PgltjRZX"
      },
      "execution_count": null,
      "outputs": []
    },
    {
      "cell_type": "markdown",
      "source": [
        "Filter()"
      ],
      "metadata": {
        "id": "Z5y0_6zpj4sv"
      }
    },
    {
      "cell_type": "code",
      "source": [
        "df.filter(df.dept == \"AI\").show(truncate=False)\n",
        "\n",
        "'''filter(df.dept == \"AI\"):\n",
        "The filter method is used to select rows from the DataFrame based on a condition.\n",
        "In this case, df.dept == \"AI\" is the condition.\n",
        "It filters the DataFrame to include only rows where the value in the \"dept\" column\n",
        "is equal to \"AI\". This is essentially selecting rows where the department is \"AI\"\n",
        "(presumably \"Artificial Intelligence\").'''"
      ],
      "metadata": {
        "colab": {
          "base_uri": "https://localhost:8080/",
          "height": 227
        },
        "id": "CsX6mZq2j6-R",
        "outputId": "7578099f-f4d1-4ab4-ff83-c3e095b72d7a"
      },
      "execution_count": null,
      "outputs": [
        {
          "output_type": "stream",
          "name": "stdout",
          "text": [
            "+---------+-----------+-----------+----+---------+---------+\n",
            "|studentID|studentname|collegename|dept|subject 1|subject 2|\n",
            "+---------+-----------+-----------+----+---------+---------+\n",
            "|21ADR001 |aarthi     |KEC        |AI  |67       |89       |\n",
            "|21ADR002 |cibi       |PSG        |AI  |78       |89       |\n",
            "|21ADR004 |chandru    |KEC        |AI  |78       |89       |\n",
            "|21ADR072 |saran      |PSG        |AI  |78       |89       |\n",
            "|21ADR073 |siva       |PSG        |AI  |78       |58       |\n",
            "+---------+-----------+-----------+----+---------+---------+\n",
            "\n"
          ]
        },
        {
          "output_type": "execute_result",
          "data": {
            "text/plain": [
              "'filter(df.dept == \"AI\"):\\nThe filter method is used to select rows from the DataFrame based on a condition.\\nIn this case, df.dept == \"AI\" is the condition.\\nIt filters the DataFrame to include only rows where the value in the \"dept\" column\\nis equal to \"AI\". This is essentially selecting rows where the department is \"AI\"\\n(presumably \"Artificial Intelligence\").'"
            ],
            "application/vnd.google.colaboratory.intrinsic+json": {
              "type": "string"
            }
          },
          "metadata": {},
          "execution_count": 12
        }
      ]
    },
    {
      "cell_type": "code",
      "source": [
        "df.filter(~(df.dept == \"AI\")).show(truncate=False)"
      ],
      "metadata": {
        "colab": {
          "base_uri": "https://localhost:8080/"
        },
        "id": "myI4fpdEkDPu",
        "outputId": "bd6beb33-eb95-482e-f1a0-65784af36612"
      },
      "execution_count": null,
      "outputs": [
        {
          "output_type": "stream",
          "name": "stdout",
          "text": [
            "+---------+-----------+-----------+----+---------+---------+\n",
            "|studentID|studentname|collegename|dept|subject 1|subject 2|\n",
            "+---------+-----------+-----------+----+---------+---------+\n",
            "|21CSR51  |raj        |KEC        |CSE |100      |80       |\n",
            "|21CSR55  |rohith     |KEC        |CSE |100      |80       |\n",
            "|21CSR76  |vetri      |PSG        |CSE |57       |80       |\n",
            "|21CSR51  |zubair     |KEC        |CSE |85       |80       |\n",
            "|21ITR004 |arun       |PSG        |IT  |58       |78       |\n",
            "|21ITR005 |cibi       |PSG        |IT  |68       |56       |\n",
            "|21ITR002 |adhi       |PSG        |IT  |78       |90       |\n",
            "|21MTR002 |adhi       |PSG        |MTS |78       |90       |\n",
            "+---------+-----------+-----------+----+---------+---------+\n",
            "\n"
          ]
        }
      ]
    },
    {
      "cell_type": "code",
      "source": [
        "df.filter(df.dept != \"AI\").show(truncate=False)"
      ],
      "metadata": {
        "colab": {
          "base_uri": "https://localhost:8080/"
        },
        "id": "P4-h2_AtkMrL",
        "outputId": "a4a9cf61-3a46-45c7-e064-c8603cad4755"
      },
      "execution_count": null,
      "outputs": [
        {
          "output_type": "stream",
          "name": "stdout",
          "text": [
            "+---------+-----------+-----------+----+---------+---------+\n",
            "|studentID|studentname|collegename|dept|subject 1|subject 2|\n",
            "+---------+-----------+-----------+----+---------+---------+\n",
            "|21CSR51  |raj        |KEC        |CSE |100      |80       |\n",
            "|21CSR55  |rohith     |KEC        |CSE |100      |80       |\n",
            "|21CSR76  |vetri      |PSG        |CSE |57       |80       |\n",
            "|21CSR51  |zubair     |KEC        |CSE |85       |80       |\n",
            "|21ITR004 |arun       |PSG        |IT  |58       |78       |\n",
            "|21ITR005 |cibi       |PSG        |IT  |68       |56       |\n",
            "|21ITR002 |adhi       |PSG        |IT  |78       |90       |\n",
            "|21MTR002 |adhi       |PSG        |MTS |78       |90       |\n",
            "+---------+-----------+-----------+----+---------+---------+\n",
            "\n"
          ]
        }
      ]
    },
    {
      "cell_type": "code",
      "source": [
        "df.filter(\"dept!= 'CSE'\").show()\n"
      ],
      "metadata": {
        "colab": {
          "base_uri": "https://localhost:8080/"
        },
        "id": "N2NbGedhkaTe",
        "outputId": "131b0d8e-e3a7-4748-ea0b-612ee1d540fd"
      },
      "execution_count": null,
      "outputs": [
        {
          "output_type": "stream",
          "name": "stdout",
          "text": [
            "+---------+-----------+-----------+----+---------+---------+\n",
            "|studentID|studentname|collegename|dept|subject 1|subject 2|\n",
            "+---------+-----------+-----------+----+---------+---------+\n",
            "| 21ADR001|     aarthi|        KEC|  AI|       67|       89|\n",
            "| 21ADR002|       cibi|        PSG|  AI|       78|       89|\n",
            "| 21ADR004|    chandru|        KEC|  AI|       78|       89|\n",
            "| 21ADR072|      saran|        PSG|  AI|       78|       89|\n",
            "| 21ADR073|       siva|        PSG|  AI|       78|       58|\n",
            "| 21ITR004|       arun|        PSG|  IT|       58|       78|\n",
            "| 21ITR005|       cibi|        PSG|  IT|       68|       56|\n",
            "| 21ITR002|       adhi|        PSG|  IT|       78|       90|\n",
            "| 21MTR002|       adhi|        PSG| MTS|       78|       90|\n",
            "+---------+-----------+-----------+----+---------+---------+\n",
            "\n"
          ]
        }
      ]
    },
    {
      "cell_type": "code",
      "source": [
        "df.filter(\"DEPT <> 'CSE'\").show()"
      ],
      "metadata": {
        "colab": {
          "base_uri": "https://localhost:8080/"
        },
        "id": "TWhQDs-pkhP_",
        "outputId": "e074666b-3f95-4724-b9ac-ce213b6845cd"
      },
      "execution_count": null,
      "outputs": [
        {
          "output_type": "stream",
          "name": "stdout",
          "text": [
            "+---------+-----------+-----------+----+---------+---------+\n",
            "|studentID|studentname|collegename|dept|subject 1|subject 2|\n",
            "+---------+-----------+-----------+----+---------+---------+\n",
            "| 21ADR001|     aarthi|        KEC|  AI|       67|       89|\n",
            "| 21ADR002|       cibi|        PSG|  AI|       78|       89|\n",
            "| 21ADR004|    chandru|        KEC|  AI|       78|       89|\n",
            "| 21ADR072|      saran|        PSG|  AI|       78|       89|\n",
            "| 21ADR073|       siva|        PSG|  AI|       78|       58|\n",
            "| 21ITR004|       arun|        PSG|  IT|       58|       78|\n",
            "| 21ITR005|       cibi|        PSG|  IT|       68|       56|\n",
            "| 21ITR002|       adhi|        PSG|  IT|       78|       90|\n",
            "| 21MTR002|       adhi|        PSG| MTS|       78|       90|\n",
            "+---------+-----------+-----------+----+---------+---------+\n",
            "\n"
          ]
        }
      ]
    },
    {
      "cell_type": "code",
      "source": [
        "#Filter multiple condition\n",
        "df.filter( (df.collegename  == \"KEC\") & (df.dept  == \"AI\") ).show(truncate=False)"
      ],
      "metadata": {
        "colab": {
          "base_uri": "https://localhost:8080/"
        },
        "id": "nsdH3n_8kmc-",
        "outputId": "09c70743-53e1-4575-d65e-c3c4d9c613ab"
      },
      "execution_count": null,
      "outputs": [
        {
          "output_type": "stream",
          "name": "stdout",
          "text": [
            "+---------+-----------+-----------+----+---------+---------+\n",
            "|studentID|studentname|collegename|dept|subject 1|subject 2|\n",
            "+---------+-----------+-----------+----+---------+---------+\n",
            "|21ADR001 |aarthi     |KEC        |AI  |67       |89       |\n",
            "|21ADR004 |chandru    |KEC        |AI  |78       |89       |\n",
            "+---------+-----------+-----------+----+---------+---------+\n",
            "\n"
          ]
        }
      ]
    },
    {
      "cell_type": "code",
      "source": [
        "#Filter multiple condition\n",
        "df.filter( (df.collegename  == \"KEC\")  | (df.dept  == \"AI\") ).show(truncate=False)"
      ],
      "metadata": {
        "colab": {
          "base_uri": "https://localhost:8080/"
        },
        "id": "MCt6Sn6Vk3Co",
        "outputId": "3c6c0968-e408-4a6a-e91a-ec4fc8dbab0f"
      },
      "execution_count": null,
      "outputs": [
        {
          "output_type": "stream",
          "name": "stdout",
          "text": [
            "+---------+-----------+-----------+----+---------+---------+\n",
            "|studentID|studentname|collegename|dept|subject 1|subject 2|\n",
            "+---------+-----------+-----------+----+---------+---------+\n",
            "|21ADR001 |aarthi     |KEC        |AI  |67       |89       |\n",
            "|21ADR002 |cibi       |PSG        |AI  |78       |89       |\n",
            "|21ADR004 |chandru    |KEC        |AI  |78       |89       |\n",
            "|21CSR51  |raj        |KEC        |CSE |100      |80       |\n",
            "|21CSR55  |rohith     |KEC        |CSE |100      |80       |\n",
            "|21CSR51  |zubair     |KEC        |CSE |85       |80       |\n",
            "|21ADR072 |saran      |PSG        |AI  |78       |89       |\n",
            "|21ADR073 |siva       |PSG        |AI  |78       |58       |\n",
            "+---------+-----------+-----------+----+---------+---------+\n",
            "\n"
          ]
        }
      ]
    },
    {
      "cell_type": "code",
      "source": [
        "#Filter IS IN List values\n",
        "li=[\"CSE\",\"IT\",\"DE\"]\n",
        "df.filter(df.dept.isin(li)).show()"
      ],
      "metadata": {
        "colab": {
          "base_uri": "https://localhost:8080/"
        },
        "id": "F6AzvZHSk94_",
        "outputId": "e4239f2c-8fb7-4df6-8225-2c6f327fc593"
      },
      "execution_count": null,
      "outputs": [
        {
          "output_type": "stream",
          "name": "stdout",
          "text": [
            "+---------+-----------+-----------+----+---------+---------+\n",
            "|studentID|studentname|collegename|dept|subject 1|subject 2|\n",
            "+---------+-----------+-----------+----+---------+---------+\n",
            "|  21CSR51|        raj|        KEC| CSE|      100|       80|\n",
            "|  21CSR55|     rohith|        KEC| CSE|      100|       80|\n",
            "|  21CSR76|      vetri|        PSG| CSE|       57|       80|\n",
            "|  21CSR51|     zubair|        KEC| CSE|       85|       80|\n",
            "| 21ITR004|       arun|        PSG|  IT|       58|       78|\n",
            "| 21ITR005|       cibi|        PSG|  IT|       68|       56|\n",
            "| 21ITR002|       adhi|        PSG|  IT|       78|       90|\n",
            "+---------+-----------+-----------+----+---------+---------+\n",
            "\n"
          ]
        }
      ]
    },
    {
      "cell_type": "code",
      "source": [
        "# Filter NOT IS IN List values\n",
        "#These show all records which is not part of the list)\n",
        "li=[\"CSE\",\"IT\"]\n",
        "df.filter(~df.dept.isin(li)).show()"
      ],
      "metadata": {
        "colab": {
          "base_uri": "https://localhost:8080/"
        },
        "id": "vt78tdDalUH-",
        "outputId": "8881c531-fc26-4b0a-8d3f-0e4f8423632f"
      },
      "execution_count": null,
      "outputs": [
        {
          "output_type": "stream",
          "name": "stdout",
          "text": [
            "+---------+-----------+-----------+----+---------+---------+\n",
            "|studentID|studentname|collegename|dept|subject 1|subject 2|\n",
            "+---------+-----------+-----------+----+---------+---------+\n",
            "| 21ADR001|     aarthi|        KEC|  AI|       67|       89|\n",
            "| 21ADR002|       cibi|        PSG|  AI|       78|       89|\n",
            "| 21ADR004|    chandru|        KEC|  AI|       78|       89|\n",
            "| 21ADR072|      saran|        PSG|  AI|       78|       89|\n",
            "| 21ADR073|       siva|        PSG|  AI|       78|       58|\n",
            "| 21MTR002|       adhi|        PSG| MTS|       78|       90|\n",
            "+---------+-----------+-----------+----+---------+---------+\n",
            "\n"
          ]
        }
      ]
    },
    {
      "cell_type": "code",
      "source": [
        "li=[\"CSE\",\"IT\"]\n",
        "df.filter(df.dept.isin(li)==True).show()"
      ],
      "metadata": {
        "colab": {
          "base_uri": "https://localhost:8080/"
        },
        "id": "BuqBahZ0ozeX",
        "outputId": "5d8b1fd6-ef39-465c-b149-d9af90075402"
      },
      "execution_count": null,
      "outputs": [
        {
          "output_type": "stream",
          "name": "stdout",
          "text": [
            "+---------+-----------+-----------+----+---------+---------+\n",
            "|studentID|studentname|collegename|dept|subject 1|subject 2|\n",
            "+---------+-----------+-----------+----+---------+---------+\n",
            "|  21CSR51|        raj|        KEC| CSE|      100|       80|\n",
            "|  21CSR55|     rohith|        KEC| CSE|      100|       80|\n",
            "|  21CSR76|      vetri|        PSG| CSE|       57|       80|\n",
            "|  21CSR51|     zubair|        KEC| CSE|       85|       80|\n",
            "| 21ITR004|       arun|        PSG|  IT|       58|       78|\n",
            "| 21ITR005|       cibi|        PSG|  IT|       68|       56|\n",
            "| 21ITR002|       adhi|        PSG|  IT|       78|       90|\n",
            "+---------+-----------+-----------+----+---------+---------+\n",
            "\n"
          ]
        }
      ]
    },
    {
      "cell_type": "markdown",
      "source": [
        "Filter Based on Starts With, Ends With, Contains\n",
        "You can also filter DataFrame rows by using startswith(), endswith() and contains() methods of Column class. For more examples on Column class, refer to PySpark Column Functions."
      ],
      "metadata": {
        "id": "fchRkwzlpIH0"
      }
    },
    {
      "cell_type": "code",
      "source": [
        "# Using startswith\n",
        "df.filter(df.dept.startswith(\"C\")).show()"
      ],
      "metadata": {
        "colab": {
          "base_uri": "https://localhost:8080/"
        },
        "id": "9PfO4TJTpFTU",
        "outputId": "23187f73-d268-4214-e642-59ba945dfd10"
      },
      "execution_count": null,
      "outputs": [
        {
          "output_type": "stream",
          "name": "stdout",
          "text": [
            "+---------+-----------+-----------+----+---------+---------+\n",
            "|studentID|studentname|collegename|dept|subject 1|subject 2|\n",
            "+---------+-----------+-----------+----+---------+---------+\n",
            "|  21CSR51|        raj|        KEC| CSE|      100|       80|\n",
            "|  21CSR55|     rohith|        KEC| CSE|      100|       80|\n",
            "|  21CSR76|      vetri|        PSG| CSE|       57|       80|\n",
            "|  21CSR51|     zubair|        KEC| CSE|       85|       80|\n",
            "+---------+-----------+-----------+----+---------+---------+\n",
            "\n"
          ]
        }
      ]
    },
    {
      "cell_type": "code",
      "source": [
        "#using endswith\n",
        "df.filter(df.dept.endswith(\"I\")).show()"
      ],
      "metadata": {
        "colab": {
          "base_uri": "https://localhost:8080/"
        },
        "id": "lfDgz_rPqkXH",
        "outputId": "6709f726-3825-46da-f87f-f818139f3f92"
      },
      "execution_count": null,
      "outputs": [
        {
          "output_type": "stream",
          "name": "stdout",
          "text": [
            "+---------+-----------+-----------+----+---------+---------+\n",
            "|studentID|studentname|collegename|dept|subject 1|subject 2|\n",
            "+---------+-----------+-----------+----+---------+---------+\n",
            "| 21ADR001|     aarthi|        KEC|  AI|       67|       89|\n",
            "| 21ADR002|       cibi|        PSG|  AI|       78|       89|\n",
            "| 21ADR004|    chandru|        KEC|  AI|       78|       89|\n",
            "| 21ADR072|      saran|        PSG|  AI|       78|       89|\n",
            "| 21ADR073|       siva|        PSG|  AI|       78|       58|\n",
            "+---------+-----------+-----------+----+---------+---------+\n",
            "\n"
          ]
        }
      ]
    },
    {
      "cell_type": "code",
      "source": [
        "#contains\n",
        "df.filter(df.collegename.contains(\"E\")).show()"
      ],
      "metadata": {
        "colab": {
          "base_uri": "https://localhost:8080/"
        },
        "id": "nywvB5SUqtTs",
        "outputId": "bc1d5197-dda5-4db4-ef61-220db7cba8c3"
      },
      "execution_count": null,
      "outputs": [
        {
          "output_type": "stream",
          "name": "stdout",
          "text": [
            "+---------+-----------+-----------+----+---------+---------+\n",
            "|studentID|studentname|collegename|dept|subject 1|subject 2|\n",
            "+---------+-----------+-----------+----+---------+---------+\n",
            "| 21ADR001|     aarthi|        KEC|  AI|       67|       89|\n",
            "| 21ADR004|    chandru|        KEC|  AI|       78|       89|\n",
            "|  21CSR51|        raj|        KEC| CSE|      100|       80|\n",
            "|  21CSR55|     rohith|        KEC| CSE|      100|       80|\n",
            "|  21CSR51|     zubair|        KEC| CSE|       85|       80|\n",
            "+---------+-----------+-----------+----+---------+---------+\n",
            "\n"
          ]
        }
      ]
    },
    {
      "cell_type": "code",
      "source": [
        "# like - SQL LIKE pattern\n",
        "df.filter(df.studentID.like(\"%ADR%\")).show()"
      ],
      "metadata": {
        "colab": {
          "base_uri": "https://localhost:8080/"
        },
        "id": "25nhc3y11RBw",
        "outputId": "bb2afd23-212d-4087-de92-9c11d049f6ef"
      },
      "execution_count": null,
      "outputs": [
        {
          "output_type": "stream",
          "name": "stdout",
          "text": [
            "+---------+-----------+-----------+----+---------+---------+\n",
            "|studentID|studentname|collegename|dept|subject 1|subject 2|\n",
            "+---------+-----------+-----------+----+---------+---------+\n",
            "| 21ADR001|     aarthi|        KEC|  AI|       67|       89|\n",
            "| 21ADR002|       cibi|        PSG|  AI|       78|       89|\n",
            "| 21ADR004|    chandru|        KEC|  AI|       78|       89|\n",
            "| 21ADR072|      saran|        PSG|  AI|       78|       89|\n",
            "| 21ADR073|       siva|        PSG|  AI|       78|       58|\n",
            "+---------+-----------+-----------+----+---------+---------+\n",
            "\n"
          ]
        }
      ]
    },
    {
      "cell_type": "markdown",
      "source": [
        "DataFrame sorting using the sort() function PySpark DataFrame class provides sort() function to sort on one or more columns. By default, it sorts by ascending order."
      ],
      "metadata": {
        "id": "I01vSFl33s9Z"
      }
    },
    {
      "cell_type": "code",
      "source": [
        "df.sort(\"dept\").show(truncate=False)"
      ],
      "metadata": {
        "colab": {
          "base_uri": "https://localhost:8080/"
        },
        "id": "e0nkEO-x4KGg",
        "outputId": "a353e674-ea43-4e60-a2f7-bca29f2973fe"
      },
      "execution_count": null,
      "outputs": [
        {
          "output_type": "stream",
          "name": "stdout",
          "text": [
            "+---------+-----------+-----------+----+---------+---------+\n",
            "|studentID|studentname|collegename|dept|subject 1|subject 2|\n",
            "+---------+-----------+-----------+----+---------+---------+\n",
            "|21ADR001 |aarthi     |KEC        |AI  |67       |89       |\n",
            "|21ADR072 |saran      |PSG        |AI  |78       |89       |\n",
            "|21ADR002 |cibi       |PSG        |AI  |78       |89       |\n",
            "|21ADR073 |siva       |PSG        |AI  |78       |58       |\n",
            "|21ADR004 |chandru    |KEC        |AI  |78       |89       |\n",
            "|21CSR51  |zubair     |KEC        |CSE |85       |80       |\n",
            "|21CSR51  |raj        |KEC        |CSE |100      |80       |\n",
            "|21CSR55  |rohith     |KEC        |CSE |100      |80       |\n",
            "|21CSR76  |vetri      |PSG        |CSE |57       |80       |\n",
            "|21ITR004 |arun       |PSG        |IT  |58       |78       |\n",
            "|21ITR005 |cibi       |PSG        |IT  |68       |56       |\n",
            "|21ITR002 |adhi       |PSG        |IT  |78       |90       |\n",
            "|21MTR002 |adhi       |PSG        |MTS |78       |90       |\n",
            "+---------+-----------+-----------+----+---------+---------+\n",
            "\n"
          ]
        }
      ]
    },
    {
      "cell_type": "code",
      "source": [
        "df.sort(\"collegename\",\"dept\").show(truncate=False)\n"
      ],
      "metadata": {
        "colab": {
          "base_uri": "https://localhost:8080/"
        },
        "id": "QEs3bcLq3vxC",
        "outputId": "27e27238-db65-49cb-d9f9-89720136ac1b"
      },
      "execution_count": null,
      "outputs": [
        {
          "output_type": "stream",
          "name": "stdout",
          "text": [
            "+---------+-----------+-----------+----+---------+---------+\n",
            "|studentID|studentname|collegename|dept|subject 1|subject 2|\n",
            "+---------+-----------+-----------+----+---------+---------+\n",
            "|21ADR001 |aarthi     |KEC        |AI  |67       |89       |\n",
            "|21ADR004 |chandru    |KEC        |AI  |78       |89       |\n",
            "|21CSR51  |zubair     |KEC        |CSE |85       |80       |\n",
            "|21CSR51  |raj        |KEC        |CSE |100      |80       |\n",
            "|21CSR55  |rohith     |KEC        |CSE |100      |80       |\n",
            "|21ADR072 |saran      |PSG        |AI  |78       |89       |\n",
            "|21ADR002 |cibi       |PSG        |AI  |78       |89       |\n",
            "|21ADR073 |siva       |PSG        |AI  |78       |58       |\n",
            "|21CSR76  |vetri      |PSG        |CSE |57       |80       |\n",
            "|21ITR004 |arun       |PSG        |IT  |58       |78       |\n",
            "|21ITR005 |cibi       |PSG        |IT  |68       |56       |\n",
            "|21ITR002 |adhi       |PSG        |IT  |78       |90       |\n",
            "|21MTR002 |adhi       |PSG        |MTS |78       |90       |\n",
            "+---------+-----------+-----------+----+---------+---------+\n",
            "\n"
          ]
        }
      ]
    },
    {
      "cell_type": "markdown",
      "source": [
        "DataFrame sorting using orderBy() function\n",
        "PySpark DataFrame also provides orderBy() function to sort on one or more columns. By default, it orders by ascending."
      ],
      "metadata": {
        "id": "Dcq86Iby4Ovz"
      }
    },
    {
      "cell_type": "code",
      "source": [
        "df.orderBy(\"collegename\",\"dept\").show(truncate=False)\n"
      ],
      "metadata": {
        "colab": {
          "base_uri": "https://localhost:8080/"
        },
        "id": "3O1n4xmq4TdJ",
        "outputId": "5ace3fa8-52af-4ce8-affa-66e3b5efe03d"
      },
      "execution_count": null,
      "outputs": [
        {
          "output_type": "stream",
          "name": "stdout",
          "text": [
            "+---------+-----------+-----------+----+---------+---------+\n",
            "|studentID|studentname|collegename|dept|subject 1|subject 2|\n",
            "+---------+-----------+-----------+----+---------+---------+\n",
            "|21ADR001 |aarthi     |KEC        |AI  |67       |89       |\n",
            "|21ADR004 |chandru    |KEC        |AI  |78       |89       |\n",
            "|21CSR51  |zubair     |KEC        |CSE |85       |80       |\n",
            "|21CSR51  |raj        |KEC        |CSE |100      |80       |\n",
            "|21CSR55  |rohith     |KEC        |CSE |100      |80       |\n",
            "|21ADR072 |saran      |PSG        |AI  |78       |89       |\n",
            "|21ADR002 |cibi       |PSG        |AI  |78       |89       |\n",
            "|21ADR073 |siva       |PSG        |AI  |78       |58       |\n",
            "|21CSR76  |vetri      |PSG        |CSE |57       |80       |\n",
            "|21ITR004 |arun       |PSG        |IT  |58       |78       |\n",
            "|21ITR005 |cibi       |PSG        |IT  |68       |56       |\n",
            "|21ITR002 |adhi       |PSG        |IT  |78       |90       |\n",
            "|21MTR002 |adhi       |PSG        |MTS |78       |90       |\n",
            "+---------+-----------+-----------+----+---------+---------+\n",
            "\n"
          ]
        }
      ]
    },
    {
      "cell_type": "code",
      "source": [
        "df.sort(df.collegename.asc(),df.dept.asc()).show(truncate=False)"
      ],
      "metadata": {
        "colab": {
          "base_uri": "https://localhost:8080/"
        },
        "id": "SQfpbnva5-vU",
        "outputId": "c74e8819-110b-4893-e209-eafb1566cf88"
      },
      "execution_count": null,
      "outputs": [
        {
          "output_type": "stream",
          "name": "stdout",
          "text": [
            "+---------+-----------+-----------+----+---------+---------+\n",
            "|studentID|studentname|collegename|dept|subject 1|subject 2|\n",
            "+---------+-----------+-----------+----+---------+---------+\n",
            "|21ADR001 |aarthi     |KEC        |AI  |67       |89       |\n",
            "|21ADR004 |chandru    |KEC        |AI  |78       |89       |\n",
            "|21CSR51  |zubair     |KEC        |CSE |85       |80       |\n",
            "|21CSR51  |raj        |KEC        |CSE |100      |80       |\n",
            "|21CSR55  |rohith     |KEC        |CSE |100      |80       |\n",
            "|21ADR072 |saran      |PSG        |AI  |78       |89       |\n",
            "|21ADR002 |cibi       |PSG        |AI  |78       |89       |\n",
            "|21ADR073 |siva       |PSG        |AI  |78       |58       |\n",
            "|21CSR76  |vetri      |PSG        |CSE |57       |80       |\n",
            "|21ITR004 |arun       |PSG        |IT  |58       |78       |\n",
            "|21ITR005 |cibi       |PSG        |IT  |68       |56       |\n",
            "|21ITR002 |adhi       |PSG        |IT  |78       |90       |\n",
            "|21MTR002 |adhi       |PSG        |MTS |78       |90       |\n",
            "+---------+-----------+-----------+----+---------+---------+\n",
            "\n"
          ]
        }
      ]
    },
    {
      "cell_type": "code",
      "source": [
        "df.sort(df.collegename.asc(),df.dept.desc()).show(truncate=False)"
      ],
      "metadata": {
        "colab": {
          "base_uri": "https://localhost:8080/"
        },
        "id": "z4UlRmvg6Hvs",
        "outputId": "f4b6ba0c-d6d1-4d6c-938a-a972926e6e02"
      },
      "execution_count": null,
      "outputs": [
        {
          "output_type": "stream",
          "name": "stdout",
          "text": [
            "+---------+-----------+-----------+----+---------+---------+\n",
            "|studentID|studentname|collegename|dept|subject 1|subject 2|\n",
            "+---------+-----------+-----------+----+---------+---------+\n",
            "|21CSR51  |raj        |KEC        |CSE |100      |80       |\n",
            "|21CSR51  |zubair     |KEC        |CSE |85       |80       |\n",
            "|21CSR55  |rohith     |KEC        |CSE |100      |80       |\n",
            "|21ADR001 |aarthi     |KEC        |AI  |67       |89       |\n",
            "|21ADR004 |chandru    |KEC        |AI  |78       |89       |\n",
            "|21MTR002 |adhi       |PSG        |MTS |78       |90       |\n",
            "|21ITR004 |arun       |PSG        |IT  |58       |78       |\n",
            "|21ITR005 |cibi       |PSG        |IT  |68       |56       |\n",
            "|21ITR002 |adhi       |PSG        |IT  |78       |90       |\n",
            "|21CSR76  |vetri      |PSG        |CSE |57       |80       |\n",
            "|21ADR072 |saran      |PSG        |AI  |78       |89       |\n",
            "|21ADR002 |cibi       |PSG        |AI  |78       |89       |\n",
            "|21ADR073 |siva       |PSG        |AI  |78       |58       |\n",
            "+---------+-----------+-----------+----+---------+---------+\n",
            "\n"
          ]
        }
      ]
    },
    {
      "cell_type": "markdown",
      "source": [
        "PySpark groupBy() function is used to collect the identical data into groups on DataFrame and perform count, sum, avg, min, max functions on the grouped data\n",
        "\n",
        "count() – Use groupBy() count() to return the number of rows for each group.\n",
        "\n",
        "mean() – Returns the mean of values for each group.\n",
        "\n",
        "max() – Returns the maximum of values for each group. min() – Returns the minimum of values for each group.\n",
        "\n",
        "sum() – Returns the total for values for each group.\n",
        "\n",
        "avg() – Returns the average for values for each group.\n",
        "\n",
        "agg() – Using groupBy() agg() function, we can calculate more than one aggregate at a time."
      ],
      "metadata": {
        "id": "v79Rf_p167Qv"
      }
    },
    {
      "cell_type": "code",
      "source": [
        "# importing module\n",
        "import pyspark\n",
        "\n",
        "# importing sparksession from pyspark.sql\n",
        "# module\n",
        "from pyspark.sql import SparkSession\n",
        "\n",
        "# creating sparksession and giving an app\n",
        "# name\n",
        "spark = SparkSession.builder.appName('sparkdf').getOrCreate()"
      ],
      "metadata": {
        "id": "5I3wmeto_4PE"
      },
      "execution_count": null,
      "outputs": []
    },
    {
      "cell_type": "code",
      "source": [
        "empdata = [(\"devi\",\"Sales\",\"NY\",90000,34,10000),\n",
        "    (\"arun\",\"Sales\",\"NY\",86000,56,20000),\n",
        "    (\"sakthi\",\"Sales\",\"CA\",81000,30,23000),\n",
        "    (\"siva\",\"Finance\",\"CA\",90000,24,23000),\n",
        "    (\"ashok\",\"Finance\",\"CA\",99000,40,24000),\n",
        "    (\"raj\",\"Finance\",\"NY\",83000,36,19000),\n",
        "    (\"kali\",\"Finance\",\"NY\",79000,53,15000),\n",
        "    (\"indhu\",\"Marketing\",\"CA\",80000,25,18000),\n",
        "    (\"vidhya\",\"Marketing\",\"NY\",91000,50,21000),\n",
        "    (\"kavi\",\"Finance\",\"NY\",91000,50,21000),\n",
        "  ]\n",
        "schema = [\"employee_name\",\"department\",\"state\",\"salary\",\"age\",\"bonus\"]\n",
        "df = spark.createDataFrame(data=empdata, schema = schema)\n",
        "df.printSchema()\n",
        "df.show(truncate=False)"
      ],
      "metadata": {
        "colab": {
          "base_uri": "https://localhost:8080/"
        },
        "id": "j03ovyQH8mfB",
        "outputId": "a430f2fd-6a71-4478-b684-ae189b140819"
      },
      "execution_count": null,
      "outputs": [
        {
          "output_type": "stream",
          "name": "stdout",
          "text": [
            "root\n",
            " |-- employee_name: string (nullable = true)\n",
            " |-- department: string (nullable = true)\n",
            " |-- state: string (nullable = true)\n",
            " |-- salary: long (nullable = true)\n",
            " |-- age: long (nullable = true)\n",
            " |-- bonus: long (nullable = true)\n",
            "\n",
            "+-------------+----------+-----+------+---+-----+\n",
            "|employee_name|department|state|salary|age|bonus|\n",
            "+-------------+----------+-----+------+---+-----+\n",
            "|devi         |Sales     |NY   |90000 |34 |10000|\n",
            "|arun         |Sales     |NY   |86000 |56 |20000|\n",
            "|sakthi       |Sales     |CA   |81000 |30 |23000|\n",
            "|siva         |Finance   |CA   |90000 |24 |23000|\n",
            "|ashok        |Finance   |CA   |99000 |40 |24000|\n",
            "|raj          |Finance   |NY   |83000 |36 |19000|\n",
            "|kali         |Finance   |NY   |79000 |53 |15000|\n",
            "|indhu        |Marketing |CA   |80000 |25 |18000|\n",
            "|vidhya       |Marketing |NY   |91000 |50 |21000|\n",
            "|kavi         |Finance   |NY   |91000 |50 |21000|\n",
            "+-------------+----------+-----+------+---+-----+\n",
            "\n"
          ]
        }
      ]
    },
    {
      "cell_type": "code",
      "source": [
        "#PySpark groupBy on DataFrame Columns\n",
        "df.groupBy(\"department\").sum(\"salary\").show(truncate=False)"
      ],
      "metadata": {
        "colab": {
          "base_uri": "https://localhost:8080/"
        },
        "id": "_7ClC0q89PTC",
        "outputId": "5a48c6d3-d1b5-44dc-f7ea-b908f14cf872"
      },
      "execution_count": null,
      "outputs": [
        {
          "output_type": "stream",
          "name": "stdout",
          "text": [
            "+----------+-----------+\n",
            "|department|sum(salary)|\n",
            "+----------+-----------+\n",
            "|Sales     |257000     |\n",
            "|Finance   |442000     |\n",
            "|Marketing |171000     |\n",
            "+----------+-----------+\n",
            "\n"
          ]
        }
      ]
    },
    {
      "cell_type": "code",
      "source": [
        "df.groupBy(\"department\").count().show()"
      ],
      "metadata": {
        "colab": {
          "base_uri": "https://localhost:8080/"
        },
        "id": "oFR8DZko90Py",
        "outputId": "5620fda1-e575-4ee4-ed82-89e0902e2283"
      },
      "execution_count": null,
      "outputs": [
        {
          "output_type": "stream",
          "name": "stdout",
          "text": [
            "+----------+-----+\n",
            "|department|count|\n",
            "+----------+-----+\n",
            "|     Sales|    3|\n",
            "|   Finance|    5|\n",
            "| Marketing|    2|\n",
            "+----------+-----+\n",
            "\n"
          ]
        }
      ]
    },
    {
      "cell_type": "code",
      "source": [
        "\n",
        "df.groupBy(\"department\").min(\"salary\").show()"
      ],
      "metadata": {
        "colab": {
          "base_uri": "https://localhost:8080/"
        },
        "id": "gbvCJ0hN96Pc",
        "outputId": "aa2f9a01-839f-4c9e-e7b0-7b0a5c75546d"
      },
      "execution_count": null,
      "outputs": [
        {
          "output_type": "stream",
          "name": "stdout",
          "text": [
            "+----------+-----------+\n",
            "|department|min(salary)|\n",
            "+----------+-----------+\n",
            "|     Sales|      81000|\n",
            "|   Finance|      79000|\n",
            "| Marketing|      80000|\n",
            "+----------+-----------+\n",
            "\n"
          ]
        }
      ]
    },
    {
      "cell_type": "code",
      "source": [
        "\n",
        "df.groupBy(\"department\").max(\"salary\").show()\n"
      ],
      "metadata": {
        "colab": {
          "base_uri": "https://localhost:8080/"
        },
        "id": "owahh36598dy",
        "outputId": "11bbefd6-b717-43ba-855c-2a07ad1e4103"
      },
      "execution_count": null,
      "outputs": [
        {
          "output_type": "stream",
          "name": "stdout",
          "text": [
            "+----------+-----------+\n",
            "|department|max(salary)|\n",
            "+----------+-----------+\n",
            "|     Sales|      90000|\n",
            "|   Finance|      99000|\n",
            "| Marketing|      91000|\n",
            "+----------+-----------+\n",
            "\n"
          ]
        }
      ]
    },
    {
      "cell_type": "code",
      "source": [
        "df.groupBy(\"department\").avg( \"salary\").show()"
      ],
      "metadata": {
        "colab": {
          "base_uri": "https://localhost:8080/"
        },
        "id": "hvOSzf4u9-w6",
        "outputId": "931675c1-5486-464d-ce6b-64c06104eb02"
      },
      "execution_count": null,
      "outputs": [
        {
          "output_type": "stream",
          "name": "stdout",
          "text": [
            "+----------+-----------------+\n",
            "|department|      avg(salary)|\n",
            "+----------+-----------------+\n",
            "|     Sales|85666.66666666667|\n",
            "|   Finance|          88400.0|\n",
            "| Marketing|          85500.0|\n",
            "+----------+-----------------+\n",
            "\n"
          ]
        }
      ]
    },
    {
      "cell_type": "code",
      "source": [
        "df.groupBy(\"department\").mean( \"salary\").show()"
      ],
      "metadata": {
        "colab": {
          "base_uri": "https://localhost:8080/"
        },
        "id": "8leSf8nN-FXj",
        "outputId": "2b10897b-96bf-414e-bf51-a9c27ad1b4b0"
      },
      "execution_count": null,
      "outputs": [
        {
          "output_type": "stream",
          "name": "stdout",
          "text": [
            "+----------+-----------------+\n",
            "|department|      avg(salary)|\n",
            "+----------+-----------------+\n",
            "|     Sales|85666.66666666667|\n",
            "|   Finance|          88400.0|\n",
            "| Marketing|          85500.0|\n",
            "+----------+-----------------+\n",
            "\n"
          ]
        }
      ]
    },
    {
      "cell_type": "code",
      "source": [
        "#GroupBy on multiple columns\n",
        "df.groupBy(\"department\",\"state\").sum(\"salary\",\"bonus\").show()"
      ],
      "metadata": {
        "id": "d9_sDRG_-JE7",
        "colab": {
          "base_uri": "https://localhost:8080/"
        },
        "outputId": "45646a05-fd4b-4c92-b3a3-0dcd68f0d1ff"
      },
      "execution_count": null,
      "outputs": [
        {
          "output_type": "stream",
          "name": "stdout",
          "text": [
            "+----------+-----+-----------+----------+\n",
            "|department|state|sum(salary)|sum(bonus)|\n",
            "+----------+-----+-----------+----------+\n",
            "|     Sales|   CA|      81000|     23000|\n",
            "|   Finance|   CA|     189000|     47000|\n",
            "|     Sales|   NY|     176000|     30000|\n",
            "|   Finance|   NY|     253000|     55000|\n",
            "| Marketing|   NY|      91000|     21000|\n",
            "| Marketing|   CA|      80000|     18000|\n",
            "+----------+-----+-----------+----------+\n",
            "\n"
          ]
        }
      ]
    },
    {
      "cell_type": "markdown",
      "source": [
        "Running more aggregates at a time\n",
        "Using agg() aggregate function we can calculate many aggregations at a time on a single statement using SQL functions sum(), avg(), min(), max() mean() e.t.c. In order to use these, we should import \"from pyspark.sql.functions import sum,avg,max,min,mean,count"
      ],
      "metadata": {
        "id": "PFsXUyeiFXDY"
      }
    },
    {
      "cell_type": "code",
      "source": [
        "from pyspark.sql.functions import sum,avg,max\n",
        "df.groupBy(\"department\").agg(sum(\"salary\")).show(truncate=False)"
      ],
      "metadata": {
        "id": "-BXlUYy5FVAn",
        "colab": {
          "base_uri": "https://localhost:8080/"
        },
        "outputId": "f3c981b1-4924-4e75-93f5-04a7818884dc"
      },
      "execution_count": null,
      "outputs": [
        {
          "output_type": "stream",
          "name": "stdout",
          "text": [
            "+----------+-----------+\n",
            "|department|sum(salary)|\n",
            "+----------+-----------+\n",
            "|Sales     |257000     |\n",
            "|Finance   |442000     |\n",
            "|Marketing |171000     |\n",
            "+----------+-----------+\n",
            "\n"
          ]
        }
      ]
    },
    {
      "cell_type": "code",
      "source": [
        "from pyspark.sql.functions import sum,avg,max,col\n",
        "df.groupBy(\"department\").agg( \\\n",
        "    sum(\"salary\").alias(\"sum_salary\"), \\\n",
        "    avg(\"salary\").alias(\"avg_salary\"), \\\n",
        "    sum(\"bonus\").alias(\"sum_bonus\"), \\\n",
        "    max(\"bonus\").alias(\"max_bonus\") \\\n",
        "    ).show(truncate=False)\n"
      ],
      "metadata": {
        "id": "9HxC2s_qGs0I",
        "colab": {
          "base_uri": "https://localhost:8080/"
        },
        "outputId": "8c0da232-b9c0-4820-949e-a3bc0d307273"
      },
      "execution_count": null,
      "outputs": [
        {
          "output_type": "stream",
          "name": "stdout",
          "text": [
            "+----------+----------+-----------------+---------+---------+\n",
            "|department|sum_salary|avg_salary       |sum_bonus|max_bonus|\n",
            "+----------+----------+-----------------+---------+---------+\n",
            "|Sales     |257000    |85666.66666666667|53000    |23000    |\n",
            "|Finance   |442000    |88400.0          |102000   |24000    |\n",
            "|Marketing |171000    |85500.0          |39000    |21000    |\n",
            "+----------+----------+-----------------+---------+---------+\n",
            "\n"
          ]
        }
      ]
    },
    {
      "cell_type": "markdown",
      "source": [
        "5. Using filter on aggregate data\n",
        "# Similar to SQL “HAVING” clause, On PySpark DataFrame we can use either where() or filter() function to filter the rows of aggregated data.\n",
        "\n",
        "\n",
        "This removes the sum of a bonus that has less than 50000 and yields below output.\n"
      ],
      "metadata": {
        "id": "vO67tYfSG8qP"
      }
    },
    {
      "cell_type": "code",
      "source": [
        "from pyspark.sql.functions import sum,avg,max\n",
        "df.groupBy(\"department\").agg(\n",
        "    sum(\"salary\").alias(\"sum_salary\"),\n",
        "    avg(\"salary\").alias(\"avg_salary\"),\n",
        "    sum(\"bonus\").alias(\"sum_bonus\"),\n",
        "    max(\"bonus\").alias(\"max_bonus\")\n",
        "    ).where(col(\"sum_bonus\") >= 50000).show(truncate=False)\n"
      ],
      "metadata": {
        "id": "QhMAo1j8G2Xi",
        "colab": {
          "base_uri": "https://localhost:8080/"
        },
        "outputId": "a52b349d-81a4-4442-a511-c29e1db05f6b"
      },
      "execution_count": null,
      "outputs": [
        {
          "output_type": "stream",
          "name": "stdout",
          "text": [
            "+----------+----------+-----------------+---------+---------+\n",
            "|department|sum_salary|avg_salary       |sum_bonus|max_bonus|\n",
            "+----------+----------+-----------------+---------+---------+\n",
            "|Sales     |257000    |85666.66666666667|53000    |23000    |\n",
            "|Finance   |442000    |88400.0          |102000   |24000    |\n",
            "+----------+----------+-----------------+---------+---------+\n",
            "\n"
          ]
        }
      ]
    },
    {
      "cell_type": "code",
      "source": [
        "df.show()\n",
        "df.select(max(\"salary\")).show(truncate=False)"
      ],
      "metadata": {
        "id": "XZ9weq5UKLQm",
        "colab": {
          "base_uri": "https://localhost:8080/"
        },
        "outputId": "c23ae382-2132-4439-c182-3d7a8304d0c8"
      },
      "execution_count": null,
      "outputs": [
        {
          "output_type": "stream",
          "name": "stdout",
          "text": [
            "+-------------+----------+-----+------+---+-----+\n",
            "|employee_name|department|state|salary|age|bonus|\n",
            "+-------------+----------+-----+------+---+-----+\n",
            "|         devi|     Sales|   NY| 90000| 34|10000|\n",
            "|         arun|     Sales|   NY| 86000| 56|20000|\n",
            "|       sakthi|     Sales|   CA| 81000| 30|23000|\n",
            "|         siva|   Finance|   CA| 90000| 24|23000|\n",
            "|        ashok|   Finance|   CA| 99000| 40|24000|\n",
            "|          raj|   Finance|   NY| 83000| 36|19000|\n",
            "|         kali|   Finance|   NY| 79000| 53|15000|\n",
            "|        indhu| Marketing|   CA| 80000| 25|18000|\n",
            "|       vidhya| Marketing|   NY| 91000| 50|21000|\n",
            "|         kavi|   Finance|   NY| 91000| 50|21000|\n",
            "+-------------+----------+-----+------+---+-----+\n",
            "\n",
            "+-----------+\n",
            "|max(salary)|\n",
            "+-----------+\n",
            "|99000      |\n",
            "+-----------+\n",
            "\n"
          ]
        }
      ]
    },
    {
      "cell_type": "code",
      "source": [
        "df.select(sum(\"salary\")).show(truncate=False)"
      ],
      "metadata": {
        "id": "zH94L9QLKjPX",
        "colab": {
          "base_uri": "https://localhost:8080/"
        },
        "outputId": "9bfacaf2-36a9-4c77-9b69-f12a883ba19e"
      },
      "execution_count": null,
      "outputs": [
        {
          "output_type": "stream",
          "name": "stdout",
          "text": [
            "+-----------+\n",
            "|sum(salary)|\n",
            "+-----------+\n",
            "|870000     |\n",
            "+-----------+\n",
            "\n"
          ]
        }
      ]
    },
    {
      "cell_type": "code",
      "source": [
        "# maximum value from multiple column\n",
        "df.agg({'salary': 'max',\t'bonus': 'max','age':'max'}).show()\n"
      ],
      "metadata": {
        "id": "wUe-2foB5QG9",
        "colab": {
          "base_uri": "https://localhost:8080/"
        },
        "outputId": "a8c30dc8-72a9-4787-c37e-3913c71035f6"
      },
      "execution_count": null,
      "outputs": [
        {
          "output_type": "stream",
          "name": "stdout",
          "text": [
            "+----------+-----------+--------+\n",
            "|max(bonus)|max(salary)|max(age)|\n",
            "+----------+-----------+--------+\n",
            "|     24000|      99000|      56|\n",
            "+----------+-----------+--------+\n",
            "\n"
          ]
        }
      ]
    }
  ]
}