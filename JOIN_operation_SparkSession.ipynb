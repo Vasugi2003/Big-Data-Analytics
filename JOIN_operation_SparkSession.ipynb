{
  "nbformat": 4,
  "nbformat_minor": 0,
  "metadata": {
    "colab": {
      "provenance": [],
      "authorship_tag": "ABX9TyMMqD7nwHjoXQtvw02+P5/D",
      "include_colab_link": true
    },
    "kernelspec": {
      "name": "python3",
      "display_name": "Python 3"
    },
    "language_info": {
      "name": "python"
    }
  },
  "cells": [
    {
      "cell_type": "markdown",
      "metadata": {
        "id": "view-in-github",
        "colab_type": "text"
      },
      "source": [
        "<a href=\"https://colab.research.google.com/github/Vasugi2003/Big-Data-Analytics/blob/main/JOIN_operation_SparkSession.ipynb\" target=\"_parent\"><img src=\"https://colab.research.google.com/assets/colab-badge.svg\" alt=\"Open In Colab\"/></a>"
      ]
    },
    {
      "cell_type": "code",
      "execution_count": null,
      "metadata": {
        "colab": {
          "base_uri": "https://localhost:8080/"
        },
        "id": "rBY8qQszyHVy",
        "outputId": "9007fe2e-6d38-47bc-c55d-30eb9050793d"
      },
      "outputs": [
        {
          "output_type": "stream",
          "name": "stdout",
          "text": [
            "Requirement already satisfied: pyspark in /usr/local/lib/python3.10/dist-packages (3.4.1)\n",
            "Requirement already satisfied: py4j==0.10.9.7 in /usr/local/lib/python3.10/dist-packages (from pyspark) (0.10.9.7)\n"
          ]
        }
      ],
      "source": [
        "!pip install pyspark\n",
        "\n",
        "from pyspark.sql import SparkSession"
      ]
    },
    {
      "cell_type": "code",
      "source": [
        "spark = SparkSession.builder.appName(\"joins\").getOrCreate()"
      ],
      "metadata": {
        "id": "54D8KJOxyPtS"
      },
      "execution_count": null,
      "outputs": []
    },
    {
      "cell_type": "code",
      "source": [
        "data = [[\"1\",\"abi\",\"ai\"],\n",
        "        [\"2\",\"banu\",\"seirious\"],\n",
        "        [\"3\",\"harshi\",\"tcl\"],\n",
        "        [\"4\",\"vino\",\"giggs\"]]\n",
        "\n",
        "col = [\"id\",\"name\",\"company\"]\n"
      ],
      "metadata": {
        "id": "plZz1uKCyltQ"
      },
      "execution_count": null,
      "outputs": []
    },
    {
      "cell_type": "code",
      "source": [
        "data2 = [[\"2\",\"banu\",\"seirious\"],\n",
        "         [\"5\",\"guru\",\"find\"]]\n",
        "col2 = ['id','name','company']"
      ],
      "metadata": {
        "id": "9xlFvkuzztAD"
      },
      "execution_count": null,
      "outputs": []
    },
    {
      "cell_type": "code",
      "source": [
        "df2 = spark.createDataFrame(data2,col2)\n",
        "df2.show()"
      ],
      "metadata": {
        "colab": {
          "base_uri": "https://localhost:8080/"
        },
        "id": "kOz3rnjpztDo",
        "outputId": "18ee4c73-ccbc-465d-828a-b91bab7535b7"
      },
      "execution_count": null,
      "outputs": [
        {
          "output_type": "stream",
          "name": "stdout",
          "text": [
            "+---+----+--------+\n",
            "| id|name| company|\n",
            "+---+----+--------+\n",
            "|  2|banu|seirious|\n",
            "|  5|guru|    find|\n",
            "+---+----+--------+\n",
            "\n"
          ]
        }
      ]
    },
    {
      "cell_type": "code",
      "source": [
        "df1 = spark.createDataFrame(data,col)\n",
        "df1.show()"
      ],
      "metadata": {
        "colab": {
          "base_uri": "https://localhost:8080/"
        },
        "id": "SKcrKfgNzCqf",
        "outputId": "cf1b4750-d11d-412f-d423-f9437e2248d3"
      },
      "execution_count": null,
      "outputs": [
        {
          "output_type": "stream",
          "name": "stdout",
          "text": [
            "+---+------+--------+\n",
            "| id|  name| company|\n",
            "+---+------+--------+\n",
            "|  1|   abi|      ai|\n",
            "|  2|  banu|seirious|\n",
            "|  3|harshi|     tcl|\n",
            "|  4|  vino|   giggs|\n",
            "+---+------+--------+\n",
            "\n"
          ]
        }
      ]
    },
    {
      "cell_type": "code",
      "source": [
        "df1.join(df2,df1.id == df2.id,\"inner\").show()"
      ],
      "metadata": {
        "colab": {
          "base_uri": "https://localhost:8080/"
        },
        "id": "nHmRfNRo1tOq",
        "outputId": "97a91060-d7de-40f6-9e8a-218f67fd748b"
      },
      "execution_count": null,
      "outputs": [
        {
          "output_type": "stream",
          "name": "stdout",
          "text": [
            "+---+----+--------+---+----+--------+\n",
            "| id|name| company| id|name| company|\n",
            "+---+----+--------+---+----+--------+\n",
            "|  2|banu|seirious|  2|banu|seirious|\n",
            "+---+----+--------+---+----+--------+\n",
            "\n"
          ]
        }
      ]
    },
    {
      "cell_type": "code",
      "source": [
        "df = df1.join(df2, on = ['id'], how=\"inner\").show()"
      ],
      "metadata": {
        "colab": {
          "base_uri": "https://localhost:8080/"
        },
        "id": "8wUlaAXz1tSA",
        "outputId": "f2e459b0-5dce-4ec7-e6ae-8bb0de4cd263"
      },
      "execution_count": null,
      "outputs": [
        {
          "output_type": "stream",
          "name": "stdout",
          "text": [
            "+---+----+--------+----+--------+\n",
            "| id|name| company|name| company|\n",
            "+---+----+--------+----+--------+\n",
            "|  2|banu|seirious|banu|seirious|\n",
            "+---+----+--------+----+--------+\n",
            "\n"
          ]
        }
      ]
    },
    {
      "cell_type": "code",
      "source": [
        "df1.createOrReplaceTempView('EMP')\n",
        "df2.createOrReplaceTempView(\"stu\")\n",
        "df3 = spark\\\n",
        "      .sql(\"SELECT * FROM EMP INNER JOIN stu ON EMP.id == stu.id\")\\\n",
        "      .show(truncate = False)"
      ],
      "metadata": {
        "colab": {
          "base_uri": "https://localhost:8080/"
        },
        "id": "U3PMpdk_1tU4",
        "outputId": "e46aca1f-8b35-4cad-9c55-47faf0e5013c"
      },
      "execution_count": null,
      "outputs": [
        {
          "output_type": "stream",
          "name": "stdout",
          "text": [
            "+---+----+--------+---+----+--------+\n",
            "|id |name|company |id |name|company |\n",
            "+---+----+--------+---+----+--------+\n",
            "|2  |banu|seirious|2  |banu|seirious|\n",
            "+---+----+--------+---+----+--------+\n",
            "\n"
          ]
        }
      ]
    },
    {
      "cell_type": "code",
      "source": [
        "df1.join(df2,df1.id == df2.id,\"outer\").show()"
      ],
      "metadata": {
        "colab": {
          "base_uri": "https://localhost:8080/"
        },
        "id": "oQJpbBvd3dPp",
        "outputId": "e8238899-3528-40b7-939e-8ef5b9ebf93d"
      },
      "execution_count": null,
      "outputs": [
        {
          "output_type": "stream",
          "name": "stdout",
          "text": [
            "+----+------+--------+----+----+--------+\n",
            "|  id|  name| company|  id|name| company|\n",
            "+----+------+--------+----+----+--------+\n",
            "|   1|   abi|      ai|null|null|    null|\n",
            "|   2|  banu|seirious|   2|banu|seirious|\n",
            "|   3|harshi|     tcl|null|null|    null|\n",
            "|   4|  vino|   giggs|null|null|    null|\n",
            "|null|  null|    null|   5|guru|    find|\n",
            "+----+------+--------+----+----+--------+\n",
            "\n"
          ]
        }
      ]
    },
    {
      "cell_type": "code",
      "source": [
        "df = df1.join(df2, on = ['id'], how=\"OUTER\").show()"
      ],
      "metadata": {
        "colab": {
          "base_uri": "https://localhost:8080/"
        },
        "id": "R7U6jHWG7-Cg",
        "outputId": "e2cec635-45e0-48dd-8064-aa14550975ea"
      },
      "execution_count": null,
      "outputs": [
        {
          "output_type": "stream",
          "name": "stdout",
          "text": [
            "+---+------+--------+----+--------+\n",
            "| id|  name| company|name| company|\n",
            "+---+------+--------+----+--------+\n",
            "|  1|   abi|      ai|null|    null|\n",
            "|  2|  banu|seirious|banu|seirious|\n",
            "|  3|harshi|     tcl|null|    null|\n",
            "|  4|  vino|   giggs|null|    null|\n",
            "|  5|  null|    null|guru|    find|\n",
            "+---+------+--------+----+--------+\n",
            "\n"
          ]
        }
      ]
    },
    {
      "cell_type": "code",
      "source": [
        "df1.createOrReplaceTempView('EMP')\n",
        "df2.createOrReplaceTempView(\"stu\")\n",
        "df3 = spark\\\n",
        "      .sql(\"SELECT * FROM EMP FULL OUTER JOIN stu ON EMP.id == stu.id\")\\\n",
        "      .show(truncate = False)"
      ],
      "metadata": {
        "colab": {
          "base_uri": "https://localhost:8080/"
        },
        "id": "G9oHExbg3daw",
        "outputId": "7ae0b739-f76c-4bea-c10f-c809a4bb26bd"
      },
      "execution_count": null,
      "outputs": [
        {
          "output_type": "stream",
          "name": "stdout",
          "text": [
            "+----+------+--------+----+----+--------+\n",
            "|id  |name  |company |id  |name|company |\n",
            "+----+------+--------+----+----+--------+\n",
            "|1   |abi   |ai      |null|null|null    |\n",
            "|2   |banu  |seirious|2   |banu|seirious|\n",
            "|3   |harshi|tcl     |null|null|null    |\n",
            "|4   |vino  |giggs   |null|null|null    |\n",
            "|null|null  |null    |5   |guru|find    |\n",
            "+----+------+--------+----+----+--------+\n",
            "\n"
          ]
        }
      ]
    },
    {
      "cell_type": "code",
      "source": [
        "df1.join(df2,df1.id == df2.id,\"left\").show()"
      ],
      "metadata": {
        "colab": {
          "base_uri": "https://localhost:8080/"
        },
        "id": "R21B2f7P3dhA",
        "outputId": "60867e0b-df2e-4de9-c20c-f229a8e7c062"
      },
      "execution_count": null,
      "outputs": [
        {
          "output_type": "stream",
          "name": "stdout",
          "text": [
            "+---+------+--------+----+----+--------+\n",
            "| id|  name| company|  id|name| company|\n",
            "+---+------+--------+----+----+--------+\n",
            "|  1|   abi|      ai|null|null|    null|\n",
            "|  2|  banu|seirious|   2|banu|seirious|\n",
            "|  3|harshi|     tcl|null|null|    null|\n",
            "|  4|  vino|   giggs|null|null|    null|\n",
            "+---+------+--------+----+----+--------+\n",
            "\n"
          ]
        }
      ]
    },
    {
      "cell_type": "code",
      "source": [
        "df = df1.join(df2, on = ['id'], how=\"left\").show()"
      ],
      "metadata": {
        "colab": {
          "base_uri": "https://localhost:8080/"
        },
        "id": "Pr3TImew8Bq4",
        "outputId": "2ee7a59b-4216-452c-8722-46a38921a00b"
      },
      "execution_count": null,
      "outputs": [
        {
          "output_type": "stream",
          "name": "stdout",
          "text": [
            "+---+------+--------+----+--------+\n",
            "| id|  name| company|name| company|\n",
            "+---+------+--------+----+--------+\n",
            "|  1|   abi|      ai|null|    null|\n",
            "|  2|  banu|seirious|banu|seirious|\n",
            "|  3|harshi|     tcl|null|    null|\n",
            "|  4|  vino|   giggs|null|    null|\n",
            "+---+------+--------+----+--------+\n",
            "\n"
          ]
        }
      ]
    },
    {
      "cell_type": "code",
      "source": [
        "df1.createOrReplaceTempView('EMP')\n",
        "df2.createOrReplaceTempView(\"stu\")\n",
        "df3 = spark\\\n",
        "      .sql(\"SELECT * FROM EMP LEFT JOIN stu ON EMP.id == stu.id\")\\\n",
        "      .show(truncate = False)"
      ],
      "metadata": {
        "colab": {
          "base_uri": "https://localhost:8080/"
        },
        "id": "_64Bh6ns7ej5",
        "outputId": "bf2ac9c0-476e-4dcd-c52b-c3ca12c90e2e"
      },
      "execution_count": null,
      "outputs": [
        {
          "output_type": "stream",
          "name": "stdout",
          "text": [
            "+---+------+--------+----+----+--------+\n",
            "|id |name  |company |id  |name|company |\n",
            "+---+------+--------+----+----+--------+\n",
            "|1  |abi   |ai      |null|null|null    |\n",
            "|2  |banu  |seirious|2   |banu|seirious|\n",
            "|3  |harshi|tcl     |null|null|null    |\n",
            "|4  |vino  |giggs   |null|null|null    |\n",
            "+---+------+--------+----+----+--------+\n",
            "\n"
          ]
        }
      ]
    },
    {
      "cell_type": "code",
      "source": [],
      "metadata": {
        "id": "5GgcBpXX7enX"
      },
      "execution_count": null,
      "outputs": []
    },
    {
      "cell_type": "code",
      "source": [
        "df1.join(df2,df1.id == df2.id,\"right\").show()"
      ],
      "metadata": {
        "colab": {
          "base_uri": "https://localhost:8080/"
        },
        "id": "B4p34kXK3dli",
        "outputId": "72070a3a-803f-48e4-8d1b-36f644a489fc"
      },
      "execution_count": null,
      "outputs": [
        {
          "output_type": "stream",
          "name": "stdout",
          "text": [
            "+----+----+--------+---+----+--------+\n",
            "|  id|name| company| id|name| company|\n",
            "+----+----+--------+---+----+--------+\n",
            "|   2|banu|seirious|  2|banu|seirious|\n",
            "|null|null|    null|  5|guru|    find|\n",
            "+----+----+--------+---+----+--------+\n",
            "\n"
          ]
        }
      ]
    },
    {
      "cell_type": "code",
      "source": [
        "df = df1.join(df2, on = ['id'], how=\"right\").show()"
      ],
      "metadata": {
        "colab": {
          "base_uri": "https://localhost:8080/"
        },
        "id": "OL6nam958KN3",
        "outputId": "c1d2b5ec-b749-4ce6-aedb-8f8efab56830"
      },
      "execution_count": null,
      "outputs": [
        {
          "output_type": "stream",
          "name": "stdout",
          "text": [
            "+---+----+--------+----+--------+\n",
            "| id|name| company|name| company|\n",
            "+---+----+--------+----+--------+\n",
            "|  2|banu|seirious|banu|seirious|\n",
            "|  5|null|    null|guru|    find|\n",
            "+---+----+--------+----+--------+\n",
            "\n"
          ]
        }
      ]
    },
    {
      "cell_type": "code",
      "source": [
        "df1.createOrReplaceTempView('EMP')\n",
        "df2.createOrReplaceTempView(\"stu\")\n",
        "df3 = spark\\\n",
        "      .sql(\"SELECT * FROM EMP RIGHT JOIN stu ON EMP.id == stu.id\")\\\n",
        "      .show(truncate = False)"
      ],
      "metadata": {
        "colab": {
          "base_uri": "https://localhost:8080/"
        },
        "id": "N89g5pnK3dpG",
        "outputId": "28013a27-e60b-47e1-8732-ccf8baf29aa3"
      },
      "execution_count": null,
      "outputs": [
        {
          "output_type": "stream",
          "name": "stdout",
          "text": [
            "+----+----+--------+---+----+--------+\n",
            "|id  |name|company |id |name|company |\n",
            "+----+----+--------+---+----+--------+\n",
            "|2   |banu|seirious|2  |banu|seirious|\n",
            "|null|null|null    |5  |guru|find    |\n",
            "+----+----+--------+---+----+--------+\n",
            "\n"
          ]
        }
      ]
    }
  ]
}