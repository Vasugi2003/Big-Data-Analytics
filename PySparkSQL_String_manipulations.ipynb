{
  "cells": [
    {
      "cell_type": "markdown",
      "metadata": {
        "id": "view-in-github",
        "colab_type": "text"
      },
      "source": [
        "<a href=\"https://colab.research.google.com/github/Vasugi2003/Big-Data-Analytics/blob/main/PySparkSQL_String_manipulations.ipynb\" target=\"_parent\"><img src=\"https://colab.research.google.com/assets/colab-badge.svg\" alt=\"Open In Colab\"/></a>"
      ]
    },
    {
      "cell_type": "code",
      "execution_count": null,
      "metadata": {
        "colab": {
          "base_uri": "https://localhost:8080/"
        },
        "id": "e91u1wii3Pio",
        "outputId": "e9466adb-90a4-4cca-a0c4-5779f8e4fccb"
      },
      "outputs": [
        {
          "output_type": "stream",
          "name": "stdout",
          "text": [
            "Requirement already satisfied: pyspark in /usr/local/lib/python3.10/dist-packages (3.5.0)\n",
            "Requirement already satisfied: py4j==0.10.9.7 in /usr/local/lib/python3.10/dist-packages (from pyspark) (0.10.9.7)\n"
          ]
        }
      ],
      "source": [
        "# Step 1: Install and import PySpark\n",
        "!pip install pyspark\n",
        "from pyspark.sql import SparkSession"
      ]
    },
    {
      "cell_type": "code",
      "execution_count": null,
      "metadata": {
        "id": "YJLZwi7Z8sQ3"
      },
      "outputs": [],
      "source": [
        "spark = SparkSession.builder.appName(\"StringManip\").getOrCreate()"
      ]
    },
    {
      "cell_type": "code",
      "execution_count": null,
      "metadata": {
        "id": "JbGWuc6Hd8XF"
      },
      "outputs": [],
      "source": [
        "# Updated sample data for a \"cars\" DataFrame\n",
        "data = [(\"Toyota Camry\", \"Sedan\", \"2022\"),\n",
        "        (\"Honda Civic\", \"Sedan\", \"2022\"),\n",
        "        (\"Ford F-150\", \"Truck\", \"2022\"),\n",
        "        (\"Tesla Model 3\", \"Electric\", \"2022\"),\n",
        "        (\"Skoda\", \"Rapid\", \"2022\")]\n",
        "columns = [\"model\", \"type\", \"year\"]\n",
        "\n",
        "# Create a DataFrame with the updated car-related data\n",
        "df = spark.createDataFrame(data, columns)\n",
        "\n",
        "# Register the DataFrame as a temporary SQL table\n",
        "df.createOrReplaceTempView(\"cars\")\n"
      ]
    },
    {
      "cell_type": "code",
      "execution_count": null,
      "metadata": {
        "colab": {
          "base_uri": "https://localhost:8080/"
        },
        "id": "y0JogHCQeAhb",
        "outputId": "4da01788-806c-483a-8a9e-47f4229fb81b"
      },
      "outputs": [
        {
          "output_type": "stream",
          "name": "stdout",
          "text": [
            "1. Concatenated Strings:\n",
            "+-------------+--------+----+-------------------------------+\n",
            "|model        |type    |year|details                        |\n",
            "+-------------+--------+----+-------------------------------+\n",
            "|Toyota Camry |Sedan   |2022|Toyota Camry : Sedan : 2022    |\n",
            "|Honda Civic  |Sedan   |2022|Honda Civic : Sedan : 2022     |\n",
            "|Ford F-150   |Truck   |2022|Ford F-150 : Truck : 2022      |\n",
            "|Tesla Model 3|Electric|2022|Tesla Model 3 : Electric : 2022|\n",
            "|Skoda        |Rapid   |2022|Skoda : Rapid : 2022           |\n",
            "+-------------+--------+----+-------------------------------+\n",
            "\n"
          ]
        }
      ],
      "source": [
        "#1)concat_ws(separator, *cols):\n",
        "#Combines multiple columns into a single column using the specified separator#\n",
        "# Example queries using Spark SQL string functions\n",
        "\n",
        "# 1. Concatenating strings with a separator\n",
        "concatenated_df = spark.sql(\"SELECT * ,concat_ws(' : ', model, type, year) AS details FROM cars\")\n",
        "print(\"1. Concatenated Strings:\")\n",
        "concatenated_df.show(truncate=False)\n"
      ]
    },
    {
      "cell_type": "code",
      "execution_count": null,
      "metadata": {
        "colab": {
          "base_uri": "https://localhost:8080/"
        },
        "id": "9jrWn-C1eDZz",
        "outputId": "614fc2e4-3654-4656-981a-04eea921d411"
      },
      "outputs": [
        {
          "output_type": "stream",
          "name": "stdout",
          "text": [
            "2. Length of Types:\n",
            "+-------------+--------+----+-----------+\n",
            "|        model|    type|year|type_length|\n",
            "+-------------+--------+----+-----------+\n",
            "| Toyota Camry|   Sedan|2022|          5|\n",
            "|  Honda Civic|   Sedan|2022|          5|\n",
            "|   Ford F-150|   Truck|2022|          5|\n",
            "|Tesla Model 3|Electric|2022|          8|\n",
            "|        Skoda|   Rapid|2022|          5|\n",
            "+-------------+--------+----+-----------+\n",
            "\n"
          ]
        }
      ],
      "source": [
        "#length(col)\n",
        "\n",
        "#Computes the character length of string data or number of bytes of binary data.\n",
        "\n",
        "# 2. Calculating the length of strings\n",
        "length_df = spark.sql(\"SELECT *, length(type) AS type_length FROM cars\")\n",
        "\n",
        "print(\"2. Length of Types:\")\n",
        "length_df.show()"
      ]
    },
    {
      "cell_type": "code",
      "execution_count": null,
      "metadata": {
        "colab": {
          "base_uri": "https://localhost:8080/"
        },
        "id": "-uTGfLZ4eEvU",
        "outputId": "d58bda4f-bef4-48c2-e38b-fa2f205e9ea1"
      },
      "outputs": [
        {
          "output_type": "stream",
          "name": "stdout",
          "text": [
            "3. Substring of Types:\n",
            "+-------------+--------+----+---------+\n",
            "|        model|    type|year|type_abbr|\n",
            "+-------------+--------+----+---------+\n",
            "| Toyota Camry|   Sedan|2022|      dan|\n",
            "|  Honda Civic|   Sedan|2022|      dan|\n",
            "|   Ford F-150|   Truck|2022|      uck|\n",
            "|Tesla Model 3|Electric|2022|      ect|\n",
            "|        Skoda|   Rapid|2022|      pid|\n",
            "+-------------+--------+----+---------+\n",
            "\n"
          ]
        }
      ],
      "source": [
        "# 3. Extracting substrings\n",
        "#Parameters\n",
        "#str Column or str\n",
        "    #target column to work on.\n",
        "\n",
        "#pos int\n",
        "    #starting position in str.\n",
        "\n",
        "#len int\n",
        "    #length of chars.\n",
        "\n",
        "#Returns\n",
        "#Column\n",
        "#substring of given value.\n",
        "\n",
        "substring_df = spark.sql(\"SELECT *, substring(type, 3, 3) AS type_abbr FROM cars\")\n",
        "\n",
        "print(\"3. Substring of Types:\")\n",
        "substring_df.show()"
      ]
    },
    {
      "cell_type": "code",
      "execution_count": null,
      "metadata": {
        "colab": {
          "base_uri": "https://localhost:8080/"
        },
        "id": "HLxjYtX5eF_j",
        "outputId": "fedd42a8-7c76-4c08-ba00-1534117574f5"
      },
      "outputs": [
        {
          "output_type": "stream",
          "name": "stdout",
          "text": [
            "4. Uppercase Types:\n",
            "+-------------+--------+----+--------+--------------+\n",
            "|        model|    type|year|    type|uppercase_type|\n",
            "+-------------+--------+----+--------+--------------+\n",
            "| Toyota Camry|   Sedan|2022|   Sedan|         SEDAN|\n",
            "|  Honda Civic|   Sedan|2022|   Sedan|         SEDAN|\n",
            "|   Ford F-150|   Truck|2022|   Truck|         TRUCK|\n",
            "|Tesla Model 3|Electric|2022|Electric|      ELECTRIC|\n",
            "|        Skoda|   Rapid|2022|   Rapid|         RAPID|\n",
            "+-------------+--------+----+--------+--------------+\n",
            "\n"
          ]
        }
      ],
      "source": [
        "#Parameters\n",
        "\n",
        "#colColumn or str\n",
        "    #target column to work on.\n",
        "\n",
        "#Returns Column upper case values.\n",
        "\n",
        "# 4. Converts a string expression to uppercase\n",
        "uppercase_df = spark.sql(\"SELECT *, type, upper(type) AS uppercase_type FROM cars\")\n",
        "print(\"4. Uppercase Types:\")\n",
        "uppercase_df.show()"
      ]
    },
    {
      "cell_type": "code",
      "execution_count": null,
      "metadata": {
        "colab": {
          "base_uri": "https://localhost:8080/"
        },
        "id": "2phxYPhCeHdL",
        "outputId": "bd0ea030-6861-44bb-f7f8-43e6e2ab72f2"
      },
      "outputs": [
        {
          "output_type": "stream",
          "name": "stdout",
          "text": [
            "5. Lowercase Types:\n",
            "+-------------+--------+--------------+\n",
            "|        model|    type|lowercase_type|\n",
            "+-------------+--------+--------------+\n",
            "| Toyota Camry|   Sedan|         sedan|\n",
            "|  Honda Civic|   Sedan|         sedan|\n",
            "|   Ford F-150|   Truck|         truck|\n",
            "|Tesla Model 3|Electric|      electric|\n",
            "|        Skoda|   Rapid|         rapid|\n",
            "+-------------+--------+--------------+\n",
            "\n"
          ]
        }
      ],
      "source": [
        "# 5. Checking for lowercase\n",
        "lowercase_df = spark.sql(\"SELECT model, type, lower(type) AS lowercase_type FROM cars\")\n",
        "print(\"5. Lowercase Types:\")\n",
        "lowercase_df.show()"
      ]
    },
    {
      "cell_type": "code",
      "execution_count": null,
      "metadata": {
        "id": "9MeeFOOQeIxr"
      },
      "outputs": [],
      "source": [
        "# Show the results of each transformation\n",
        "# Stop the Spark session\n",
        "spark.stop()"
      ]
    },
    {
      "cell_type": "markdown",
      "metadata": {
        "id": "3_bwaOHEeb8N"
      },
      "source": [
        "base64(e: Column): Column\n",
        "\n",
        "Explanation: Encodes a binary or string column using Base64 encoding.\n",
        "\n",
        "\n",
        "#The Base64 method of encoding is used when binary data, such as images or video, is transmitted over systems that are designed to transmit data in a plain-text (ASCII) format"
      ]
    },
    {
      "cell_type": "code",
      "execution_count": null,
      "metadata": {
        "colab": {
          "base_uri": "https://localhost:8080/"
        },
        "id": "qW0wnD4LeagT",
        "outputId": "148f61bf-e8cb-44b9-fc6c-5615a4dbebb1"
      },
      "outputs": [
        {
          "output_type": "stream",
          "name": "stdout",
          "text": [
            "+-------------+--------------------+\n",
            "|        model|       base64(model)|\n",
            "+-------------+--------------------+\n",
            "| Coyota Camry|    Q295b3RhIENhbXJ5|\n",
            "|  Honda Civic|    SG9uZGEgQ2l2aWM=|\n",
            "|   Ford F-150|    Rm9yZCBGLTE1MA==|\n",
            "|Tesla Model 3|VGVzbGEgTW9kZWwgMw==|\n",
            "|        Skoda|            U2tvZGE=|\n",
            "+-------------+--------------------+\n",
            "\n",
            "+-------------+--------+----+--------------------+\n",
            "|        model|    type|year|        model_base64|\n",
            "+-------------+--------+----+--------------------+\n",
            "| Coyota Camry|   Sedan|2022|    Q295b3RhIENhbXJ5|\n",
            "|  Honda Civic|   Sedan|2022|    SG9uZGEgQ2l2aWM=|\n",
            "|   Ford F-150|   Truck|2022|    Rm9yZCBGLTE1MA==|\n",
            "|Tesla Model 3|Electric|2022|VGVzbGEgTW9kZWwgMw==|\n",
            "|        Skoda|   Rapid|2022|            U2tvZGE=|\n",
            "+-------------+--------+----+--------------------+\n",
            "\n",
            "+-------------+--------+--------------------+\n",
            "|        model|    type|          model_type|\n",
            "+-------------+--------+--------------------+\n",
            "| Coyota Camry|   Sedan|    Q295b3RhIENhbXJ5|\n",
            "|  Honda Civic|   Sedan|    SG9uZGEgQ2l2aWM=|\n",
            "|   Ford F-150|   Truck|    Rm9yZCBGLTE1MA==|\n",
            "|Tesla Model 3|Electric|VGVzbGEgTW9kZWwgMw==|\n",
            "|        Skoda|   Rapid|            U2tvZGE=|\n",
            "+-------------+--------+--------------------+\n",
            "\n"
          ]
        }
      ],
      "source": [
        "from pyspark.sql.functions import base64\n",
        "from pyspark.sql.functions import col\n",
        "\n",
        "# Step 2: Create a Spark session\n",
        "spark = SparkSession.builder.appName(\"StringFunctionsExample\").getOrCreate()\n",
        "\n",
        "# Updated sample data for a \"cars\" DataFrame\n",
        "data = [(\"Coyota Camry\", \"Sedan\", \"2022\"),\n",
        "        (\"Honda Civic\", \"Sedan\", \"2022\"),\n",
        "        (\"Ford F-150\", \"Truck\", \"2022\"),\n",
        "        (\"Tesla Model 3\", \"Electric\", \"2022\"),\n",
        "        (\"Skoda\", \"Rapid\", \"2022\")]\n",
        "\n",
        "columns = [\"model\", \"type\", \"year\"]\n",
        "\n",
        "\n",
        "# Create a DataFrame with the updated car-related data\n",
        "df = spark.createDataFrame(data, columns)\n",
        "\n",
        "# Encode the \"model\" column using Base64\n",
        "\n",
        "encoded_df = df.select(\"model\", base64(col(\"model\")))\n",
        "encoded_df.show()\n",
        "\n",
        "\n",
        "encoded_df = df.withColumn(\"model_base64\", base64(col(\"model\")))\n",
        "encoded_df.show()\n",
        "\n",
        "\n",
        "\n",
        "# Register the DataFrame as a temporary SQL table\n",
        "df.createOrReplaceTempView(\"cars\")\n",
        "encoded_df=spark.sql(\"SELECT model, type, base64(model) AS model_type FROM cars\")\n",
        "encoded_df.show()"
      ]
    },
    {
      "cell_type": "markdown",
      "metadata": {
        "id": "gBcP7217elvs"
      },
      "source": [
        "ascii(e: Column): Column\n",
        "\n",
        "Explanation: Returns the ASCII value of the first character in a string column."
      ]
    },
    {
      "cell_type": "code",
      "execution_count": null,
      "metadata": {
        "colab": {
          "base_uri": "https://localhost:8080/"
        },
        "id": "H6nQvYw1enpt",
        "outputId": "df30a38e-01cf-49af-c6cb-a285040dbe7c"
      },
      "outputs": [
        {
          "output_type": "stream",
          "name": "stdout",
          "text": [
            "+-------------+------------+\n",
            "|        model|ascii(model)|\n",
            "+-------------+------------+\n",
            "| Coyota Camry|          67|\n",
            "|  Honda Civic|          72|\n",
            "|   Ford F-150|          70|\n",
            "|Tesla Model 3|          84|\n",
            "|        Skoda|          83|\n",
            "+-------------+------------+\n",
            "\n",
            "+-------------+--------+----+-----------+\n",
            "|        model|    type|year|model_ascii|\n",
            "+-------------+--------+----+-----------+\n",
            "| Coyota Camry|   Sedan|2022|         67|\n",
            "|  Honda Civic|   Sedan|2022|         72|\n",
            "|   Ford F-150|   Truck|2022|         70|\n",
            "|Tesla Model 3|Electric|2022|         84|\n",
            "|        Skoda|   Rapid|2022|         83|\n",
            "+-------------+--------+----+-----------+\n",
            "\n",
            "+-------------+--------+-----------+\n",
            "|        model|    type|model_ascii|\n",
            "+-------------+--------+-----------+\n",
            "| Coyota Camry|   Sedan|         67|\n",
            "|  Honda Civic|   Sedan|         72|\n",
            "|   Ford F-150|   Truck|         70|\n",
            "|Tesla Model 3|Electric|         84|\n",
            "|        Skoda|   Rapid|         83|\n",
            "+-------------+--------+-----------+\n",
            "\n"
          ]
        }
      ],
      "source": [
        "from pyspark.sql.functions import ascii\n",
        "\n",
        "#Calculate the ASCII value of the first character in the \"model\" column\n",
        "ascii_df = df.select(\"model\", ascii(col(\"model\")))\n",
        "ascii_df.show()\n",
        "\n",
        "\n",
        "\n",
        "# Calculate the ASCII value of the first character in the \"model\" column\n",
        "ascii_df = df.withColumn(\"model_ascii\", ascii(col(\"model\")))\n",
        "ascii_df.show()\n",
        "\n",
        "\n",
        "\n",
        "ascii_df=spark.sql(\"SELECT model, type, ascii(model) AS model_ascii FROM cars\")\n",
        "ascii_df.show()"
      ]
    },
    {
      "cell_type": "markdown",
      "metadata": {
        "id": "naMCXswEepaN"
      },
      "source": [
        "concat_ws(sep: String, exprs: Column): Column*\n",
        "\n",
        "Explanation: Concatenates multiple columns with a specified separator.\n",
        "\n",
        "Working Code:"
      ]
    },
    {
      "cell_type": "code",
      "execution_count": null,
      "metadata": {
        "colab": {
          "base_uri": "https://localhost:8080/"
        },
        "id": "IxJ_rovAeqA0",
        "outputId": "90b428d9-994b-4173-9df4-a8e3005e3d10"
      },
      "outputs": [
        {
          "output_type": "stream",
          "name": "stdout",
          "text": [
            "+-------------+--------+----+---------------------------+\n",
            "|model        |type    |year|details                    |\n",
            "+-------------+--------+----+---------------------------+\n",
            "|Coyota Camry |Sedan   |2022|Coyota Camry-Sedan-2022    |\n",
            "|Honda Civic  |Sedan   |2022|Honda Civic-Sedan-2022     |\n",
            "|Ford F-150   |Truck   |2022|Ford F-150-Truck-2022      |\n",
            "|Tesla Model 3|Electric|2022|Tesla Model 3-Electric-2022|\n",
            "|Skoda        |Rapid   |2022|Skoda-Rapid-2022           |\n",
            "+-------------+--------+----+---------------------------+\n",
            "\n",
            "+-------------+--------+--------------------+\n",
            "|        model|    type|         model_ascii|\n",
            "+-------------+--------+--------------------+\n",
            "| Coyota Camry|   Sedan|  Coyota Camry-Sedan|\n",
            "|  Honda Civic|   Sedan|   Honda Civic-Sedan|\n",
            "|   Ford F-150|   Truck|    Ford F-150-Truck|\n",
            "|Tesla Model 3|Electric|Tesla Model 3-Ele...|\n",
            "|        Skoda|   Rapid|         Skoda-Rapid|\n",
            "+-------------+--------+--------------------+\n",
            "\n",
            "+-------------+-------------------------------+\n",
            "|        model|concat_ws(-, model, type, year)|\n",
            "+-------------+-------------------------------+\n",
            "| Coyota Camry|           Coyota Camry-Seda...|\n",
            "|  Honda Civic|           Honda Civic-Sedan...|\n",
            "|   Ford F-150|           Ford F-150-Truck-...|\n",
            "|Tesla Model 3|           Tesla Model 3-Ele...|\n",
            "|        Skoda|               Skoda-Rapid-2022|\n",
            "+-------------+-------------------------------+\n",
            "\n"
          ]
        }
      ],
      "source": [
        "from pyspark.sql.functions import concat_ws\n",
        "\n",
        "# Concatenate \"model,\" \"type,\" and \"year\" columns with a '-' separator\n",
        "concatenated_df = df.withColumn(\"details\", concat_ws(\"-\", col(\"model\"), col(\"type\"), col(\"year\")))\n",
        "concatenated_df.show(truncate=False)\n",
        "\n",
        "\n",
        "ascii_df=spark.sql(\"SELECT model,type,concat_ws('-',model,type) AS model_ascii FROM cars\")\n",
        "ascii_df.show()\n",
        "\n",
        "\n",
        "ascii_df = df.select(\"model\", concat_ws(\"-\", col(\"model\"), col(\"type\"), col(\"year\")))\n",
        "ascii_df.show()\n",
        "\n",
        "\n",
        "\n",
        "\n"
      ]
    },
    {
      "cell_type": "markdown",
      "metadata": {
        "id": "NvAiM-5Uetek"
      },
      "source": [
        "length(e: Column): Column\n",
        "\n",
        "Explanation: Returns the length (number of characters) of a string column."
      ]
    },
    {
      "cell_type": "code",
      "execution_count": null,
      "metadata": {
        "colab": {
          "base_uri": "https://localhost:8080/"
        },
        "id": "FBZ5-B7met7c",
        "outputId": "c1dc92f5-2da3-443a-a94e-51b4d77975c0"
      },
      "outputs": [
        {
          "output_type": "stream",
          "name": "stdout",
          "text": [
            "+-------------+--------+----+------------+\n",
            "|        model|    type|year|model_length|\n",
            "+-------------+--------+----+------------+\n",
            "| Coyota Camry|   Sedan|2022|          12|\n",
            "|  Honda Civic|   Sedan|2022|          11|\n",
            "|   Ford F-150|   Truck|2022|          10|\n",
            "|Tesla Model 3|Electric|2022|          13|\n",
            "|        Skoda|   Rapid|2022|           5|\n",
            "+-------------+--------+----+------------+\n",
            "\n",
            "+--------+------------+\n",
            "|    type|length(type)|\n",
            "+--------+------------+\n",
            "|   Sedan|           5|\n",
            "|   Sedan|           5|\n",
            "|   Truck|           5|\n",
            "|Electric|           8|\n",
            "|   Rapid|           5|\n",
            "+--------+------------+\n",
            "\n",
            "+-------------+--------+------------+\n",
            "|        model|    type|length_model|\n",
            "+-------------+--------+------------+\n",
            "| Coyota Camry|   Sedan|          12|\n",
            "|  Honda Civic|   Sedan|          11|\n",
            "|   Ford F-150|   Truck|          10|\n",
            "|Tesla Model 3|Electric|          13|\n",
            "|        Skoda|   Rapid|           5|\n",
            "+-------------+--------+------------+\n",
            "\n"
          ]
        }
      ],
      "source": [
        "from pyspark.sql.functions import length\n",
        "\n",
        "# Calculate the length of the \"model\" column\n",
        "length_df = df.withColumn(\"model_length\", length(col(\"model\")))\n",
        "length_df.show()\n",
        "\n",
        "# Register the DataFrame as a temporary SQL table\n",
        "\n",
        "length_df = df.select(\"type\",length(col(\"type\")) );\n",
        "length_df.show()\n",
        "\n",
        "df.createOrReplaceTempView(\"cars\")\n",
        "length_df=spark.sql(\"SELECT model, type,length(model) AS length_model FROM cars\")\n",
        "length_df.show()\n"
      ]
    },
    {
      "cell_type": "markdown",
      "metadata": {
        "id": "prBTqJQWeyKc"
      },
      "source": [
        "instr(str: Column, substring: String): Column\n",
        "\n",
        "Explanation: Returns the position (1-based index) of the first occurrence of a substring in a string column."
      ]
    },
    {
      "cell_type": "code",
      "execution_count": null,
      "metadata": {
        "colab": {
          "base_uri": "https://localhost:8080/"
        },
        "id": "xumDr_tve0M1",
        "outputId": "7f708164-2303-4a49-e4ad-df704a1b10ce"
      },
      "outputs": [
        {
          "output_type": "stream",
          "name": "stdout",
          "text": [
            "+-------------+--------+----+--------------+\n",
            "|        model|    type|year|camry_position|\n",
            "+-------------+--------+----+--------------+\n",
            "| Coyota Camry|   Sedan|2022|             0|\n",
            "|  Honda Civic|   Sedan|2022|             7|\n",
            "|   Ford F-150|   Truck|2022|             0|\n",
            "|Tesla Model 3|Electric|2022|             0|\n",
            "|        Skoda|   Rapid|2022|             0|\n",
            "+-------------+--------+----+--------------+\n",
            "\n",
            "+-------------+--------+----+-------+\n",
            "|        model|    type|year|postion|\n",
            "+-------------+--------+----+-------+\n",
            "| Coyota Camry|   Sedan|2022|      2|\n",
            "|  Honda Civic|   Sedan|2022|      2|\n",
            "|   Ford F-150|   Truck|2022|      2|\n",
            "|Tesla Model 3|Electric|2022|      8|\n",
            "|        Skoda|   Rapid|2022|      3|\n",
            "+-------------+--------+----+-------+\n",
            "\n"
          ]
        }
      ],
      "source": [
        "#Locate the position of the first occurrence of substr column in the given string.\n",
        "#Returns null if either of the arguments are nul\n",
        "\n",
        "\n",
        "from pyspark.sql.functions import instr\n",
        "\n",
        "# Find the position of \"Camry\" in the \"model\" column\n",
        "position_df = df.withColumn(\"camry_position\", instr(col(\"model\"), \"Civic\"))\n",
        "position_df.show()\n",
        "\n",
        "\n",
        "# Register the DataFrame as a temporary SQL table\n",
        "df.createOrReplaceTempView(\"cars\")\n",
        "encoded_df = spark.sql(\"SELECT  * ,instr(model ,'o') AS postion FROM cars\");\n",
        "encoded_df.show()\n"
      ]
    },
    {
      "cell_type": "markdown",
      "metadata": {
        "id": "G3UiRw8NkUX0"
      },
      "source": [
        "levenshtein(l: Column, r: Column): Column\n",
        "\n",
        "Explanation: Computes the Levenshtein distance between two string columns.\n",
        "\n",
        "levenshtein(str1, str2[, threshold]) - Returns the Levenshtein distance between the two given strings. If threshold is set and distance more than it, return -1.\n"
      ]
    },
    {
      "cell_type": "code",
      "execution_count": null,
      "metadata": {
        "colab": {
          "base_uri": "https://localhost:8080/"
        },
        "id": "lYVd41Uvk-xk",
        "outputId": "fd67ccbd-4c5d-4029-b883-e2c1e397520b"
      },
      "outputs": [
        {
          "output_type": "stream",
          "name": "stdout",
          "text": [
            "+-------+--------+--------------------+\n",
            "|string1| string2|levenshtein_distance|\n",
            "+-------+--------+--------------------+\n",
            "| kitten| sitting|                   3|\n",
            "|   flaw|    lawn|                   2|\n",
            "|  hello|haihello|                   3|\n",
            "+-------+--------+--------------------+\n",
            "\n",
            "+-----------------------------+\n",
            "|levenshtein(string1, string2)|\n",
            "+-----------------------------+\n",
            "|                            3|\n",
            "|                            2|\n",
            "|                            3|\n",
            "+-----------------------------+\n",
            "\n",
            "+-------+--------+--------+\n",
            "|string1| string2|distance|\n",
            "+-------+--------+--------+\n",
            "| kitten| sitting|       1|\n",
            "|   flaw|    lawn|       1|\n",
            "|  hello|haihello|       1|\n",
            "+-------+--------+--------+\n",
            "\n"
          ]
        }
      ],
      "source": [
        "#Computes the Levenshtein distance of the two given strings\n",
        "from pyspark.sql.functions import levenshtein\n",
        "data = [(\"kitten\", \"sitting\"),\n",
        "        (\"flaw\", \"lawn\"),\n",
        "        (\"hello\", \"haihello\")]\n",
        "columns = [\"string1\", \"string2\"]\n",
        "\n",
        "df = spark.createDataFrame(data, columns)\n",
        "# Calculate the Levenshtein distance between \"string1\" and \"string2\" columns\n",
        "distance_df =df.withColumn(\"levenshtein_distance\", levenshtein(col(\"string1\"), col(\"string2\")))\n",
        "distance_df.show()\n",
        "\n",
        "distance_df = df.select(levenshtein(col(\"string1\"),col(\"string2\")))\n",
        "distance_df.show()\n",
        "\n",
        "# Register the DataFrame as a temporary SQL table\n",
        "df.createOrReplaceTempView(\"cars\")\n",
        "encoded_df = spark.sql(\"SELECT string1,string2, levenshtein('string1','string2') AS distance FROM cars\");\n",
        "encoded_df.show()"
      ]
    },
    {
      "cell_type": "code",
      "execution_count": null,
      "metadata": {
        "colab": {
          "base_uri": "https://localhost:8080/"
        },
        "id": "P-ZTAC_5kQxT",
        "outputId": "d62282f1-dfaf-4342-d3c7-d0a4282a994f"
      },
      "outputs": [
        {
          "output_type": "stream",
          "name": "stdout",
          "text": [
            "+---------------+--------+----+---------+--------------------+\n",
            "|          model|    type|year|driverage|levenshtein_distance|\n",
            "+---------------+--------+----+---------+--------------------+\n",
            "|   Coyota Camry|   Sedan|2022|        5|                  14|\n",
            "|   honda Civic2|   Sedan|2022|        6|                  10|\n",
            "|   Ford F-15000|   Truck|2022|       15|                  11|\n",
            "|     Tesla Mode|Electric|2022|       24|                   9|\n",
            "|     Skoda45633|   Rapid|2022|       23|                   9|\n",
            "+---------------+--------+----+---------+--------------------+\n",
            "\n"
          ]
        }
      ],
      "source": [
        "from pyspark.sql.functions import levenshtein\n",
        "\n",
        "# Updated sample data for a \"cars\" DataFrame\n",
        "data = [(\"   Coyota Camry\", \"Sedan\", 2022,5),\n",
        "        (\"honda Civic2\", \"Sedan\", 2022,6),\n",
        "        (\"Ford F-15000\", \"Truck\", 2022,15),\n",
        "        (\"Tesla Mode\", \"Electric\", 2022,24),\n",
        "        (\"Skoda45633\", \"Rapid\", 2022,23)]\n",
        "\n",
        "columns = [\"model\", \"type\", \"year\",\"driverage\"]\n",
        "\n",
        "\n",
        "# Create a DataFrame with the updated car-related data\n",
        "df = spark.createDataFrame(data, columns)\n",
        "\n",
        "# Calculate the Levenshtein distance between \"model\" and \"type\" columns\n",
        "levenshtein_df = df.withColumn(\"levenshtein_distance\", levenshtein(col(\"model\"), col(\"type\")))\n",
        "levenshtein_df.show()"
      ]
    },
    {
      "cell_type": "markdown",
      "metadata": {
        "id": "WyIE6pq1wOZE"
      },
      "source": [
        "ltrim(e: Column): Column\n",
        "\n",
        "Explanation: Removes leading whitespace from a string column."
      ]
    },
    {
      "cell_type": "code",
      "execution_count": null,
      "metadata": {
        "colab": {
          "base_uri": "https://localhost:8080/"
        },
        "id": "FpUPg-TzwPeE",
        "outputId": "bd2b419d-526e-46c0-b5fb-8ddd38e81607"
      },
      "outputs": [
        {
          "output_type": "stream",
          "name": "stdout",
          "text": [
            "+---------------+--------+----+---------+-------------+\n",
            "|          model|    type|year|driverage|model_trimmed|\n",
            "+---------------+--------+----+---------+-------------+\n",
            "|   Coyota Camry|   Sedan|2022|        5| Coyota Camry|\n",
            "|   honda Civic2|   Sedan|2022|        6| honda Civic2|\n",
            "|   Ford F-15000|   Truck|2022|       15| Ford F-15000|\n",
            "|     Tesla Mode|Electric|2022|       24|   Tesla Mode|\n",
            "|     Skoda45633|   Rapid|2022|       23|   Skoda45633|\n",
            "+---------------+--------+----+---------+-------------+\n",
            "\n",
            "+---------------+------------+\n",
            "|          model|ltrim(model)|\n",
            "+---------------+------------+\n",
            "|   Coyota Camry|Coyota Camry|\n",
            "|   honda Civic2|honda Civic2|\n",
            "|   Ford F-15000|Ford F-15000|\n",
            "|     Tesla Mode|  Tesla Mode|\n",
            "|     Skoda45633|  Skoda45633|\n",
            "+---------------+------------+\n",
            "\n",
            "+---------------+------------+\n",
            "|          model|     trimmed|\n",
            "+---------------+------------+\n",
            "|   Coyota Camry|Coyota Camry|\n",
            "|   honda Civic2|honda Civic2|\n",
            "|   Ford F-15000|Ford F-15000|\n",
            "|     Tesla Mode|  Tesla Mode|\n",
            "|     Skoda45633|  Skoda45633|\n",
            "+---------------+------------+\n",
            "\n"
          ]
        }
      ],
      "source": [
        "from pyspark.sql.functions import ltrim\n",
        "\n",
        "# Remove leading whitespace from the \"model\" column\n",
        "trimmed_df = df.withColumn(\"model_trimmed\", ltrim(df['model']))\n",
        "trimmed_df.show()\n",
        "\n",
        "\n",
        "trimmed_df=df.select( col(\"model\") ,( ltrim(col(\"model\")) ))\n",
        "trimmed_df.show()\n",
        "\n",
        "\n",
        "df.createOrReplaceTempView(\"cars\")\n",
        "trimmed_df = spark.sql(\"SELECT model ,ltrim(model) AS trimmed FROM cars\");\n",
        "trimmed_df.show()\n",
        "\n"
      ]
    },
    {
      "cell_type": "markdown",
      "metadata": {
        "id": "R2qtDze6wR1k"
      },
      "source": [
        "locate(substr: String, str: Column, pos: Int): Column\n",
        "\n",
        "Explanation: Returns the position (1-based index) of the first occurrence of a substring in a string column, starting from a specified position."
      ]
    },
    {
      "cell_type": "code",
      "execution_count": null,
      "metadata": {
        "colab": {
          "base_uri": "https://localhost:8080/"
        },
        "id": "ev13uXj7wUAz",
        "outputId": "7ba6d176-d066-4731-b7ff-fbe7e489888b"
      },
      "outputs": [
        {
          "output_type": "stream",
          "name": "stdout",
          "text": [
            "+-----+--------+----+---------+\n",
            "|model|    type|year|driverage|\n",
            "+-----+--------+----+---------+\n",
            "|   11|   Sedan|2022|        5|\n",
            "|    0|   Sedan|2022|        6|\n",
            "|    0|   Truck|2022|       15|\n",
            "|    0|Electric|2022|       24|\n",
            "|    0|   Rapid|2022|       23|\n",
            "+-----+--------+----+---------+\n",
            "\n",
            "+---------------+---+\n",
            "|          model|out|\n",
            "+---------------+---+\n",
            "|   Coyota Camry| 11|\n",
            "|   honda Civic2|  0|\n",
            "|   Ford F-15000|  0|\n",
            "|     Tesla Mode|  0|\n",
            "|     Skoda45633|  0|\n",
            "+---------------+---+\n",
            "\n"
          ]
        }
      ],
      "source": [
        "#locate(substr, str[, pos]) -\n",
        "#Returns the position of the first occurrence of substr in str after position pos.\n",
        "# The given pos and return value are 1-based.\n",
        "from pyspark.sql.functions import locate\n",
        "\n",
        "# Find the position of \"Sedan\" in the \"type\" column, starting from position 3\n",
        "position_df = df.withColumn(\"model\", locate(\"Camry\", col(\"model\"), 1))\n",
        "position_df.show()\n",
        "\n",
        "\n",
        "df.createOrReplaceTempView(\"cars\");\n",
        "\n",
        "trimmed_df = spark.sql(\"SELECT model ,locate('Camry',model) AS out FROM cars\");\n",
        "trimmed_df.show()\n",
        "\n"
      ]
    },
    {
      "cell_type": "markdown",
      "metadata": {
        "id": "2wVEfujEwWRE"
      },
      "source": [
        "regexp_replace(e: Column, pattern: Column, replacement: Column): Column\n",
        "\n",
        "Explanation: Replaces all substrings in a string column that match a specified regular expression pattern with a replacement string."
      ]
    },
    {
      "cell_type": "code",
      "execution_count": null,
      "metadata": {
        "colab": {
          "base_uri": "https://localhost:8080/",
          "height": 141
        },
        "id": "bYtAjBH0wYaU",
        "outputId": "e3483e93-4621-4b44-d828-8660b08dd3a4"
      },
      "outputs": [
        {
          "output_type": "error",
          "ename": "SyntaxError",
          "evalue": "ignored",
          "traceback": [
            "\u001b[0;36m  File \u001b[0;32m\"<ipython-input-36-05a462717e18>\"\u001b[0;36m, line \u001b[0;32m4\u001b[0m\n\u001b[0;31m    replaced_df =\u001b[0m\n\u001b[0m                 ^\u001b[0m\n\u001b[0;31mSyntaxError\u001b[0m\u001b[0;31m:\u001b[0m invalid syntax\n"
          ]
        }
      ],
      "source": [
        "from pyspark.sql.functions import regexp_replace\n",
        "\n",
        "# Replace \"Sedan\" with \"Compact\" in the \"type\" column\n",
        "replaced_df =\n",
        "df.withColumn(\"type_replaced\", regexp_replace(col(\"type\"), \"Sedan\", \"Compact\"))\n",
        "replaced_df.show()\n",
        "\n",
        "\n",
        "df.createOrReplaceTempView(\"cars\");\n",
        "\n",
        "trimmed_df =\n",
        "spark.sql(\"SELECT model ,regexp_replace(type,'Sedan','SUV') AS out FROM cars\");\n",
        "trimmed_df.show()\n"
      ]
    },
    {
      "cell_type": "markdown",
      "metadata": {
        "id": "jqzdK8qnwaXc"
      },
      "source": [
        "initcap(e: Column): Column\n",
        "\n",
        "Explanation: Capitalizes the first letter of each word in a string column."
      ]
    },
    {
      "cell_type": "code",
      "execution_count": null,
      "metadata": {
        "colab": {
          "base_uri": "https://localhost:8080/"
        },
        "id": "4EfEk6sDwcQ7",
        "outputId": "1e352e03-ad1a-4095-eb08-367716367398"
      },
      "outputs": [
        {
          "output_type": "stream",
          "name": "stdout",
          "text": [
            "+---------------+--------+----+---------+-----------------+\n",
            "|          model|    type|year|driverage|model_capitalized|\n",
            "+---------------+--------+----+---------+-----------------+\n",
            "|   Coyota Camry|   Sedan|2022|        5|     Coyota Camry|\n",
            "|   honda Civic2|   Sedan|2022|        6|     Honda Civic2|\n",
            "|   Ford F-15000|   Truck|2022|       15|     Ford F-15000|\n",
            "|     Tesla Mode|Electric|2022|       24|       Tesla Mode|\n",
            "|     Skoda45633|   Rapid|2022|       23|       Skoda45633|\n",
            "+---------------+--------+----+---------+-----------------+\n",
            "\n",
            "+---------------+---------------+\n",
            "|          model|            out|\n",
            "+---------------+---------------+\n",
            "|   Coyota Camry|   Coyota Camry|\n",
            "|   honda Civic2|   Honda Civic2|\n",
            "|   Ford F-15000|   Ford F-15000|\n",
            "|     Tesla Mode|     Tesla Mode|\n",
            "|     Skoda45633|     Skoda45633|\n",
            "+---------------+---------------+\n",
            "\n"
          ]
        }
      ],
      "source": [
        "from pyspark.sql.functions import initcap\n",
        "\n",
        "# Capitalize the \"model\" column\n",
        "capitalized_df = df.withColumn(\"model_capitalized\", initcap(col(\"model\")))\n",
        "capitalized_df.show()\n",
        "\n",
        "\n",
        "df.createOrReplaceTempView(\"cars\");\n",
        "\n",
        "trimmed_df = spark.sql(\"SELECT model ,initcap(model) AS out FROM cars\");\n",
        "trimmed_df.show()\n"
      ]
    },
    {
      "cell_type": "markdown",
      "metadata": {
        "id": "f5PTLeZbwd2N"
      },
      "source": [
        "regexp_replace(e: Column, pattern: String, replacement: String): Column\n",
        "\n",
        "Explanation: Replaces all substrings in a string column that match a specified regular expression pattern with a replacement string."
      ]
    },
    {
      "cell_type": "code",
      "execution_count": null,
      "metadata": {
        "colab": {
          "base_uri": "https://localhost:8080/"
        },
        "id": "Stx-0F2WwgVk",
        "outputId": "7e18deb4-331d-4899-e292-71ade552bdf3"
      },
      "outputs": [
        {
          "output_type": "stream",
          "name": "stdout",
          "text": [
            "+---------------+--------+----+---------+-------------+\n",
            "|          model|    type|year|driverage|type_replaced|\n",
            "+---------------+--------+----+---------+-------------+\n",
            "|   Coyota Camry|   Sedan|2022|        5|        Sedan|\n",
            "|   honda Civic2|   Sedan|2022|        6|        Sedan|\n",
            "|   Ford F-15000|   Truck|2022|       15|        Truck|\n",
            "|     Tesla Mode|Electric|2022|       24|           EV|\n",
            "|     Skoda45633|   Rapid|2022|       23|        Rapid|\n",
            "+---------------+--------+----+---------+-------------+\n",
            "\n",
            "+---------------+---------+\n",
            "|          model|      out|\n",
            "+---------------+---------+\n",
            "|   Coyota Camry|HATCHBACK|\n",
            "|   honda Civic2|HATCHBACK|\n",
            "|   Ford F-15000|    Truck|\n",
            "|     Tesla Mode| Electric|\n",
            "|     Skoda45633|    Rapid|\n",
            "+---------------+---------+\n",
            "\n"
          ]
        }
      ],
      "source": [
        "from pyspark.sql.functions import regexp_replace\n",
        "\n",
        "# Replace \"Electric\" with \"EV\" in the \"type\" column using a regular expression\n",
        "replaced_df = df.withColumn(\"type_replaced\", regexp_replace(col(\"type\"), \"Electric\", \"EV\"))\n",
        "replaced_df.show()\n",
        "\n",
        "df.createOrReplaceTempView(\"cars\");\n",
        "\n",
        "trimmed_df = spark.sql(\"SELECT model ,regexp_replace(type,'Sedan','HATCHBACK') AS out FROM cars\");\n",
        "trimmed_df.show()\n",
        "\n"
      ]
    },
    {
      "cell_type": "markdown",
      "metadata": {
        "id": "h3x-9NQDwiiD"
      },
      "source": [
        "regexp_extract(e: Column, exp: String, groupIdx: Int): Column\n",
        "\n",
        "Explanation: Extracts substrings from a string column using a regular expression and a specified capturing group index."
      ]
    },
    {
      "cell_type": "code",
      "execution_count": null,
      "metadata": {
        "colab": {
          "base_uri": "https://localhost:8080/"
        },
        "id": "7UipiouAwkis",
        "outputId": "b55681de-3c33-4cd7-d6aa-6eb8d042bc8f"
      },
      "outputs": [
        {
          "output_type": "stream",
          "name": "stdout",
          "text": [
            "+---------------+--------+----+---------+------------+\n",
            "|          model|    type|year|driverage|model_digits|\n",
            "+---------------+--------+----+---------+------------+\n",
            "|   Coyota Camry|   Sedan|2022|        5|            |\n",
            "|   honda Civic2|   Sedan|2022|        6|           2|\n",
            "|   Ford F-15000|   Truck|2022|       15|       15000|\n",
            "|     Tesla Mode|Electric|2022|       24|            |\n",
            "|     Skoda45633|   Rapid|2022|       23|       45633|\n",
            "+---------------+--------+----+---------+------------+\n",
            "\n",
            "+---------------+---+\n",
            "|          model|out|\n",
            "+---------------+---+\n",
            "|   Coyota Camry|  d|\n",
            "|   honda Civic2|  d|\n",
            "|   Ford F-15000|   |\n",
            "|     Tesla Mode|   |\n",
            "|     Skoda45633|  d|\n",
            "+---------------+---+\n",
            "\n"
          ]
        }
      ],
      "source": [
        "from pyspark.sql.functions import regexp_extract\n",
        "\n",
        "# Extract the digits from the \"model\" column using a regular expression and group index 1\n",
        "extracted_df = df.withColumn(\"model_digits\", regexp_extract(col(\"model\"), \"(\\d+)\", 1))\n",
        "extracted_df.show()\n",
        "\n",
        "\n",
        "df.createOrReplaceTempView(\"cars\");\n",
        "\n",
        "trimmed_df = spark.sql(\"SELECT model ,regexp_extract(type,'(\\d+)',1) AS out FROM cars\");\n",
        "trimmed_df.show()\n"
      ]
    },
    {
      "cell_type": "markdown",
      "metadata": {
        "id": "y9KhSgbCwmLs"
      },
      "source": [
        "encode(value: Column, charset: String): Column\n",
        "\n",
        "Explanation: Encodes a string column using a specified character encoding."
      ]
    },
    {
      "cell_type": "code",
      "execution_count": null,
      "metadata": {
        "colab": {
          "base_uri": "https://localhost:8080/"
        },
        "id": "QHNxQ3yUwoKM",
        "outputId": "5fe701a5-5039-4d97-8dbd-895c3c38b78f"
      },
      "outputs": [
        {
          "output_type": "stream",
          "name": "stdout",
          "text": [
            "+---------------+--------+----+---------+--------------------+\n",
            "|          model|    type|year|driverage|       model_encoded|\n",
            "+---------------+--------+----+---------+--------------------+\n",
            "|   Coyota Camry|   Sedan|2022|        5|[20 20 20 43 6F 7...|\n",
            "|   honda Civic2|   Sedan|2022|        6|[68 6F 6E 64 61 2...|\n",
            "|   Ford F-15000|   Truck|2022|       15|[46 6F 72 64 20 4...|\n",
            "|     Tesla Mode|Electric|2022|       24|[54 65 73 6C 61 2...|\n",
            "|     Skoda45633|   Rapid|2022|       23|[53 6B 6F 64 61 3...|\n",
            "+---------------+--------+----+---------+--------------------+\n",
            "\n",
            "+---------------+--------------------+\n",
            "|          model|                 out|\n",
            "+---------------+--------------------+\n",
            "|   Coyota Camry|    [53 65 64 61 6E]|\n",
            "|   honda Civic2|    [53 65 64 61 6E]|\n",
            "|   Ford F-15000|    [54 72 75 63 6B]|\n",
            "|     Tesla Mode|[45 6C 65 63 74 7...|\n",
            "|     Skoda45633|    [52 61 70 69 64]|\n",
            "+---------------+--------------------+\n",
            "\n"
          ]
        }
      ],
      "source": [
        "from pyspark.sql.functions import encode\n",
        "\n",
        "# Encode the \"model\" column using UTF-8 encoding\n",
        "encoded_df = df\\\n",
        "  .withColumn(\"model_encoded\", encode(col(\"model\"), \"UTF-8\"))\n",
        "encoded_df.show()\n",
        "\n",
        "df.createOrReplaceTempView(\"cars\");\n",
        "\n",
        "trimmed_df = spark\\\n",
        ".sql(\"SELECT model ,encode(type,'UTF-8') AS out FROM cars\");\n",
        "trimmed_df.show()\n",
        "\n",
        "\n"
      ]
    },
    {
      "cell_type": "markdown",
      "metadata": {
        "id": "PN2dEZj7wpvM"
      },
      "source": [
        "decode(value: Column, charset: String): Column\n",
        "\n",
        "Explanation: Decodes a string column using a specified character encoding."
      ]
    },
    {
      "cell_type": "code",
      "execution_count": null,
      "metadata": {
        "colab": {
          "base_uri": "https://localhost:8080/"
        },
        "id": "jP2gBfKxwrmU",
        "outputId": "aa757a42-1d12-4086-848d-4ef92ed1c605"
      },
      "outputs": [
        {
          "output_type": "stream",
          "name": "stdout",
          "text": [
            "+---------------+--------+----+---------+--------------------+---------------+\n",
            "|          model|    type|year|driverage|       model_encoded|  model_decoded|\n",
            "+---------------+--------+----+---------+--------------------+---------------+\n",
            "|   Coyota Camry|   Sedan|2022|        5|[20 20 20 43 6F 7...|   Coyota Camry|\n",
            "|   honda Civic2|   Sedan|2022|        6|[68 6F 6E 64 61 2...|   honda Civic2|\n",
            "|   Ford F-15000|   Truck|2022|       15|[46 6F 72 64 20 4...|   Ford F-15000|\n",
            "|     Tesla Mode|Electric|2022|       24|[54 65 73 6C 61 2...|     Tesla Mode|\n",
            "|     Skoda45633|   Rapid|2022|       23|[53 6B 6F 64 61 3...|     Skoda45633|\n",
            "+---------------+--------+----+---------+--------------------+---------------+\n",
            "\n",
            "+--------------------+--------+\n",
            "|       model_encoded|     out|\n",
            "+--------------------+--------+\n",
            "|[20 20 20 43 6F 7...|   Sedan|\n",
            "|[68 6F 6E 64 61 2...|   Sedan|\n",
            "|[46 6F 72 64 20 4...|   Truck|\n",
            "|[54 65 73 6C 61 2...|Electric|\n",
            "|[53 6B 6F 64 61 3...|   Rapid|\n",
            "+--------------------+--------+\n",
            "\n"
          ]
        }
      ],
      "source": [
        "from pyspark.sql.functions import decode\n",
        "\n",
        "# Decode the \"model_encoded\" column using UTF-8 encoding\n",
        "decoded_df = encoded_df\\\n",
        "  .withColumn(\"model_decoded\", decode(col(\"model_encoded\"), \"UTF-8\"))\n",
        "decoded_df.show()\n",
        "\n",
        "\n",
        "\n",
        "encoded_df.createOrReplaceTempView(\"cars_encoded\");\n",
        "\n",
        "trimmed_df = spark\\\n",
        "  .sql(\"SELECT model_encoded ,decode(type,'UTF-8') AS out FROM cars_encoded\");\n",
        "trimmed_df.show()\n",
        "\n"
      ]
    },
    {
      "cell_type": "markdown",
      "metadata": {
        "id": "lvbYDKOuwt0k"
      },
      "source": [
        "format_number(x: Column, d: Int): Column\n",
        "\n",
        "Explanation: Formats a numeric column to a specific number of decimal places."
      ]
    },
    {
      "cell_type": "code",
      "execution_count": null,
      "metadata": {
        "colab": {
          "base_uri": "https://localhost:8080/"
        },
        "id": "MlUO6io6wtOF",
        "outputId": "9667911e-b805-4345-d393-850961481162"
      },
      "outputs": [
        {
          "output_type": "stream",
          "name": "stdout",
          "text": [
            "+---------------+--------+----+---------+-------------+\n",
            "|          model|    type|year|driverage|age_formatted|\n",
            "+---------------+--------+----+---------+-------------+\n",
            "|   Coyota Camry|   Sedan|2022|        5|     2,022.00|\n",
            "|   honda Civic2|   Sedan|2022|        6|     2,022.00|\n",
            "|   Ford F-15000|   Truck|2022|       15|     2,022.00|\n",
            "|     Tesla Mode|Electric|2022|       24|     2,022.00|\n",
            "|     Skoda45633|   Rapid|2022|       23|     2,022.00|\n",
            "+---------------+--------+----+---------+-------------+\n",
            "\n",
            "+---------------+--------+\n",
            "|          model|     out|\n",
            "+---------------+--------+\n",
            "|   Coyota Camry| 5.00000|\n",
            "|   honda Civic2| 6.00000|\n",
            "|   Ford F-15000|15.00000|\n",
            "|     Tesla Mode|24.00000|\n",
            "|     Skoda45633|23.00000|\n",
            "+---------------+--------+\n",
            "\n"
          ]
        }
      ],
      "source": [
        "from pyspark.sql.functions import format_number\n",
        "\n",
        "# Format the \"age\" column to two decimal places\n",
        "formatted_df = df\\\n",
        ".withColumn(\"age_formatted\", format_number(col(\"year\").cast(\"double\"), 2))\n",
        "formatted_df.show()\n",
        "\n",
        "df.createOrReplaceTempView(\"cars\");\n",
        "\n",
        "trimmed_df = spark\\\n",
        "  .sql(\"SELECT model,format_number(driverage,5) AS out FROM cars\");\n",
        "trimmed_df.show()"
      ]
    },
    {
      "cell_type": "markdown",
      "metadata": {
        "id": "dwyiEYz3wyzl"
      },
      "source": [
        "format_string(format: String, arguments: Column): Column*\n",
        "\n",
        "Explanation: Formats a string column using a format string and optional arguments."
      ]
    },
    {
      "cell_type": "code",
      "execution_count": null,
      "metadata": {
        "colab": {
          "base_uri": "https://localhost:8080/"
        },
        "id": "ln0BYhxrw1dN",
        "outputId": "893fa0ff-574e-4b5a-8ad8-1b50fc552664"
      },
      "outputs": [
        {
          "output_type": "stream",
          "name": "stdout",
          "text": [
            "+---------------+--------+----+---------+------------------------------+\n",
            "|model          |type    |year|driverage|formatted_details             |\n",
            "+---------------+--------+----+---------+------------------------------+\n",
            "|   Coyota Camry|Sedan   |2022|5        |   Coyota Camry (Sedan) - 2022|\n",
            "|honda Civic2   |Sedan   |2022|6        |honda Civic2 (Sedan) - 2022   |\n",
            "|Ford F-15000   |Truck   |2022|15       |Ford F-15000 (Truck) - 2022   |\n",
            "|Tesla Mode     |Electric|2022|24       |Tesla Mode (Electric) - 2022  |\n",
            "|Skoda45633     |Rapid   |2022|23       |Skoda45633 (Rapid) - 2022     |\n",
            "+---------------+--------+----+---------+------------------------------+\n",
            "\n",
            "+---------------+--------+----+----------------------------+\n",
            "|model          |type    |year|out                         |\n",
            "+---------------+--------+----+----------------------------+\n",
            "|   Coyota Camry|Sedan   |2022|   Coyota Camry-(Sedan)-2022|\n",
            "|honda Civic2   |Sedan   |2022|honda Civic2-(Sedan)-2022   |\n",
            "|Ford F-15000   |Truck   |2022|Ford F-15000-(Truck)-2022   |\n",
            "|Tesla Mode     |Electric|2022|Tesla Mode-(Electric)-2022  |\n",
            "|Skoda45633     |Rapid   |2022|Skoda45633-(Rapid)-2022     |\n",
            "+---------------+--------+----+----------------------------+\n",
            "\n"
          ]
        }
      ],
      "source": [
        "from pyspark.sql.functions import format_string\n",
        "\n",
        "# Create a formatted string using the \"model,\" \"type,\" and \"year\" columns\n",
        "formatted_string_df = df.withColumn(\n",
        "    \"formatted_details\",\n",
        "    format_string(\"%s (%s) - %s\", col(\"model\"), col(\"type\"), col(\"year\"))\n",
        ")\n",
        "formatted_string_df.show(truncate=False)\n",
        "\n",
        "df.createOrReplaceTempView(\"cars\");\n",
        "\n",
        "trimmed_df = spark.sql(\"SELECT model,type,year,format_string('%s-(%s)-%s' ,model,type,year) AS out FROM cars\");\n",
        "trimmed_df.show(truncate=False)\n",
        "\n",
        " # Coyota Camry (Sedan) - 2022"
      ]
    },
    {
      "cell_type": "code",
      "execution_count": null,
      "metadata": {
        "colab": {
          "base_uri": "https://localhost:8080/"
        },
        "id": "SkIoGfQpw5At",
        "outputId": "ae6ab587-5bae-43d0-c510-1c70f86e2d6b"
      },
      "outputs": [
        {
          "output_type": "stream",
          "name": "stdout",
          "text": [
            "+---------------+--------+----+---------+---------------+\n",
            "|          model|    type|year|driverage|    upper_model|\n",
            "+---------------+--------+----+---------+---------------+\n",
            "|   Coyota Camry|   Sedan|2022|        5|   COYOTA CAMRY|\n",
            "|   honda Civic2|   Sedan|2022|        6|   HONDA CIVIC2|\n",
            "|   Ford F-15000|   Truck|2022|       15|   FORD F-15000|\n",
            "|     Tesla Mode|Electric|2022|       24|     TESLA MODE|\n",
            "|     Skoda45633|   Rapid|2022|       23|     SKODA45633|\n",
            "+---------------+--------+----+---------+---------------+\n",
            "\n",
            "+---------------+---------------+\n",
            "|          model|            out|\n",
            "+---------------+---------------+\n",
            "|   Coyota Camry|   COYOTA CAMRY|\n",
            "|   honda Civic2|   HONDA CIVIC2|\n",
            "|   Ford F-15000|   FORD F-15000|\n",
            "|     Tesla Mode|     TESLA MODE|\n",
            "|     Skoda45633|     SKODA45633|\n",
            "+---------------+---------------+\n",
            "\n"
          ]
        }
      ],
      "source": [
        "from pyspark.sql.functions import upper\n",
        "\n",
        "# Find the position of \"Camry\" in the \"model\" column\n",
        "position_df = df.withColumn(\"upper_model\",upper(col(\"model\")))\n",
        "position_df.show()\n",
        "\n",
        "df.createOrReplaceTempView(\"cars\");\n",
        "\n",
        "trimmed_df = spark.sql(\"SELECT model,upper(model) AS out FROM cars\");\n",
        "trimmed_df.show()"
      ]
    },
    {
      "cell_type": "code",
      "execution_count": null,
      "metadata": {
        "colab": {
          "base_uri": "https://localhost:8080/"
        },
        "id": "Fu-eC8840f8H",
        "outputId": "9648ba78-55c1-433a-9898-8de833582afb"
      },
      "outputs": [
        {
          "output_type": "stream",
          "name": "stdout",
          "text": [
            "+---------------+--------+----+---------+---------------+\n",
            "|          model|    type|year|driverage|    lower_model|\n",
            "+---------------+--------+----+---------+---------------+\n",
            "|   Coyota Camry|   Sedan|2022|        5|   coyota camry|\n",
            "|   honda Civic2|   Sedan|2022|        6|   honda civic2|\n",
            "|   Ford F-15000|   Truck|2022|       15|   ford f-15000|\n",
            "|     Tesla Mode|Electric|2022|       24|     tesla mode|\n",
            "|     Skoda45633|   Rapid|2022|       23|     skoda45633|\n",
            "+---------------+--------+----+---------+---------------+\n",
            "\n",
            "+---------------+---------------+\n",
            "|          model|            out|\n",
            "+---------------+---------------+\n",
            "|   Coyota Camry|   coyota camry|\n",
            "|   honda Civic2|   honda civic2|\n",
            "|   Ford F-15000|   ford f-15000|\n",
            "|     Tesla Mode|     tesla mode|\n",
            "|     Skoda45633|     skoda45633|\n",
            "+---------------+---------------+\n",
            "\n"
          ]
        }
      ],
      "source": [
        "from pyspark.sql.functions import lower\n",
        "\n",
        "# Find the position of \"Camry\" in the \"model\" column\n",
        "position_df = df.withColumn(\"lower_model\",lower(col(\"model\")))\n",
        "position_df.show()\n",
        "\n",
        "df.createOrReplaceTempView(\"cars\");\n",
        "\n",
        "trimmed_df = spark.sql(\"SELECT model,lower(model) AS out FROM cars\");\n",
        "trimmed_df.show()"
      ]
    },
    {
      "cell_type": "markdown",
      "metadata": {
        "id": "oxKdQDcUhim5"
      },
      "source": [
        "https://spark.apache.org/docs/latest/api/python/reference/pyspark.sql/api/pyspark.sql.functions.concat_ws.html\n",
        "\n",
        "\n",
        "https://medium.com/@deepa.account/spark-dataframes-select-vs-withcolumn-31388cecbca9\n",
        "\n",
        "\n",
        "https://spark.apache.org/docs/latest/api/python/reference/pyspark.sql/functions.html\n",
        "\n"
      ]
    }
  ],
  "metadata": {
    "colab": {
      "provenance": [],
      "include_colab_link": true
    },
    "kernelspec": {
      "display_name": "Python 3",
      "name": "python3"
    },
    "language_info": {
      "name": "python"
    }
  },
  "nbformat": 4,
  "nbformat_minor": 0
}