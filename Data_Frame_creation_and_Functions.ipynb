{
  "nbformat": 4,
  "nbformat_minor": 0,
  "metadata": {
    "colab": {
      "provenance": [],
      "authorship_tag": "ABX9TyP8mWtzi9LSqjoh43PJ9DQp",
      "include_colab_link": true
    },
    "kernelspec": {
      "name": "python3",
      "display_name": "Python 3"
    },
    "language_info": {
      "name": "python"
    }
  },
  "cells": [
    {
      "cell_type": "markdown",
      "metadata": {
        "id": "view-in-github",
        "colab_type": "text"
      },
      "source": [
        "<a href=\"https://colab.research.google.com/github/Vasugi2003/Big-Data-Analytics/blob/main/Data_Frame_creation_and_Functions.ipynb\" target=\"_parent\"><img src=\"https://colab.research.google.com/assets/colab-badge.svg\" alt=\"Open In Colab\"/></a>"
      ]
    },
    {
      "cell_type": "code",
      "execution_count": null,
      "metadata": {
        "colab": {
          "base_uri": "https://localhost:8080/"
        },
        "id": "mc0l71m57Mgh",
        "outputId": "bf418169-e9e4-4f47-fa61-f6eeaeb277f7"
      },
      "outputs": [
        {
          "output_type": "stream",
          "name": "stdout",
          "text": [
            "Collecting pyspark\n",
            "  Downloading pyspark-3.4.1.tar.gz (310.8 MB)\n",
            "\u001b[2K     \u001b[90m━━━━━━━━━━━━━━━━━━━━━━━━━━━━━━━━━━━━━━━\u001b[0m \u001b[32m310.8/310.8 MB\u001b[0m \u001b[31m4.5 MB/s\u001b[0m eta \u001b[36m0:00:00\u001b[0m\n",
            "\u001b[?25h  Preparing metadata (setup.py) ... \u001b[?25l\u001b[?25hdone\n",
            "Requirement already satisfied: py4j==0.10.9.7 in /usr/local/lib/python3.10/dist-packages (from pyspark) (0.10.9.7)\n",
            "Building wheels for collected packages: pyspark\n",
            "  Building wheel for pyspark (setup.py) ... \u001b[?25l\u001b[?25hdone\n",
            "  Created wheel for pyspark: filename=pyspark-3.4.1-py2.py3-none-any.whl size=311285388 sha256=c4ed2933686c666ea69a5f9768338a5f81c206e4ec1c385bc0fbbfb1fdf543d0\n",
            "  Stored in directory: /root/.cache/pip/wheels/0d/77/a3/ff2f74cc9ab41f8f594dabf0579c2a7c6de920d584206e0834\n",
            "Successfully built pyspark\n",
            "Installing collected packages: pyspark\n",
            "Successfully installed pyspark-3.4.1\n"
          ]
        }
      ],
      "source": [
        "!pip install pyspark"
      ]
    },
    {
      "cell_type": "code",
      "source": [
        "from pyspark.sql import SparkSession\n",
        "spark = SparkSession.builder.appName('sparkExample.com').getOrCreate()\n"
      ],
      "metadata": {
        "id": "GIdCef-q7pXP"
      },
      "execution_count": null,
      "outputs": []
    },
    {
      "cell_type": "code",
      "source": [
        "emptyRDD = spark.sparkContext.emptyRDD()\n",
        "print(emptyRDD)"
      ],
      "metadata": {
        "colab": {
          "base_uri": "https://localhost:8080/"
        },
        "id": "Dflc7h_O8fJW",
        "outputId": "11550f4c-3bf3-4aad-c4f4-ae0361377fa9"
      },
      "execution_count": null,
      "outputs": [
        {
          "output_type": "stream",
          "name": "stdout",
          "text": [
            "EmptyRDD[0] at emptyRDD at NativeMethodAccessorImpl.java:0\n"
          ]
        }
      ]
    },
    {
      "cell_type": "code",
      "source": [
        "dept = [(\"finance\",10),(\"market\",20),(\"sales\",30)]\n",
        "rdd = spark.sparkContext.parallelize(dept)\n",
        "df = rdd.toDF()\n",
        "df.printSchema()\n",
        "df.show()"
      ],
      "metadata": {
        "colab": {
          "base_uri": "https://localhost:8080/"
        },
        "id": "qvNakquc8G9X",
        "outputId": "b5ed8736-3191-4b62-9701-765164816696"
      },
      "execution_count": null,
      "outputs": [
        {
          "output_type": "stream",
          "name": "stdout",
          "text": [
            "root\n",
            " |-- _1: string (nullable = true)\n",
            " |-- _2: long (nullable = true)\n",
            "\n",
            "+-------+---+\n",
            "|     _1| _2|\n",
            "+-------+---+\n",
            "|finance| 10|\n",
            "| market| 20|\n",
            "|  sales| 30|\n",
            "+-------+---+\n",
            "\n"
          ]
        }
      ]
    },
    {
      "cell_type": "code",
      "source": [
        "from pyspark.sql.types import StructType,StructField,StringType\n",
        "schema = StructType([StructField('First name', StringType(), True),StructField('Middle name', StringType(), True),StructField('Last name', StringType(), True)])\n",
        "df = spark.createDataFrame(emptyRDD,schema)\n",
        "df.printSchema()"
      ],
      "metadata": {
        "colab": {
          "base_uri": "https://localhost:8080/"
        },
        "id": "6Tcm-kK98ccm",
        "outputId": "93220177-4411-480d-f355-80e3b1f13913"
      },
      "execution_count": null,
      "outputs": [
        {
          "output_type": "stream",
          "name": "stdout",
          "text": [
            "root\n",
            " |-- First name: string (nullable = true)\n",
            " |-- Middle name: string (nullable = true)\n",
            " |-- Last name: string (nullable = true)\n",
            "\n"
          ]
        }
      ]
    },
    {
      "cell_type": "code",
      "source": [
        "#create empty data frame directly\n",
        "\n",
        "df1 = emptyRDD.toDF(schema)\n",
        "df1.printSchema()"
      ],
      "metadata": {
        "colab": {
          "base_uri": "https://localhost:8080/"
        },
        "id": "PPHuAY1d9_WW",
        "outputId": "78aa77ae-19c5-4d04-b310-7b551ec75c02"
      },
      "execution_count": null,
      "outputs": [
        {
          "output_type": "stream",
          "name": "stdout",
          "text": [
            "root\n",
            " |-- First name: string (nullable = true)\n",
            " |-- Middle name: string (nullable = true)\n",
            " |-- Last name: string (nullable = true)\n",
            "\n"
          ]
        }
      ]
    },
    {
      "cell_type": "code",
      "source": [
        "df2 = spark.createDataFrame([],schema)\n",
        "df2.printSchema()"
      ],
      "metadata": {
        "colab": {
          "base_uri": "https://localhost:8080/"
        },
        "id": "RaXdhNH7-SZ3",
        "outputId": "8837f143-87a5-4e04-bf42-e3094f16819b"
      },
      "execution_count": null,
      "outputs": [
        {
          "output_type": "stream",
          "name": "stdout",
          "text": [
            "root\n",
            " |-- First name: string (nullable = true)\n",
            " |-- Middle name: string (nullable = true)\n",
            " |-- Last name: string (nullable = true)\n",
            "\n"
          ]
        }
      ]
    },
    {
      "cell_type": "code",
      "source": [
        "df3 = spark.createDataFrame([],StructType([]))\n",
        "df3.printSchema()"
      ],
      "metadata": {
        "colab": {
          "base_uri": "https://localhost:8080/"
        },
        "id": "OUXJBw_c-SdO",
        "outputId": "16332a1f-a8e3-4351-cc97-7c4b77ff277c"
      },
      "execution_count": null,
      "outputs": [
        {
          "output_type": "stream",
          "name": "stdout",
          "text": [
            "root\n",
            "\n"
          ]
        }
      ]
    },
    {
      "cell_type": "code",
      "source": [
        "#ADDING COLUMNS TO DATA FRAME\n",
        "dept_column = ['dept_name',\"id\"]\n",
        "df2=rdd.toDF(dept_column)\n",
        "df2.printSchema()\n",
        "df2.show()"
      ],
      "metadata": {
        "colab": {
          "base_uri": "https://localhost:8080/"
        },
        "id": "xbXjcR9g-Sg3",
        "outputId": "f55ec09b-e140-4c19-89eb-5350daa3aa85"
      },
      "execution_count": null,
      "outputs": [
        {
          "output_type": "stream",
          "name": "stdout",
          "text": [
            "root\n",
            " |-- dept_name: string (nullable = true)\n",
            " |-- id: long (nullable = true)\n",
            "\n",
            "+---------+---+\n",
            "|dept_name| id|\n",
            "+---------+---+\n",
            "|  finance| 10|\n",
            "|   market| 20|\n",
            "|    sales| 30|\n",
            "+---------+---+\n",
            "\n"
          ]
        }
      ]
    },
    {
      "cell_type": "code",
      "source": [
        "from pyspark.sql.types import StructType,StructField,StringType,IntegerType\n",
        "dataStruct =[((\"james\",\"\",\"smith\"),\"36636\",\"M\",\"3000\"),\\\n",
        "             ((\"michale\",\"\",\"rose\"),\"76868\",\"M\",\"4000\"),\\\n",
        "             ((\"rani\",\"\",\"rose\"),\"86869\",\"F\",\"4000\"),\\\n",
        "             ((\"siva\",\"\",\"mani\"),\"43525\",\"M\",\"4880\"),\\\n",
        "             ((\"vasu\",\"\",\"kavi\"),\"22347\",\"F\",\"50508\"),\\\n",
        "             ((\"bhavi\",\"\",\"sri\"),\"8897\",\"F\",\"4098\"),\\\n",
        "             ((\"rithu\",\"\",\"kalai\"),\"6447\",\"F\",\"5000\"),\\\n",
        "             ((\"vasu\",\"\",\"DHARU\"),\"8837\",\"F\",\"6678\"),\\\n",
        "]\n",
        "schemaStruct = StructType([\n",
        "      StructField('name',StructType([\n",
        "      StructField('firstname',StringType(),True),\n",
        "      StructField('middle name',StringType(),True),\n",
        "      StructField('lastname',StringType(),True)\n",
        "      ])),\n",
        "      StructField('dob',StringType(),True),\n",
        "      StructField('gender',StringType(),True),\n",
        "      StructField('salary',StringType(),True),\n",
        "])\n",
        "df = spark.createDataFrame(data=dataStruct, schema = schemaStruct)\n",
        "df.printSchema()\n",
        "pandasDF2 = df.toPandas()\n",
        "print(pandasDF2)\n"
      ],
      "metadata": {
        "id": "EG9hzvjJ-SrG",
        "colab": {
          "base_uri": "https://localhost:8080/"
        },
        "outputId": "f5a2b988-2cde-4a4d-e23a-6f30617553ae"
      },
      "execution_count": null,
      "outputs": [
        {
          "output_type": "stream",
          "name": "stdout",
          "text": [
            "root\n",
            " |-- name: struct (nullable = true)\n",
            " |    |-- firstname: string (nullable = true)\n",
            " |    |-- middle name: string (nullable = true)\n",
            " |    |-- lastname: string (nullable = true)\n",
            " |-- dob: string (nullable = true)\n",
            " |-- gender: string (nullable = true)\n",
            " |-- salary: string (nullable = true)\n",
            "\n",
            "                name    dob gender salary\n",
            "0   (james, , smith)  36636      M   3000\n",
            "1  (michale, , rose)  76868      M   4000\n",
            "2     (rani, , rose)  86869      F   4000\n",
            "3     (siva, , mani)  43525      M   4880\n",
            "4     (vasu, , kavi)  22347      F  50508\n",
            "5     (bhavi, , sri)   8897      F   4098\n",
            "6   (rithu, , kalai)   6447      F   5000\n",
            "7    (vasu, , DHARU)   8837      F   6678\n"
          ]
        }
      ]
    },
    {
      "cell_type": "code",
      "source": [
        "df.show()"
      ],
      "metadata": {
        "colab": {
          "base_uri": "https://localhost:8080/"
        },
        "id": "NQskUHgnsAGN",
        "outputId": "d1fab1f2-b281-47d0-a2f6-593a2cd10812"
      },
      "execution_count": null,
      "outputs": [
        {
          "output_type": "stream",
          "name": "stdout",
          "text": [
            "+-----------------+-----+------+------+\n",
            "|             name|  dob|gender|salary|\n",
            "+-----------------+-----+------+------+\n",
            "| {james, , smith}|36636|     M|  3000|\n",
            "|{michale, , rose}|76868|     M|  4000|\n",
            "|   {rani, , rose}|86869|     F|  4000|\n",
            "|   {siva, , mani}|43525|     M|  4880|\n",
            "|   {vasu, , kavi}|22347|     F| 50508|\n",
            "|   {bhavi, , sri}| 8897|     F|  4098|\n",
            "| {rithu, , kalai}| 6447|     F|  5000|\n",
            "|  {vasu, , DHARU}| 8837|     F|  6678|\n",
            "+-----------------+-----+------+------+\n",
            "\n"
          ]
        }
      ]
    },
    {
      "cell_type": "code",
      "source": [
        "df.select(\"gender\").show()"
      ],
      "metadata": {
        "colab": {
          "base_uri": "https://localhost:8080/"
        },
        "id": "khkGcBYSuEFM",
        "outputId": "45555d7f-05a2-4115-fd1c-80b892575fdc"
      },
      "execution_count": null,
      "outputs": [
        {
          "output_type": "stream",
          "name": "stdout",
          "text": [
            "+------+\n",
            "|gender|\n",
            "+------+\n",
            "|     M|\n",
            "|     M|\n",
            "|     F|\n",
            "|     M|\n",
            "|     F|\n",
            "|     F|\n",
            "|     F|\n",
            "|     F|\n",
            "+------+\n",
            "\n"
          ]
        }
      ]
    },
    {
      "cell_type": "code",
      "source": [
        "df.filter(df.salary==\"3000\").show(truncate=False)"
      ],
      "metadata": {
        "colab": {
          "base_uri": "https://localhost:8080/"
        },
        "id": "6Dmlm3Z3uMWT",
        "outputId": "91942a56-6394-4555-951b-d29a5e5ca4d8"
      },
      "execution_count": null,
      "outputs": [
        {
          "output_type": "stream",
          "name": "stdout",
          "text": [
            "+----------------+-----+------+------+\n",
            "|name            |dob  |gender|salary|\n",
            "+----------------+-----+------+------+\n",
            "|{james, , smith}|36636|M     |3000  |\n",
            "+----------------+-----+------+------+\n",
            "\n"
          ]
        }
      ]
    },
    {
      "cell_type": "code",
      "source": [
        "df.filter(df.salary != \"4000\").show(truncate=False)"
      ],
      "metadata": {
        "colab": {
          "base_uri": "https://localhost:8080/"
        },
        "id": "_dXlQZIgutbZ",
        "outputId": "37eea83a-8360-49dd-fed3-61532bbb1f81"
      },
      "execution_count": null,
      "outputs": [
        {
          "output_type": "stream",
          "name": "stdout",
          "text": [
            "+----------------+-----+------+------+\n",
            "|name            |dob  |gender|salary|\n",
            "+----------------+-----+------+------+\n",
            "|{james, , smith}|36636|M     |3000  |\n",
            "|{siva, , mani}  |43525|M     |4880  |\n",
            "|{vasu, , kavi}  |22347|F     |50508 |\n",
            "|{bhavi, , sri}  |8897 |F     |4098  |\n",
            "|{rithu, , kalai}|6447 |F     |5000  |\n",
            "|{vasu, , DHARU} |8837 |F     |6678  |\n",
            "+----------------+-----+------+------+\n",
            "\n"
          ]
        }
      ]
    },
    {
      "cell_type": "code",
      "source": [
        "df.filter(~(df.salary==\"4000\"))\\\n",
        "     .show(truncate=False)"
      ],
      "metadata": {
        "colab": {
          "base_uri": "https://localhost:8080/"
        },
        "id": "hMa9zGitu6lJ",
        "outputId": "df763342-3fc9-499d-d472-0337bafd5fd6"
      },
      "execution_count": null,
      "outputs": [
        {
          "output_type": "stream",
          "name": "stdout",
          "text": [
            "+----------------+-----+------+------+\n",
            "|name            |dob  |gender|salary|\n",
            "+----------------+-----+------+------+\n",
            "|{james, , smith}|36636|M     |3000  |\n",
            "|{siva, , mani}  |43525|M     |4880  |\n",
            "|{vasu, , kavi}  |22347|F     |50508 |\n",
            "|{bhavi, , sri}  |8897 |F     |4098  |\n",
            "|{rithu, , kalai}|6447 |F     |5000  |\n",
            "|{vasu, , DHARU} |8837 |F     |6678  |\n",
            "+----------------+-----+------+------+\n",
            "\n"
          ]
        }
      ]
    },
    {
      "cell_type": "code",
      "source": [
        "#filter multiple condition\n",
        "\n",
        "df.filter((df.gender==\"F\") & (df.salary >\"4000\")).show(truncate=False)"
      ],
      "metadata": {
        "colab": {
          "base_uri": "https://localhost:8080/"
        },
        "id": "Efk4GH5rvvYl",
        "outputId": "947b1b29-1eff-4ae6-efa2-b1bfaef9d19c"
      },
      "execution_count": null,
      "outputs": [
        {
          "output_type": "stream",
          "name": "stdout",
          "text": [
            "+----------------+-----+------+------+\n",
            "|name            |dob  |gender|salary|\n",
            "+----------------+-----+------+------+\n",
            "|{vasu, , kavi}  |22347|F     |50508 |\n",
            "|{bhavi, , sri}  |8897 |F     |4098  |\n",
            "|{rithu, , kalai}|6447 |F     |5000  |\n",
            "|{vasu, , DHARU} |8837 |F     |6678  |\n",
            "+----------------+-----+------+------+\n",
            "\n"
          ]
        }
      ]
    },
    {
      "cell_type": "code",
      "source": [
        "df.filter((df.gender==\"F\") | (df.salary >\"4000\")).show(truncate=False)"
      ],
      "metadata": {
        "colab": {
          "base_uri": "https://localhost:8080/"
        },
        "id": "t9LMud6Svvcb",
        "outputId": "d2d65048-8bcb-4b17-9ec1-1f6ec06acd82"
      },
      "execution_count": null,
      "outputs": [
        {
          "output_type": "stream",
          "name": "stdout",
          "text": [
            "+----------------+-----+------+------+\n",
            "|name            |dob  |gender|salary|\n",
            "+----------------+-----+------+------+\n",
            "|{rani, , rose}  |86869|F     |4000  |\n",
            "|{siva, , mani}  |43525|M     |4880  |\n",
            "|{vasu, , kavi}  |22347|F     |50508 |\n",
            "|{bhavi, , sri}  |8897 |F     |4098  |\n",
            "|{rithu, , kalai}|6447 |F     |5000  |\n",
            "|{vasu, , DHARU} |8837 |F     |6678  |\n",
            "+----------------+-----+------+------+\n",
            "\n"
          ]
        }
      ]
    },
    {
      "cell_type": "code",
      "source": [
        "LI = [\"4000\",\"4098\"]\n",
        "df.filter(df.salary.isin(LI)).show()"
      ],
      "metadata": {
        "colab": {
          "base_uri": "https://localhost:8080/"
        },
        "id": "58DSUY5zvMMl",
        "outputId": "b07bac4d-37d9-4ecd-f188-63def4e8995b"
      },
      "execution_count": null,
      "outputs": [
        {
          "output_type": "stream",
          "name": "stdout",
          "text": [
            "+-----------------+-----+------+------+\n",
            "|             name|  dob|gender|salary|\n",
            "+-----------------+-----+------+------+\n",
            "|{michale, , rose}|76868|     M|  4000|\n",
            "|   {rani, , rose}|86869|     F|  4000|\n",
            "|   {bhavi, , sri}| 8897|     F|  4098|\n",
            "+-----------------+-----+------+------+\n",
            "\n"
          ]
        }
      ]
    },
    {
      "cell_type": "code",
      "source": [],
      "metadata": {
        "id": "iVJ_8jygxJOq"
      },
      "execution_count": null,
      "outputs": []
    }
  ]
}