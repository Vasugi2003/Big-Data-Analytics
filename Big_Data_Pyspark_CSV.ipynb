{
  "nbformat": 4,
  "nbformat_minor": 0,
  "metadata": {
    "colab": {
      "provenance": [],
      "authorship_tag": "ABX9TyPMp/L4rmUOBbM1vU7stzuZ",
      "include_colab_link": true
    },
    "kernelspec": {
      "name": "python3",
      "display_name": "Python 3"
    },
    "language_info": {
      "name": "python"
    }
  },
  "cells": [
    {
      "cell_type": "markdown",
      "metadata": {
        "id": "view-in-github",
        "colab_type": "text"
      },
      "source": [
        "<a href=\"https://colab.research.google.com/github/Vasugi2003/Big-Data-Analytics/blob/main/Big_Data_Pyspark_CSV.ipynb\" target=\"_parent\"><img src=\"https://colab.research.google.com/assets/colab-badge.svg\" alt=\"Open In Colab\"/></a>"
      ]
    },
    {
      "cell_type": "code",
      "execution_count": null,
      "metadata": {
        "colab": {
          "base_uri": "https://localhost:8080/"
        },
        "id": "DH10khgSBJmQ",
        "outputId": "e995039d-d3c4-46bf-cb75-a493a5ce2079"
      },
      "outputs": [
        {
          "output_type": "stream",
          "name": "stdout",
          "text": [
            "Collecting pyspark\n",
            "  Downloading pyspark-3.4.1.tar.gz (310.8 MB)\n",
            "\u001b[2K     \u001b[90m━━━━━━━━━━━━━━━━━━━━━━━━━━━━━━━━━━━━━━━\u001b[0m \u001b[32m310.8/310.8 MB\u001b[0m \u001b[31m3.7 MB/s\u001b[0m eta \u001b[36m0:00:00\u001b[0m\n",
            "\u001b[?25h  Preparing metadata (setup.py) ... \u001b[?25l\u001b[?25hdone\n",
            "Requirement already satisfied: py4j==0.10.9.7 in /usr/local/lib/python3.10/dist-packages (from pyspark) (0.10.9.7)\n",
            "Building wheels for collected packages: pyspark\n",
            "  Building wheel for pyspark (setup.py) ... \u001b[?25l\u001b[?25hdone\n",
            "  Created wheel for pyspark: filename=pyspark-3.4.1-py2.py3-none-any.whl size=311285387 sha256=87248c55bdfdf3607698f9c20ac1028fd5ec8715d4ffd178508736b61fb9e6f0\n",
            "  Stored in directory: /root/.cache/pip/wheels/0d/77/a3/ff2f74cc9ab41f8f594dabf0579c2a7c6de920d584206e0834\n",
            "Successfully built pyspark\n",
            "Installing collected packages: pyspark\n",
            "Successfully installed pyspark-3.4.1\n"
          ]
        }
      ],
      "source": [
        "!pip install pyspark\n",
        "\n",
        "from pyspark.sql import SparkSession\n",
        "spark = SparkSession.builder.appName('SparkExample.com').getOrCreate()"
      ]
    },
    {
      "cell_type": "code",
      "source": [
        "dfs = spark.read.csv(\"/content/Data Science Jobs Salaries.csv\")\n",
        "dfs.show()"
      ],
      "metadata": {
        "colab": {
          "base_uri": "https://localhost:8080/"
        },
        "id": "Nyobl8VKBuTR",
        "outputId": "0ba86d3c-b5be-4a5a-f065-c2a5c6781e0f"
      },
      "execution_count": null,
      "outputs": [
        {
          "output_type": "stream",
          "name": "stdout",
          "text": [
            "+---------+----------------+---------------+--------------------+------+---------------+-------------+------------------+------------+----------------+------------+\n",
            "|      _c0|             _c1|            _c2|                 _c3|   _c4|            _c5|          _c6|               _c7|         _c8|             _c9|        _c10|\n",
            "+---------+----------------+---------------+--------------------+------+---------------+-------------+------------------+------------+----------------+------------+\n",
            "|work_year|experience_level|employment_type|           job_title|salary|salary_currency|salary_in_usd|employee_residence|remote_ratio|company_location|company_size|\n",
            "|    2021e|              EN|             FT|Data Science Cons...| 54000|            EUR|        64369|                DE|          50|              DE|           L|\n",
            "|     2020|              SE|             FT|      Data Scientist| 60000|            EUR|        68428|                GR|         100|              US|           L|\n",
            "|    2021e|              EX|             FT|Head of Data Science| 85000|            USD|        85000|                RU|           0|              RU|           M|\n",
            "|    2021e|              EX|             FT|        Head of Data|230000|            USD|       230000|                RU|          50|              RU|           L|\n",
            "|    2021e|              EN|             FT|Machine Learning ...|125000|            USD|       125000|                US|         100|              US|           S|\n",
            "|    2021e|              SE|             FT|Data Analytics Ma...|120000|            USD|       120000|                US|         100|              US|           M|\n",
            "|     2020|              MI|             FT|  Research Scientist|450000|            USD|       450000|                US|           0|              US|           M|\n",
            "|     2020|              MI|             FT|        Data Analyst| 41000|            EUR|        46759|                FR|          50|              FR|           L|\n",
            "|     2020|              MI|             FT|       Data Engineer| 65000|            EUR|        74130|                AT|          50|              AT|           L|\n",
            "|    2021e|              SE|             FT|Data Science Engi...|159500|            CAD|       127543|                CA|          50|              CA|           L|\n",
            "|    2021e|              SE|             FT|Manager Data Science|144000|            USD|       144000|                US|         100|              US|           L|\n",
            "|    2021e|              EN|             FT|      Data Scientist| 13400|            USD|        13400|                UA|         100|              UA|           L|\n",
            "|    2021e|              MI|             FT|      Data Scientist| 95000|            CAD|        75966|                CA|         100|              CA|           L|\n",
            "|    2021e|              MI|             FT|      Data Scientist|150000|            USD|       150000|                US|         100|              US|           M|\n",
            "|     2020|              MI|             FT|Data Science Cons...|103000|            USD|       103000|                US|         100|              US|           L|\n",
            "|    2021e|              SE|             FT|Data Engineering ...|153000|            USD|       153000|                US|         100|              US|           L|\n",
            "|    2021e|              MI|             FT|       Data Engineer| 90000|            USD|        90000|                US|         100|              US|           L|\n",
            "|    2021e|              EN|             FT|        Data Analyst| 90000|            USD|        90000|                US|         100|              US|           S|\n",
            "|    2021e|              EN|             FT|        Data Analyst| 60000|            USD|        60000|                US|         100|              US|           S|\n",
            "+---------+----------------+---------------+--------------------+------+---------------+-------------+------------------+------------+----------------+------------+\n",
            "only showing top 20 rows\n",
            "\n"
          ]
        }
      ]
    },
    {
      "cell_type": "code",
      "source": [
        "data = [[\"21adr015\",\"banu\",\"kec\",\"ai\",88,98],\n",
        "        [\"21adr021\",\"kavi\",\"psg\",\"it\",90,95],\n",
        "        [\"21adr054\",\"preethi\",\"kec\",\"aiu\",77,80],\n",
        "        [\"21adr099\",\"saran\",\"kec\",\"cse\",99,65],\n",
        "        [\"21adr009\",\"ram\",\"kec\",\"ai\",79,65],\n",
        "        [\"21adr091\",\"jeeva\",\"psg\",\"cse\",99,65],\n",
        "        [\"21adr039\",\"ramya\",\"kec\",\"it\",50,80],\n",
        "        [\"21adr018\",\"karan\",\"psg\",\"cse\",67,75],\n",
        "        [\"21adr027\",\"vino\",\"kec\",\"it\",88,87],\n",
        "        [\"21adr087\",\"sathish\",\"kec\",\"cse\",57,54],\n",
        "        [\"21adr053\",\"karthi\",\"kec\",\"it\",88,90],\n",
        "        [\"21adr001\",\"abi\",\"psg\",\"ai\",95,63]]"
      ],
      "metadata": {
        "id": "P9130d5RBucZ"
      },
      "execution_count": null,
      "outputs": []
    },
    {
      "cell_type": "code",
      "source": [
        "code = ['id','name','college','dept','sub1','sub2']\n",
        "df = spark.createDataFrame(data,code)\n",
        "df.show()"
      ],
      "metadata": {
        "colab": {
          "base_uri": "https://localhost:8080/"
        },
        "id": "vTn6ElJfEsCL",
        "outputId": "a54c4298-86fc-41fa-a254-5b1412a3ca5b"
      },
      "execution_count": null,
      "outputs": [
        {
          "output_type": "stream",
          "name": "stdout",
          "text": [
            "+--------+-------+-------+----+----+----+\n",
            "|      id|   name|college|dept|sub1|sub2|\n",
            "+--------+-------+-------+----+----+----+\n",
            "|21adr015|   banu|    kec|  ai|  88|  98|\n",
            "|21adr021|   kavi|    psg|  it|  90|  95|\n",
            "|21adr054|preethi|    kec| aiu|  77|  80|\n",
            "|21adr099|  saran|    kec| cse|  99|  65|\n",
            "|21adr009|    ram|    kec|  ai|  79|  65|\n",
            "|21adr091|  jeeva|    psg| cse|  99|  65|\n",
            "|21adr039|  ramya|    kec|  it|  50|  80|\n",
            "|21adr018|  karan|    psg| cse|  67|  75|\n",
            "|21adr027|   vino|    kec|  it|  88|  87|\n",
            "|21adr087|sathish|    kec| cse|  57|  54|\n",
            "|21adr053| karthi|    kec|  it|  88|  90|\n",
            "|21adr001|    abi|    psg|  ai|  95|  63|\n",
            "+--------+-------+-------+----+----+----+\n",
            "\n"
          ]
        }
      ]
    },
    {
      "cell_type": "code",
      "source": [
        "df.write.csv('file1.csv')"
      ],
      "metadata": {
        "id": "e6IFG7BIEsFi"
      },
      "execution_count": null,
      "outputs": []
    },
    {
      "cell_type": "code",
      "source": [
        "df.show()"
      ],
      "metadata": {
        "colab": {
          "base_uri": "https://localhost:8080/"
        },
        "id": "02JdQYHsEsLi",
        "outputId": "4168a7e6-b38c-4133-b23e-79777b537d45"
      },
      "execution_count": null,
      "outputs": [
        {
          "output_type": "stream",
          "name": "stdout",
          "text": [
            "+--------+-------+-------+----+----+----+\n",
            "|      id|   name|college|dept|sub1|sub2|\n",
            "+--------+-------+-------+----+----+----+\n",
            "|21adr015|   banu|    kec|  ai|  88|  98|\n",
            "|21adr021|   kavi|    psg|  it|  90|  95|\n",
            "|21adr054|preethi|    kec| aiu|  77|  80|\n",
            "|21adr099|  saran|    kec| cse|  99|  65|\n",
            "|21adr009|    ram|    kec|  ai|  79|  65|\n",
            "|21adr091|  jeeva|    psg| cse|  99|  65|\n",
            "|21adr039|  ramya|    kec|  it|  50|  80|\n",
            "|21adr018|  karan|    psg| cse|  67|  75|\n",
            "|21adr027|   vino|    kec|  it|  88|  87|\n",
            "|21adr087|sathish|    kec| cse|  57|  54|\n",
            "|21adr053| karthi|    kec|  it|  88|  90|\n",
            "|21adr001|    abi|    psg|  ai|  95|  63|\n",
            "+--------+-------+-------+----+----+----+\n",
            "\n"
          ]
        }
      ]
    },
    {
      "cell_type": "code",
      "source": [],
      "metadata": {
        "id": "r6ABDaHoEsOk"
      },
      "execution_count": null,
      "outputs": []
    },
    {
      "cell_type": "code",
      "source": [],
      "metadata": {
        "id": "TylkCUjJBkdy"
      },
      "execution_count": null,
      "outputs": []
    }
  ]
}